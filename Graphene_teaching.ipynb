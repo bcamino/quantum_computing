{
 "cells": [
  {
   "cell_type": "markdown",
   "id": "7a75d719",
   "metadata": {},
   "source": [
    "# QA simulation of vacancies in graphene explained"
   ]
  },
  {
   "cell_type": "markdown",
   "id": "141fd61f",
   "metadata": {},
   "source": [
    "## The model"
   ]
  },
  {
   "cell_type": "markdown",
   "id": "2b8f31ed",
   "metadata": {},
   "source": [
    "In this tutorial, we are going to use a simple model to calculate the energy of vacancies in graphene.\n",
    "\n",
    "**The material**\n",
    "\n",
    "The chemical system we are going to study is a graphene sheet. In order to be able to calculate the energy of up to three vacancies, we are going to use a 3x3 supercell of the primitive cell.\n",
    "\n",
    "Let's first build the system. For this task we are going to be using a python library called pymatgen. pymatgen is a very powerful tool developed as part of the Materials Project. It can be used to create, modify, analyse 3D systems. Don't worry if you are not familiar with pymatgen, we are only going to use it to generate the structure and every step is explained.\n",
    "\n",
    "First we need to import the two objects that we are going to use to generate the graphene structure, which is called Structure:"
   ]
  },
  {
   "cell_type": "code",
   "execution_count": 1,
   "id": "5ee78e2c",
   "metadata": {},
   "outputs": [],
   "source": [
    "from pymatgen.core.structure import Structure"
   ]
  },
  {
   "cell_type": "markdown",
   "id": "b216a9fc",
   "metadata": {},
   "source": [
    "We are going to use numpy to define the lattice as a 3x3 matrix:"
   ]
  },
  {
   "cell_type": "code",
   "execution_count": 4,
   "id": "358fb3e6",
   "metadata": {},
   "outputs": [],
   "source": [
    "import numpy as np\n",
    "\n",
    "lattice = np.array([[ 1.233862, -2.137112,  0.      ],\n",
    "                   [ 1.233862,  2.137112,  0.      ],\n",
    "                   [ 0.      ,  0.      ,  8.685038]])"
   ]
  },
  {
   "cell_type": "markdown",
   "id": "9e575145",
   "metadata": {},
   "source": [
    "The Structure object requires three pieces on informations: the lattice, the species and the fractional coordinates of these species in the cell defined by lattice. So, we are going to create and inspect what information is in the graphene object by displaying it."
   ]
  },
  {
   "cell_type": "code",
   "execution_count": 12,
   "id": "2e743bc9",
   "metadata": {},
   "outputs": [
    {
     "data": {
      "text/plain": [
       "Structure Summary\n",
       "Lattice\n",
       "    abc : 2.4677242827325747 2.4677242827325747 8.685038\n",
       " angles : 90.0 90.0 120.00000758003493\n",
       " volume : 45.80317575176706\n",
       "      A : 1.233862 -2.137112 0.0\n",
       "      B : 1.233862 2.137112 0.0\n",
       "      C : 0.0 0.0 8.685038\n",
       "PeriodicSite: C (1.2339, -0.7124, 0.0000) [0.6667, 0.3333, 0.0000]\n",
       "PeriodicSite: C (1.2339, 0.7124, 0.0000) [0.3333, 0.6667, 0.0000]"
      ]
     },
     "metadata": {},
     "output_type": "display_data"
    }
   ],
   "source": [
    "graphene = Structure(lattice, species=['C','C'], coords=[[2/3, 1/3, 0. ],[1/3, 2/3, 0.]])\n",
    "display(graphene)"
   ]
  },
  {
   "cell_type": "markdown",
   "id": "6d6e414f",
   "metadata": {},
   "source": [
    "The supercell can be created by using the pymatgen make_supercell function. First we need to define the expansion matrix:"
   ]
  },
  {
   "cell_type": "code",
   "execution_count": 17,
   "id": "51bdba87",
   "metadata": {},
   "outputs": [
    {
     "data": {
      "text/plain": [
       "Structure Summary\n",
       "Lattice\n",
       "    abc : 7.403172848197724 7.403172848197724 8.685038\n",
       " angles : 90.0 90.0 120.00000758003493\n",
       " volume : 412.2285817659035\n",
       "      A : 3.701586 -6.411336 0.0\n",
       "      B : 3.701586 6.411336 0.0\n",
       "      C : 0.0 0.0 8.685038\n",
       "PeriodicSite: C (1.2339, -0.7124, 0.0000) [0.2222, 0.1111, 0.0000]\n",
       "PeriodicSite: C (2.4677, 1.4247, 0.0000) [0.2222, 0.4444, 0.0000]\n",
       "PeriodicSite: C (3.7016, 3.5619, 0.0000) [0.2222, 0.7778, 0.0000]\n",
       "PeriodicSite: C (2.4677, -2.8495, 0.0000) [0.5556, 0.1111, 0.0000]\n",
       "PeriodicSite: C (3.7016, -0.7124, 0.0000) [0.5556, 0.4444, 0.0000]\n",
       "PeriodicSite: C (4.9354, 1.4247, 0.0000) [0.5556, 0.7778, 0.0000]\n",
       "PeriodicSite: C (3.7016, -4.9866, 0.0000) [0.8889, 0.1111, 0.0000]\n",
       "PeriodicSite: C (4.9354, -2.8495, 0.0000) [0.8889, 0.4444, 0.0000]\n",
       "PeriodicSite: C (6.1693, -0.7124, 0.0000) [0.8889, 0.7778, 0.0000]\n",
       "PeriodicSite: C (1.2339, 0.7124, 0.0000) [0.1111, 0.2222, 0.0000]\n",
       "PeriodicSite: C (2.4677, 2.8495, 0.0000) [0.1111, 0.5556, 0.0000]\n",
       "PeriodicSite: C (3.7016, 4.9866, 0.0000) [0.1111, 0.8889, 0.0000]\n",
       "PeriodicSite: C (2.4677, -1.4247, 0.0000) [0.4444, 0.2222, 0.0000]\n",
       "PeriodicSite: C (3.7016, 0.7124, 0.0000) [0.4444, 0.5556, 0.0000]\n",
       "PeriodicSite: C (4.9354, 2.8495, 0.0000) [0.4444, 0.8889, 0.0000]\n",
       "PeriodicSite: C (3.7016, -3.5619, 0.0000) [0.7778, 0.2222, 0.0000]\n",
       "PeriodicSite: C (4.9354, -1.4247, 0.0000) [0.7778, 0.5556, 0.0000]\n",
       "PeriodicSite: C (6.1693, 0.7124, 0.0000) [0.7778, 0.8889, 0.0000]"
      ]
     },
     "metadata": {},
     "output_type": "display_data"
    }
   ],
   "source": [
    "import copy \n",
    "\n",
    "expansion_matrix = np.array([[3, 0, 0],\n",
    "                            [0, 3, 0],\n",
    "                            [0, 0, 1]])\n",
    "\n",
    "graphene_supercell = copy.deepcopy(graphene)\n",
    "\n",
    "graphene_supercell.make_supercell(expansion_matrix)\n",
    "\n",
    "display(graphene_supercell)"
   ]
  },
  {
   "cell_type": "markdown",
   "id": "6899ee54",
   "metadata": {},
   "source": [
    "Please find below an image of the supercell where the atom index has been reported on the atom itself.\n",
    "\n",
    "[graphene_primitive_cell](images/graphene_primitive_cell.png)\n",
    "\n",
    "As a note for non experts in materials science, the cell reported here has 2-dimensional periodicity, also called periodic boundary conditions. This means it is repeated periodically, effectively representing an infinite graphene sheet. The image below shows a 3x3 supercell of the graphene supercell used in this notebook. \n",
    "\n",
    "[graphene_super_cell](images/graphene_super_cell.png)\n",
    "\n",
    "This is going to become relevant later in the definition of the model."
   ]
  },
  {
   "cell_type": "markdown",
   "id": "7ed5142e",
   "metadata": {},
   "source": [
    "From the graphene_supercell structure displayed above, you can see the structure now containins 18 atoms and the lattice parameters a and b are three times as large as the primitive cell ones."
   ]
  },
  {
   "cell_type": "markdown",
   "id": "75f00cab",
   "metadata": {},
   "source": [
    "Now, let's start defining the vectors and matrices that we will use to represent the system.\n",
    "First we are going to create the vector **c**. This is the vector that we are going to use to identify atom positions in the system. It will contain, therefore, numbers from 0 to the total number of atoms:"
   ]
  },
  {
   "cell_type": "code",
   "execution_count": 22,
   "id": "b5a2c16b",
   "metadata": {},
   "outputs": [
    {
     "data": {
      "text/plain": [
       "array([ 0,  1,  2,  3,  4,  5,  6,  7,  8,  9, 10, 11, 12, 13, 14, 15, 16,\n",
       "       17])"
      ]
     },
     "metadata": {},
     "output_type": "display_data"
    }
   ],
   "source": [
    "c = np.arange(graphene_supercell.num_sites)\n",
    "display(c)"
   ]
  },
  {
   "cell_type": "markdown",
   "id": "552bf739",
   "metadata": {},
   "source": [
    "To do so, we used the numpy arange function and the num_sites attribute of the graphene_supercell Structure object to define the upper bound.\n",
    "\n",
    "We are also going to define the vector **x**. This is a binary vector where:\n",
    "- $x_{i}$ = 1 if atom i is present\n",
    "- $x_{i}$ = 0 if atom i has been replaced by a vacancy\n",
    "\n",
    "At first we are going to define the structure containing no vacancies, so $x_{i}$ = 1 for all $i$"
   ]
  },
  {
   "cell_type": "code",
   "execution_count": 23,
   "id": "a9b3f1dc",
   "metadata": {},
   "outputs": [
    {
     "data": {
      "text/plain": [
       "array([1, 1, 1, 1, 1, 1, 1, 1, 1, 1, 1, 1, 1, 1, 1, 1, 1, 1])"
      ]
     },
     "metadata": {},
     "output_type": "display_data"
    }
   ],
   "source": [
    "x = np.array([1]*graphene_supercell.num_sites)\n",
    "display(x)"
   ]
  },
  {
   "cell_type": "markdown",
   "id": "bcdcd861",
   "metadata": {},
   "source": [
    "Because in the model we are using, the energy depends on the number of bonds, we need a way to identify bonded atoms. To do so, we are going to start with the distance_matrix, which is a property of the graphene_supercell object:"
   ]
  },
  {
   "cell_type": "code",
   "execution_count": 25,
   "id": "789c1541",
   "metadata": {
    "collapsed": true
   },
   "outputs": [
    {
     "data": {
      "text/plain": [
       "array([[0.        , 2.46772428, 2.46772428, 2.46772428, 2.467724  ,\n",
       "        4.27422351, 2.46772428, 4.27422351, 2.467724  , 1.42474133,\n",
       "        3.769511  , 1.42474117, 1.42474117, 2.84948234, 2.84948267,\n",
       "        3.769511  , 3.7695107 , 2.84948234],\n",
       "       [2.46772428, 0.        , 2.46772428, 4.27422351, 2.46772428,\n",
       "        2.467724  , 2.467724  , 2.46772428, 4.27422351, 1.42474117,\n",
       "        1.42474133, 3.769511  , 2.84948267, 1.42474117, 2.84948234,\n",
       "        2.84948234, 3.769511  , 3.7695107 ],\n",
       "       [2.46772428, 2.46772428, 0.        , 2.467724  , 4.27422351,\n",
       "        2.46772428, 4.27422351, 2.467724  , 2.46772428, 3.769511  ,\n",
       "        1.42474117, 1.42474133, 2.84948234, 2.84948267, 1.42474117,\n",
       "        3.7695107 , 2.84948234, 3.769511  ],\n",
       "       [2.46772428, 4.27422351, 2.467724  , 0.        , 2.46772428,\n",
       "        2.46772428, 2.46772428, 2.467724  , 4.27422351, 3.769511  ,\n",
       "        3.7695107 , 2.84948234, 1.42474133, 3.769511  , 1.42474117,\n",
       "        1.42474117, 2.84948234, 2.84948267],\n",
       "       [2.467724  , 2.46772428, 4.27422351, 2.46772428, 0.        ,\n",
       "        2.46772428, 4.27422351, 2.46772428, 2.467724  , 2.84948234,\n",
       "        3.769511  , 3.7695107 , 1.42474117, 1.42474133, 3.769511  ,\n",
       "        2.84948267, 1.42474117, 2.84948234],\n",
       "       [4.27422351, 2.467724  , 2.46772428, 2.46772428, 2.46772428,\n",
       "        0.        , 2.467724  , 4.27422351, 2.46772428, 3.7695107 ,\n",
       "        2.84948234, 3.769511  , 3.769511  , 1.42474117, 1.42474133,\n",
       "        2.84948234, 2.84948267, 1.42474117],\n",
       "       [2.46772428, 2.467724  , 4.27422351, 2.46772428, 4.27422351,\n",
       "        2.467724  , 0.        , 2.46772428, 2.46772428, 1.42474117,\n",
       "        2.84948234, 2.84948267, 3.769511  , 3.7695107 , 2.84948234,\n",
       "        1.42474133, 3.769511  , 1.42474117],\n",
       "       [4.27422351, 2.46772428, 2.467724  , 2.467724  , 2.46772428,\n",
       "        4.27422351, 2.46772428, 0.        , 2.46772428, 2.84948267,\n",
       "        1.42474117, 2.84948234, 2.84948234, 3.769511  , 3.7695107 ,\n",
       "        1.42474117, 1.42474133, 3.769511  ],\n",
       "       [2.467724  , 4.27422351, 2.46772428, 4.27422351, 2.467724  ,\n",
       "        2.46772428, 2.46772428, 2.46772428, 0.        , 2.84948234,\n",
       "        2.84948267, 1.42474117, 3.7695107 , 2.84948234, 3.769511  ,\n",
       "        3.769511  , 1.42474117, 1.42474133],\n",
       "       [1.42474133, 1.42474117, 3.769511  , 3.769511  , 2.84948234,\n",
       "        3.7695107 , 1.42474117, 2.84948267, 2.84948234, 0.        ,\n",
       "        2.46772428, 2.46772428, 2.46772428, 2.467724  , 4.27422351,\n",
       "        2.46772428, 4.27422351, 2.467724  ],\n",
       "       [3.769511  , 1.42474133, 1.42474117, 3.7695107 , 3.769511  ,\n",
       "        2.84948234, 2.84948234, 1.42474117, 2.84948267, 2.46772428,\n",
       "        0.        , 2.46772428, 4.27422351, 2.46772428, 2.467724  ,\n",
       "        2.467724  , 2.46772428, 4.27422351],\n",
       "       [1.42474117, 3.769511  , 1.42474133, 2.84948234, 3.7695107 ,\n",
       "        3.769511  , 2.84948267, 2.84948234, 1.42474117, 2.46772428,\n",
       "        2.46772428, 0.        , 2.467724  , 4.27422351, 2.46772428,\n",
       "        4.27422351, 2.467724  , 2.46772428],\n",
       "       [1.42474117, 2.84948267, 2.84948234, 1.42474133, 1.42474117,\n",
       "        3.769511  , 3.769511  , 2.84948234, 3.7695107 , 2.46772428,\n",
       "        4.27422351, 2.467724  , 0.        , 2.46772428, 2.46772428,\n",
       "        2.46772428, 2.467724  , 4.27422351],\n",
       "       [2.84948234, 1.42474117, 2.84948267, 3.769511  , 1.42474133,\n",
       "        1.42474117, 3.7695107 , 3.769511  , 2.84948234, 2.467724  ,\n",
       "        2.46772428, 4.27422351, 2.46772428, 0.        , 2.46772428,\n",
       "        4.27422351, 2.46772428, 2.467724  ],\n",
       "       [2.84948267, 2.84948234, 1.42474117, 1.42474117, 3.769511  ,\n",
       "        1.42474133, 2.84948234, 3.7695107 , 3.769511  , 4.27422351,\n",
       "        2.467724  , 2.46772428, 2.46772428, 2.46772428, 0.        ,\n",
       "        2.467724  , 4.27422351, 2.46772428],\n",
       "       [3.769511  , 2.84948234, 3.7695107 , 1.42474117, 2.84948267,\n",
       "        2.84948234, 1.42474133, 1.42474117, 3.769511  , 2.46772428,\n",
       "        2.467724  , 4.27422351, 2.46772428, 4.27422351, 2.467724  ,\n",
       "        0.        , 2.46772428, 2.46772428],\n",
       "       [3.7695107 , 3.769511  , 2.84948234, 2.84948234, 1.42474117,\n",
       "        2.84948267, 3.769511  , 1.42474133, 1.42474117, 4.27422351,\n",
       "        2.46772428, 2.467724  , 2.467724  , 2.46772428, 4.27422351,\n",
       "        2.46772428, 0.        , 2.46772428],\n",
       "       [2.84948234, 3.7695107 , 3.769511  , 2.84948267, 2.84948234,\n",
       "        1.42474117, 1.42474117, 3.769511  , 1.42474133, 2.467724  ,\n",
       "        4.27422351, 2.46772428, 4.27422351, 2.467724  , 2.46772428,\n",
       "        2.46772428, 2.46772428, 0.        ]])"
      ]
     },
     "metadata": {},
     "output_type": "display_data"
    }
   ],
   "source": [
    "graphene_sc_distance_matrix = graphene_supercell.distance_matrix\n",
    "display(graphene_sc_distance_matrix)"
   ]
  },
  {
   "cell_type": "markdown",
   "id": "9b54e08e",
   "metadata": {},
   "source": [
    "In graphene_sc_distance_matrix, the element in position $i,j$ is the distance (in Å) between atom $i$ and atom $j$."
   ]
  },
  {
   "cell_type": "markdown",
   "id": "d4d38588",
   "metadata": {},
   "source": [
    "Next we will create a list of unique distances contained in the graphene_sc_distance_matrix to identify the number of \"shells\" an atom has. We will do so by using numpy:"
   ]
  },
  {
   "cell_type": "markdown",
   "id": "c921cdb4",
   "metadata": {},
   "source": [
    "shells = np.unique(distance_matrix_pbc[0])\n",
    "display(shells)"
   ]
  },
  {
   "cell_type": "code",
   "execution_count": 29,
   "id": "5bcf1a1f",
   "metadata": {},
   "outputs": [
    {
     "data": {
      "text/plain": [
       "array([0.     , 1.42474, 2.46772, 2.84948, 3.76951, 4.27422])"
      ]
     },
     "metadata": {},
     "output_type": "display_data"
    }
   ],
   "source": [
    "shells = np.unique(np.round(graphene_sc_distance_matrix[0],5)) \n",
    "display(shells)"
   ]
  },
  {
   "cell_type": "markdown",
   "id": "01388ed2",
   "metadata": {},
   "source": [
    "In this model, we are only interested in the nearest neighbours, i.e. the ones in the first coordination shell, which corresponds to the element in position 1 of the array above (remember that in python we start counting from 0). Therefore, we can combine the information contained in the graphene_sc_distance_matrix and shells arrays to generate the adjacency matrix:"
   ]
  },
  {
   "cell_type": "code",
   "execution_count": 34,
   "id": "ed6829ee",
   "metadata": {},
   "outputs": [
    {
     "data": {
      "text/plain": [
       "array([[0, 0, 0, 0, 0, 0, 0, 0, 0, 1, 0, 1, 1, 0, 0, 0, 0, 0],\n",
       "       [0, 0, 0, 0, 0, 0, 0, 0, 0, 1, 1, 0, 0, 1, 0, 0, 0, 0],\n",
       "       [0, 0, 0, 0, 0, 0, 0, 0, 0, 0, 1, 1, 0, 0, 1, 0, 0, 0],\n",
       "       [0, 0, 0, 0, 0, 0, 0, 0, 0, 0, 0, 0, 1, 0, 1, 1, 0, 0],\n",
       "       [0, 0, 0, 0, 0, 0, 0, 0, 0, 0, 0, 0, 1, 1, 0, 0, 1, 0],\n",
       "       [0, 0, 0, 0, 0, 0, 0, 0, 0, 0, 0, 0, 0, 1, 1, 0, 0, 1],\n",
       "       [0, 0, 0, 0, 0, 0, 0, 0, 0, 1, 0, 0, 0, 0, 0, 1, 0, 1],\n",
       "       [0, 0, 0, 0, 0, 0, 0, 0, 0, 0, 1, 0, 0, 0, 0, 1, 1, 0],\n",
       "       [0, 0, 0, 0, 0, 0, 0, 0, 0, 0, 0, 1, 0, 0, 0, 0, 1, 1],\n",
       "       [1, 1, 0, 0, 0, 0, 1, 0, 0, 0, 0, 0, 0, 0, 0, 0, 0, 0],\n",
       "       [0, 1, 1, 0, 0, 0, 0, 1, 0, 0, 0, 0, 0, 0, 0, 0, 0, 0],\n",
       "       [1, 0, 1, 0, 0, 0, 0, 0, 1, 0, 0, 0, 0, 0, 0, 0, 0, 0],\n",
       "       [1, 0, 0, 1, 1, 0, 0, 0, 0, 0, 0, 0, 0, 0, 0, 0, 0, 0],\n",
       "       [0, 1, 0, 0, 1, 1, 0, 0, 0, 0, 0, 0, 0, 0, 0, 0, 0, 0],\n",
       "       [0, 0, 1, 1, 0, 1, 0, 0, 0, 0, 0, 0, 0, 0, 0, 0, 0, 0],\n",
       "       [0, 0, 0, 1, 0, 0, 1, 1, 0, 0, 0, 0, 0, 0, 0, 0, 0, 0],\n",
       "       [0, 0, 0, 0, 1, 0, 0, 1, 1, 0, 0, 0, 0, 0, 0, 0, 0, 0],\n",
       "       [0, 0, 0, 0, 0, 1, 1, 0, 1, 0, 0, 0, 0, 0, 0, 0, 0, 0]])"
      ]
     },
     "metadata": {},
     "output_type": "display_data"
    }
   ],
   "source": [
    "adjacency_matrix = (np.round(graphene_sc_distance_matrix,5) == shells[1]).astype(int)\n",
    "display(adjacency_matrix)"
   ]
  },
  {
   "cell_type": "markdown",
   "id": "2c033f87",
   "metadata": {},
   "source": [
    "In adjacency_matrix:\n",
    "- the element in position $i,j$ = 1 if atoms $i$ and $j$ are bonded\n",
    "- the element in position $i,j$ = 0 if atoms $i$ and $j$ are not bonded\n",
    "\n",
    "We can verify this for the atom 0. Let's look at the position of the 1s in the first line of the adjacency_matrix:"
   ]
  },
  {
   "cell_type": "code",
   "execution_count": 37,
   "id": "6cd5a115",
   "metadata": {},
   "outputs": [
    {
     "data": {
      "text/plain": [
       "array([ 9, 11, 12])"
      ]
     },
     "execution_count": 37,
     "metadata": {},
     "output_type": "execute_result"
    }
   ],
   "source": [
    "np.where(adjacency_matrix[0] == 1)[0]"
   ]
  },
  {
   "cell_type": "markdown",
   "id": "3ec69cf9",
   "metadata": {},
   "source": [
    "We can see that atom 0 is bound to atoms 9, 11 and 12. This is confirmed by looking at the image above, where we can see that atoms 9 and 11 are next to atom 0. Atom 12 is at the other end of the cell and this is where the periodic boundary conditions (or 2D periodicity is included in the model). By saying that atom 0 and 12 are bonded, we are saying that once we get to the end of the cell, we start back from the opposite side (explain better)."
   ]
  },
  {
   "cell_type": "markdown",
   "id": "df5e4d64",
   "metadata": {},
   "source": [
    "## Classical approach"
   ]
  },
  {
   "cell_type": "markdown",
   "id": "db686f5b",
   "metadata": {},
   "source": [
    "We are going to start by defining a very simple model to calculate the energy of the system:\n",
    "\n",
    "- each bond decreases the energy by 1 a.u. (arbitrary unit)\n",
    "\n",
    "Therefore, the task will be finding out how many bonds there are in the system. \n",
    "\n",
    "A very simple way to achieve this would be counting how many 1s there are in the adjacenty_matrix and divide that number by two because this procedure counts the bond between $i$ and $j$ and the bond between $j$ and $i$ as two separate bonds. Let's see how we could do this:"
   ]
  },
  {
   "cell_type": "code",
   "execution_count": 43,
   "id": "0c0e0327",
   "metadata": {},
   "outputs": [
    {
     "data": {
      "text/plain": [
       "27.0"
      ]
     },
     "metadata": {},
     "output_type": "display_data"
    }
   ],
   "source": [
    "num_bonds = np.sum(adjacency_matrix)/2\n",
    "display(num_bonds)"
   ]
  },
  {
   "cell_type": "markdown",
   "id": "0fbfe317",
   "metadata": {},
   "source": [
    "The above described procedure works well if there are no vacancies in the system. Let's think about a way to describe systems with vacancies.\n",
    "\n",
    "We are going to start by multiplying the **x** vector by the **adjacency_matrix** and call this intermediate result **r**:"
   ]
  },
  {
   "cell_type": "code",
   "execution_count": 47,
   "id": "2b9323c3",
   "metadata": {},
   "outputs": [
    {
     "data": {
      "text/plain": [
       "array([3, 3, 3, 3, 3, 3, 3, 3, 3, 3, 3, 3, 3, 3, 3, 3, 3, 3])"
      ]
     },
     "metadata": {},
     "output_type": "display_data"
    }
   ],
   "source": [
    "r = np.matmul(x,adjacency_matrix)\n",
    "display(r)"
   ]
  },
  {
   "cell_type": "markdown",
   "id": "63223fb6",
   "metadata": {},
   "source": [
    "The vector **r** has length number of atoms in the supercell. The element $r_{i}$ tell us how many atoms the atom $i$ is bonded to."
   ]
  },
  {
   "cell_type": "markdown",
   "id": "03d9d5d4",
   "metadata": {},
   "source": [
    "Now we are going to multiply $\\bf x^{T}$ by **r** and multiply by -1 to obtain the energy:"
   ]
  },
  {
   "cell_type": "code",
   "execution_count": null,
   "id": "bf57f9ce",
   "metadata": {},
   "outputs": [],
   "source": []
  },
  {
   "cell_type": "markdown",
   "id": "9bcfd142",
   "metadata": {},
   "source": [
    "## Quantum annealing"
   ]
  },
  {
   "cell_type": "code",
   "execution_count": 39,
   "id": "1498cb43",
   "metadata": {},
   "outputs": [
    {
     "data": {
      "text/plain": [
       "<Popen: returncode: None args: ['/Users/brunocamino/miniconda3/envs/qc/bin/p...>"
      ]
     },
     "execution_count": 39,
     "metadata": {},
     "output_type": "execute_result"
    }
   ],
   "source": [
    "from pymatgen.io.ase import AseAtomsAdaptor\n",
    "from ase.visualize import view\n",
    "view(AseAtomsAdaptor().get_atoms(graphene_supercell))"
   ]
  }
 ],
 "metadata": {
  "kernelspec": {
   "display_name": "Python 3 (ipykernel)",
   "language": "python",
   "name": "python3"
  },
  "language_info": {
   "codemirror_mode": {
    "name": "ipython",
    "version": 3
   },
   "file_extension": ".py",
   "mimetype": "text/x-python",
   "name": "python",
   "nbconvert_exporter": "python",
   "pygments_lexer": "ipython3",
   "version": "3.9.12"
  }
 },
 "nbformat": 4,
 "nbformat_minor": 5
}

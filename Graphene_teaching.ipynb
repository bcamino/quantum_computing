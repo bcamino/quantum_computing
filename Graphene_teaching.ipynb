{
 "cells": [
  {
   "cell_type": "markdown",
   "id": "7a75d719",
   "metadata": {},
   "source": [
    "# QA simulation of vacancies in graphene explained"
   ]
  },
  {
   "cell_type": "markdown",
   "id": "801a7b2d",
   "metadata": {},
   "source": [
    "## The model"
   ]
  },
  {
   "cell_type": "markdown",
   "id": "ddcbdf61",
   "metadata": {},
   "source": [
    "In this tutorial, we are going to use a simple model to calculate the energy of vacancies in graphene.\n",
    "\n",
    "**The material**\n",
    "\n",
    "The chemical system we are going to study is a graphene sheet. In order to be able to calculate the energy of up to three vacancies, we are going to use a 3x3 supercell of the primitive cell.\n",
    "\n",
    "Let's first build the system. For this task we are going to be using a python library called pymatgen. pymatgen is a very powerful tool developed as part of the Materials Project. It can be used to create, modify, analyse 3D systems. Don't worry if you are not familiar with pymatgen, we are only going to use it to generate the structure and every step is explained.\n",
    "\n",
    "First we need to import the two objects that we are going to use to generate the graphene structure, which is called Structure:"
   ]
  },
  {
   "cell_type": "code",
   "execution_count": 1,
   "id": "bc9d22fa",
   "metadata": {},
   "outputs": [],
   "source": [
    "from pymatgen.core.structure import Structure"
   ]
  },
  {
   "cell_type": "markdown",
   "id": "5f16e0ec",
   "metadata": {},
   "source": [
    "We are going to use numpy to define the lattice as a 3x3 matrix:"
   ]
  },
  {
   "cell_type": "code",
   "execution_count": 4,
   "id": "3a621d05",
   "metadata": {},
   "outputs": [],
   "source": [
    "import numpy as np\n",
    "\n",
    "lattice = np.array([[ 1.233862, -2.137112,  0.      ],\n",
    "                   [ 1.233862,  2.137112,  0.      ],\n",
    "                   [ 0.      ,  0.      ,  8.685038]])"
   ]
  },
  {
   "cell_type": "markdown",
   "id": "23befdad",
   "metadata": {},
   "source": [
    "The Structure object requires three pieces on informations: the lattice, the species and the fractional coordinates of these species in the cell defined by lattice. So, we are going to create and inspect what information is in the graphene object by displaying it."
   ]
  },
  {
   "cell_type": "code",
   "execution_count": 12,
   "id": "1024a0d8",
   "metadata": {},
   "outputs": [
    {
     "data": {
      "text/plain": [
       "Structure Summary\n",
       "Lattice\n",
       "    abc : 2.4677242827325747 2.4677242827325747 8.685038\n",
       " angles : 90.0 90.0 120.00000758003493\n",
       " volume : 45.80317575176706\n",
       "      A : 1.233862 -2.137112 0.0\n",
       "      B : 1.233862 2.137112 0.0\n",
       "      C : 0.0 0.0 8.685038\n",
       "PeriodicSite: C (1.2339, -0.7124, 0.0000) [0.6667, 0.3333, 0.0000]\n",
       "PeriodicSite: C (1.2339, 0.7124, 0.0000) [0.3333, 0.6667, 0.0000]"
      ]
     },
     "metadata": {},
     "output_type": "display_data"
    }
   ],
   "source": [
    "graphene = Structure(lattice, species=['C','C'], coords=[[2/3, 1/3, 0. ],[1/3, 2/3, 0.]])\n",
    "display(graphene)"
   ]
  },
  {
   "cell_type": "markdown",
   "id": "b1b2184a",
   "metadata": {},
   "source": [
    "The supercell can be created by using"
   ]
  },
  {
   "cell_type": "code",
   "execution_count": null,
   "id": "c5aa13af",
   "metadata": {},
   "outputs": [],
   "source": [
    "n_supercell = 3\n",
    "scaling_matrix = np.identity(3)*n_supercell\n",
    "scaling_matrix[2][2] = 1\n",
    "graphene_supercell = copy.deepcopy(graphene)\n",
    "graphene_supercell.make_supercell(scaling_matrix)"
   ]
  },
  {
   "cell_type": "markdown",
   "id": "2e9661dc",
   "metadata": {},
   "source": [
    "## Classical approach"
   ]
  },
  {
   "cell_type": "markdown",
   "id": "d1722241",
   "metadata": {},
   "source": [
    "## Quantum annealing"
   ]
  }
 ],
 "metadata": {
  "kernelspec": {
   "display_name": "Python 3 (ipykernel)",
   "language": "python",
   "name": "python3"
  },
  "language_info": {
   "codemirror_mode": {
    "name": "ipython",
    "version": 3
   },
   "file_extension": ".py",
   "mimetype": "text/x-python",
   "name": "python",
   "nbconvert_exporter": "python",
   "pygments_lexer": "ipython3",
   "version": "3.9.12"
  }
 },
 "nbformat": 4,
 "nbformat_minor": 5
}

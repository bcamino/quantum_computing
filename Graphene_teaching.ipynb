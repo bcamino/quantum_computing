{
 "cells": [
  {
   "cell_type": "markdown",
   "id": "7a75d719",
   "metadata": {},
   "source": [
    "# QA simulation of vacancies in graphene explained"
   ]
  },
  {
   "cell_type": "markdown",
   "id": "45075691",
   "metadata": {},
   "source": [
    "## The model"
   ]
  },
  {
   "cell_type": "markdown",
   "id": "46ef052e",
   "metadata": {},
   "source": [
    "In this tutorial, we are going to use a simple model to calculate the energy of vacancies in graphene.\n",
    "\n",
    "**The material**\n",
    "\n",
    "The chemical system we are going to study is a graphene sheet. In order to be able to calculate the energy of up to three vacancies, we are going to use a 3x3 supercell of the primitive cell.\n",
    "\n",
    "Let's first build the system. For this task we are going to be using a python library called pymatgen. pymatgen is a very powerful tool developed as part of the Materials Project. It can be used to create, modify, analyse 3D systems. Don't worry if you are not familiar with pymatgen, we are only going to use it to generate the structure and every step is explained.\n",
    "\n",
    "First we need to import the two objects that we are going to use to generate the graphene structure, which is called Structure:"
   ]
  },
  {
   "cell_type": "code",
   "execution_count": 1,
   "id": "18901c7e",
   "metadata": {},
   "outputs": [],
   "source": [
    "from pymatgen.core.structure import Structure"
   ]
  },
  {
   "cell_type": "markdown",
   "id": "54c3666b",
   "metadata": {},
   "source": [
    "We are going to use numpy to define the lattice as a 3x3 matrix:"
   ]
  },
  {
   "cell_type": "code",
   "execution_count": 4,
   "id": "541cf66c",
   "metadata": {},
   "outputs": [],
   "source": [
    "import numpy as np\n",
    "\n",
    "lattice = np.array([[ 1.233862, -2.137112,  0.      ],\n",
    "                   [ 1.233862,  2.137112,  0.      ],\n",
    "                   [ 0.      ,  0.      ,  8.685038]])"
   ]
  },
  {
   "cell_type": "markdown",
   "id": "5a2c6dd6",
   "metadata": {},
   "source": [
    "The Structure object requires three pieces on informations: the lattice, the species and the fractional coordinates of these species in the cell defined by lattice. So, we are going to create and inspect what information is in the graphene object by displaying it."
   ]
  },
  {
   "cell_type": "code",
   "execution_count": 12,
   "id": "430eb440",
   "metadata": {},
   "outputs": [
    {
     "data": {
      "text/plain": [
       "Structure Summary\n",
       "Lattice\n",
       "    abc : 2.4677242827325747 2.4677242827325747 8.685038\n",
       " angles : 90.0 90.0 120.00000758003493\n",
       " volume : 45.80317575176706\n",
       "      A : 1.233862 -2.137112 0.0\n",
       "      B : 1.233862 2.137112 0.0\n",
       "      C : 0.0 0.0 8.685038\n",
       "PeriodicSite: C (1.2339, -0.7124, 0.0000) [0.6667, 0.3333, 0.0000]\n",
       "PeriodicSite: C (1.2339, 0.7124, 0.0000) [0.3333, 0.6667, 0.0000]"
      ]
     },
     "metadata": {},
     "output_type": "display_data"
    }
   ],
   "source": [
    "graphene = Structure(lattice, species=['C','C'], coords=[[2/3, 1/3, 0. ],[1/3, 2/3, 0.]])\n",
    "display(graphene)"
   ]
  },
  {
   "cell_type": "markdown",
   "id": "09405642",
   "metadata": {},
   "source": [
    "The supercell can be created by using the pymatgen make_supercell function. First we need to define the expansion matrix:"
   ]
  },
  {
   "cell_type": "code",
   "execution_count": 17,
   "id": "489b1fe0",
   "metadata": {},
   "outputs": [
    {
     "data": {
      "text/plain": [
       "Structure Summary\n",
       "Lattice\n",
       "    abc : 7.403172848197724 7.403172848197724 8.685038\n",
       " angles : 90.0 90.0 120.00000758003493\n",
       " volume : 412.2285817659035\n",
       "      A : 3.701586 -6.411336 0.0\n",
       "      B : 3.701586 6.411336 0.0\n",
       "      C : 0.0 0.0 8.685038\n",
       "PeriodicSite: C (1.2339, -0.7124, 0.0000) [0.2222, 0.1111, 0.0000]\n",
       "PeriodicSite: C (2.4677, 1.4247, 0.0000) [0.2222, 0.4444, 0.0000]\n",
       "PeriodicSite: C (3.7016, 3.5619, 0.0000) [0.2222, 0.7778, 0.0000]\n",
       "PeriodicSite: C (2.4677, -2.8495, 0.0000) [0.5556, 0.1111, 0.0000]\n",
       "PeriodicSite: C (3.7016, -0.7124, 0.0000) [0.5556, 0.4444, 0.0000]\n",
       "PeriodicSite: C (4.9354, 1.4247, 0.0000) [0.5556, 0.7778, 0.0000]\n",
       "PeriodicSite: C (3.7016, -4.9866, 0.0000) [0.8889, 0.1111, 0.0000]\n",
       "PeriodicSite: C (4.9354, -2.8495, 0.0000) [0.8889, 0.4444, 0.0000]\n",
       "PeriodicSite: C (6.1693, -0.7124, 0.0000) [0.8889, 0.7778, 0.0000]\n",
       "PeriodicSite: C (1.2339, 0.7124, 0.0000) [0.1111, 0.2222, 0.0000]\n",
       "PeriodicSite: C (2.4677, 2.8495, 0.0000) [0.1111, 0.5556, 0.0000]\n",
       "PeriodicSite: C (3.7016, 4.9866, 0.0000) [0.1111, 0.8889, 0.0000]\n",
       "PeriodicSite: C (2.4677, -1.4247, 0.0000) [0.4444, 0.2222, 0.0000]\n",
       "PeriodicSite: C (3.7016, 0.7124, 0.0000) [0.4444, 0.5556, 0.0000]\n",
       "PeriodicSite: C (4.9354, 2.8495, 0.0000) [0.4444, 0.8889, 0.0000]\n",
       "PeriodicSite: C (3.7016, -3.5619, 0.0000) [0.7778, 0.2222, 0.0000]\n",
       "PeriodicSite: C (4.9354, -1.4247, 0.0000) [0.7778, 0.5556, 0.0000]\n",
       "PeriodicSite: C (6.1693, 0.7124, 0.0000) [0.7778, 0.8889, 0.0000]"
      ]
     },
     "metadata": {},
     "output_type": "display_data"
    }
   ],
   "source": [
    "import copy \n",
    "\n",
    "expansion_matrix = np.array([[3, 0, 0],\n",
    "                            [0, 3, 0],\n",
    "                            [0, 0, 1]])\n",
    "\n",
    "graphene_supercell = copy.deepcopy(graphene)\n",
    "\n",
    "graphene_supercell.make_supercell(expansion_matrix)\n",
    "\n",
    "display(graphene_supercell)"
   ]
  },
  {
   "cell_type": "markdown",
   "id": "fb857d8b",
   "metadata": {},
   "source": [
    "Please find below an image of the supercell where the atom index has been reported on the atom itself.\n",
    "\n",
    "[graphene_primitive_cell](images/graphene_primitive_cell.png)\n",
    "\n",
    "As a note for non experts in materials science, the cell reported here has 2-dimensional periodicity, also called periodic boundary conditions. This means it is repeated periodically, effectively representing an infinite graphene sheet. The image below shows a 3x3 supercell of the graphene supercell used in this notebook. \n",
    "\n",
    "[graphene_super_cell](images/graphene_super_cell.png)\n",
    "\n",
    "This is going to become relevant later in the definition of the model."
   ]
  },
  {
   "cell_type": "markdown",
   "id": "e43bfc50",
   "metadata": {},
   "source": [
    "From the graphene_supercell structure displayed above, you can see the structure now containins 18 atoms and the lattice parameters a and b are three times as large as the primitive cell ones."
   ]
  },
  {
   "cell_type": "markdown",
   "id": "db56ca1d",
   "metadata": {},
   "source": [
    "Now, let's start defining the vectors and matrices that we will use to represent the system.\n",
    "First we are going to create the vector **c**. This is the vector that we are going to use to identify atom positions in the system. It will contain, therefore, numbers from 0 to the total number of atoms:"
   ]
  },
  {
   "cell_type": "code",
   "execution_count": 22,
   "id": "11de8e8b",
   "metadata": {},
   "outputs": [
    {
     "data": {
      "text/plain": [
       "array([ 0,  1,  2,  3,  4,  5,  6,  7,  8,  9, 10, 11, 12, 13, 14, 15, 16,\n",
       "       17])"
      ]
     },
     "metadata": {},
     "output_type": "display_data"
    }
   ],
   "source": [
    "c = np.arange(graphene_supercell.num_sites)\n",
    "display(c)"
   ]
  },
  {
   "cell_type": "markdown",
   "id": "8573c3ff",
   "metadata": {},
   "source": [
    "To do so, we used the numpy arange function and the num_sites attribute of the graphene_supercell Structure object to define the upper bound.\n",
    "\n",
    "We are also going to define the vector **x**. This is a binary vector where:\n",
    "- $x_{i}$ = 1 if atom i is present\n",
    "- $x_{i}$ = 0 if atom i has been replaced by a vacancy\n",
    "\n",
    "At first we are going to define the structure containing no vacancies, so $x_{i}$ = 1 for all $i$"
   ]
  },
  {
   "cell_type": "code",
   "execution_count": 23,
   "id": "a113c836",
   "metadata": {},
   "outputs": [
    {
     "data": {
      "text/plain": [
       "array([1, 1, 1, 1, 1, 1, 1, 1, 1, 1, 1, 1, 1, 1, 1, 1, 1, 1])"
      ]
     },
     "metadata": {},
     "output_type": "display_data"
    }
   ],
   "source": [
    "x = np.array([1]*graphene_supercell.num_sites)\n",
    "display(x)"
   ]
  },
  {
   "cell_type": "markdown",
   "id": "a9a0bbe7",
   "metadata": {},
   "source": [
    "Because in the model we are using, the energy depends on the number of bonds, we need a way to identify bonded atoms. To do so, we are going to start with the distance_matrix, which is a property of the graphene_supercell object:"
   ]
  },
  {
   "cell_type": "code",
   "execution_count": 25,
   "id": "66b9b019",
   "metadata": {
    "collapsed": true
   },
   "outputs": [
    {
     "data": {
      "text/plain": [
       "array([[0.        , 2.46772428, 2.46772428, 2.46772428, 2.467724  ,\n",
       "        4.27422351, 2.46772428, 4.27422351, 2.467724  , 1.42474133,\n",
       "        3.769511  , 1.42474117, 1.42474117, 2.84948234, 2.84948267,\n",
       "        3.769511  , 3.7695107 , 2.84948234],\n",
       "       [2.46772428, 0.        , 2.46772428, 4.27422351, 2.46772428,\n",
       "        2.467724  , 2.467724  , 2.46772428, 4.27422351, 1.42474117,\n",
       "        1.42474133, 3.769511  , 2.84948267, 1.42474117, 2.84948234,\n",
       "        2.84948234, 3.769511  , 3.7695107 ],\n",
       "       [2.46772428, 2.46772428, 0.        , 2.467724  , 4.27422351,\n",
       "        2.46772428, 4.27422351, 2.467724  , 2.46772428, 3.769511  ,\n",
       "        1.42474117, 1.42474133, 2.84948234, 2.84948267, 1.42474117,\n",
       "        3.7695107 , 2.84948234, 3.769511  ],\n",
       "       [2.46772428, 4.27422351, 2.467724  , 0.        , 2.46772428,\n",
       "        2.46772428, 2.46772428, 2.467724  , 4.27422351, 3.769511  ,\n",
       "        3.7695107 , 2.84948234, 1.42474133, 3.769511  , 1.42474117,\n",
       "        1.42474117, 2.84948234, 2.84948267],\n",
       "       [2.467724  , 2.46772428, 4.27422351, 2.46772428, 0.        ,\n",
       "        2.46772428, 4.27422351, 2.46772428, 2.467724  , 2.84948234,\n",
       "        3.769511  , 3.7695107 , 1.42474117, 1.42474133, 3.769511  ,\n",
       "        2.84948267, 1.42474117, 2.84948234],\n",
       "       [4.27422351, 2.467724  , 2.46772428, 2.46772428, 2.46772428,\n",
       "        0.        , 2.467724  , 4.27422351, 2.46772428, 3.7695107 ,\n",
       "        2.84948234, 3.769511  , 3.769511  , 1.42474117, 1.42474133,\n",
       "        2.84948234, 2.84948267, 1.42474117],\n",
       "       [2.46772428, 2.467724  , 4.27422351, 2.46772428, 4.27422351,\n",
       "        2.467724  , 0.        , 2.46772428, 2.46772428, 1.42474117,\n",
       "        2.84948234, 2.84948267, 3.769511  , 3.7695107 , 2.84948234,\n",
       "        1.42474133, 3.769511  , 1.42474117],\n",
       "       [4.27422351, 2.46772428, 2.467724  , 2.467724  , 2.46772428,\n",
       "        4.27422351, 2.46772428, 0.        , 2.46772428, 2.84948267,\n",
       "        1.42474117, 2.84948234, 2.84948234, 3.769511  , 3.7695107 ,\n",
       "        1.42474117, 1.42474133, 3.769511  ],\n",
       "       [2.467724  , 4.27422351, 2.46772428, 4.27422351, 2.467724  ,\n",
       "        2.46772428, 2.46772428, 2.46772428, 0.        , 2.84948234,\n",
       "        2.84948267, 1.42474117, 3.7695107 , 2.84948234, 3.769511  ,\n",
       "        3.769511  , 1.42474117, 1.42474133],\n",
       "       [1.42474133, 1.42474117, 3.769511  , 3.769511  , 2.84948234,\n",
       "        3.7695107 , 1.42474117, 2.84948267, 2.84948234, 0.        ,\n",
       "        2.46772428, 2.46772428, 2.46772428, 2.467724  , 4.27422351,\n",
       "        2.46772428, 4.27422351, 2.467724  ],\n",
       "       [3.769511  , 1.42474133, 1.42474117, 3.7695107 , 3.769511  ,\n",
       "        2.84948234, 2.84948234, 1.42474117, 2.84948267, 2.46772428,\n",
       "        0.        , 2.46772428, 4.27422351, 2.46772428, 2.467724  ,\n",
       "        2.467724  , 2.46772428, 4.27422351],\n",
       "       [1.42474117, 3.769511  , 1.42474133, 2.84948234, 3.7695107 ,\n",
       "        3.769511  , 2.84948267, 2.84948234, 1.42474117, 2.46772428,\n",
       "        2.46772428, 0.        , 2.467724  , 4.27422351, 2.46772428,\n",
       "        4.27422351, 2.467724  , 2.46772428],\n",
       "       [1.42474117, 2.84948267, 2.84948234, 1.42474133, 1.42474117,\n",
       "        3.769511  , 3.769511  , 2.84948234, 3.7695107 , 2.46772428,\n",
       "        4.27422351, 2.467724  , 0.        , 2.46772428, 2.46772428,\n",
       "        2.46772428, 2.467724  , 4.27422351],\n",
       "       [2.84948234, 1.42474117, 2.84948267, 3.769511  , 1.42474133,\n",
       "        1.42474117, 3.7695107 , 3.769511  , 2.84948234, 2.467724  ,\n",
       "        2.46772428, 4.27422351, 2.46772428, 0.        , 2.46772428,\n",
       "        4.27422351, 2.46772428, 2.467724  ],\n",
       "       [2.84948267, 2.84948234, 1.42474117, 1.42474117, 3.769511  ,\n",
       "        1.42474133, 2.84948234, 3.7695107 , 3.769511  , 4.27422351,\n",
       "        2.467724  , 2.46772428, 2.46772428, 2.46772428, 0.        ,\n",
       "        2.467724  , 4.27422351, 2.46772428],\n",
       "       [3.769511  , 2.84948234, 3.7695107 , 1.42474117, 2.84948267,\n",
       "        2.84948234, 1.42474133, 1.42474117, 3.769511  , 2.46772428,\n",
       "        2.467724  , 4.27422351, 2.46772428, 4.27422351, 2.467724  ,\n",
       "        0.        , 2.46772428, 2.46772428],\n",
       "       [3.7695107 , 3.769511  , 2.84948234, 2.84948234, 1.42474117,\n",
       "        2.84948267, 3.769511  , 1.42474133, 1.42474117, 4.27422351,\n",
       "        2.46772428, 2.467724  , 2.467724  , 2.46772428, 4.27422351,\n",
       "        2.46772428, 0.        , 2.46772428],\n",
       "       [2.84948234, 3.7695107 , 3.769511  , 2.84948267, 2.84948234,\n",
       "        1.42474117, 1.42474117, 3.769511  , 1.42474133, 2.467724  ,\n",
       "        4.27422351, 2.46772428, 4.27422351, 2.467724  , 2.46772428,\n",
       "        2.46772428, 2.46772428, 0.        ]])"
      ]
     },
     "metadata": {},
     "output_type": "display_data"
    }
   ],
   "source": [
    "graphene_sc_distance_matrix = graphene_supercell.distance_matrix\n",
    "display(graphene_sc_distance_matrix)"
   ]
  },
  {
   "cell_type": "markdown",
   "id": "164d436a",
   "metadata": {},
   "source": [
    "In graphene_sc_distance_matrix, the element in position $i,j$ is the distance (in Å) between atom $i$ and atom $j$."
   ]
  },
  {
   "cell_type": "markdown",
   "id": "5f6731ae",
   "metadata": {},
   "source": [
    "Next we will create a list of unique distances contained in the graphene_sc_distance_matrix to identify the number of \"shells\" an atom has. We will do so by using numpy:"
   ]
  },
  {
   "cell_type": "markdown",
   "id": "5fd149c6",
   "metadata": {},
   "source": [
    "shells = np.unique(distance_matrix_pbc[0])\n",
    "display(shells)"
   ]
  },
  {
   "cell_type": "code",
   "execution_count": 29,
   "id": "1f831cba",
   "metadata": {},
   "outputs": [
    {
     "data": {
      "text/plain": [
       "array([0.     , 1.42474, 2.46772, 2.84948, 3.76951, 4.27422])"
      ]
     },
     "metadata": {},
     "output_type": "display_data"
    }
   ],
   "source": [
    "shells = np.unique(np.round(graphene_sc_distance_matrix[0],5)) \n",
    "display(shells)"
   ]
  },
  {
   "cell_type": "markdown",
   "id": "10f82581",
   "metadata": {},
   "source": [
    "In this model, we are only interested in the nearest neighbours, i.e. the ones in the first coordination shell, which corresponds to the element in position 1 of the array above (remember that in python we start counting from 0). Therefore, we can combine the information contained in the graphene_sc_distance_matrix and shells arrays to generate the adjacency matrix:"
   ]
  },
  {
   "cell_type": "code",
   "execution_count": 34,
   "id": "288812ec",
   "metadata": {},
   "outputs": [
    {
     "data": {
      "text/plain": [
       "array([[0, 0, 0, 0, 0, 0, 0, 0, 0, 1, 0, 1, 1, 0, 0, 0, 0, 0],\n",
       "       [0, 0, 0, 0, 0, 0, 0, 0, 0, 1, 1, 0, 0, 1, 0, 0, 0, 0],\n",
       "       [0, 0, 0, 0, 0, 0, 0, 0, 0, 0, 1, 1, 0, 0, 1, 0, 0, 0],\n",
       "       [0, 0, 0, 0, 0, 0, 0, 0, 0, 0, 0, 0, 1, 0, 1, 1, 0, 0],\n",
       "       [0, 0, 0, 0, 0, 0, 0, 0, 0, 0, 0, 0, 1, 1, 0, 0, 1, 0],\n",
       "       [0, 0, 0, 0, 0, 0, 0, 0, 0, 0, 0, 0, 0, 1, 1, 0, 0, 1],\n",
       "       [0, 0, 0, 0, 0, 0, 0, 0, 0, 1, 0, 0, 0, 0, 0, 1, 0, 1],\n",
       "       [0, 0, 0, 0, 0, 0, 0, 0, 0, 0, 1, 0, 0, 0, 0, 1, 1, 0],\n",
       "       [0, 0, 0, 0, 0, 0, 0, 0, 0, 0, 0, 1, 0, 0, 0, 0, 1, 1],\n",
       "       [1, 1, 0, 0, 0, 0, 1, 0, 0, 0, 0, 0, 0, 0, 0, 0, 0, 0],\n",
       "       [0, 1, 1, 0, 0, 0, 0, 1, 0, 0, 0, 0, 0, 0, 0, 0, 0, 0],\n",
       "       [1, 0, 1, 0, 0, 0, 0, 0, 1, 0, 0, 0, 0, 0, 0, 0, 0, 0],\n",
       "       [1, 0, 0, 1, 1, 0, 0, 0, 0, 0, 0, 0, 0, 0, 0, 0, 0, 0],\n",
       "       [0, 1, 0, 0, 1, 1, 0, 0, 0, 0, 0, 0, 0, 0, 0, 0, 0, 0],\n",
       "       [0, 0, 1, 1, 0, 1, 0, 0, 0, 0, 0, 0, 0, 0, 0, 0, 0, 0],\n",
       "       [0, 0, 0, 1, 0, 0, 1, 1, 0, 0, 0, 0, 0, 0, 0, 0, 0, 0],\n",
       "       [0, 0, 0, 0, 1, 0, 0, 1, 1, 0, 0, 0, 0, 0, 0, 0, 0, 0],\n",
       "       [0, 0, 0, 0, 0, 1, 1, 0, 1, 0, 0, 0, 0, 0, 0, 0, 0, 0]])"
      ]
     },
     "metadata": {},
     "output_type": "display_data"
    }
   ],
   "source": [
    "adjacency_matrix = (np.round(graphene_sc_distance_matrix,5) == shells[1]).astype(int)\n",
    "display(adjacency_matrix)"
   ]
  },
  {
   "cell_type": "markdown",
   "id": "70cf7dca",
   "metadata": {},
   "source": [
    "In adjacency_matrix:\n",
    "- the element in position $i,j$ = 1 if atoms $i$ and $j$ are bonded\n",
    "- the element in position $i,j$ = 0 if atoms $i$ and $j$ are not bonded\n",
    "\n",
    "We can verify this for the atom 0. Let's look at the position of the 1s in the first line of the adjacency_matrix:"
   ]
  },
  {
   "cell_type": "code",
   "execution_count": 37,
   "id": "4025a51d",
   "metadata": {},
   "outputs": [
    {
     "data": {
      "text/plain": [
       "array([ 9, 11, 12])"
      ]
     },
     "execution_count": 37,
     "metadata": {},
     "output_type": "execute_result"
    }
   ],
   "source": [
    "np.where(adjacency_matrix[0] == 1)[0]"
   ]
  },
  {
   "cell_type": "markdown",
   "id": "b65d8101",
   "metadata": {},
   "source": [
    "We can see that atom 0 is bound to atoms 9, 11 and 12. This is confirmed by looking at the image above, where we can see that atoms 9 and 11 are next to atom 0. Atom 12 is at the other end of the cell and this is where the periodic boundary conditions (or 2D periodicity is included in the model). By saying that atom 0 and 12 are bonded, we are saying that once we get to the end of the cell, we start back from the opposite side (explain better)."
   ]
  },
  {
   "cell_type": "markdown",
   "id": "8c37a2ae",
   "metadata": {},
   "source": [
    "## Classical approach"
   ]
  },
  {
   "cell_type": "markdown",
   "id": "9eae82d3",
   "metadata": {},
   "source": [
    "What is meant by \"Classical approach\" is that we are going to follow the usual workflow in computational materials chemistry:\n",
    "\n",
    "- define the system\n",
    "- define the model used to describe the model\n",
    "- define the model used to calculate the energy of the system\n",
    "- calculate the energy\n",
    "\n",
    "The system and the model to represent it were described above in terms of **c** and **x** vectors and the **adjacency_matrix**.\n",
    "\n",
    "We are going to start by defining a very simple model to calculate the energy of the system:\n",
    "\n",
    "- each bond decreases the energy by 1 a.u. (arbitrary unit)\n",
    "\n",
    "Therefore, the task will be finding out how many bonds there are in the system. \n",
    "\n",
    "A very simple way to achieve this would be counting how many 1s there are in the adjacenty_matrix and divide that number by two because this procedure counts the bond between $i$ and $j$ and the bond between $j$ and $i$ as two separate bonds. Let's see how we could do this:"
   ]
  },
  {
   "cell_type": "code",
   "execution_count": 43,
   "id": "aeed4276",
   "metadata": {},
   "outputs": [
    {
     "data": {
      "text/plain": [
       "27.0"
      ]
     },
     "metadata": {},
     "output_type": "display_data"
    }
   ],
   "source": [
    "num_bonds = np.sum(adjacency_matrix)/2\n",
    "display(num_bonds)"
   ]
  },
  {
   "cell_type": "markdown",
   "id": "63f04a5e",
   "metadata": {},
   "source": [
    "The above described procedure works well if there are no vacancies in the system. Let's think about a way to describe systems with vacancies.\n",
    "\n",
    "We are going to start by multiplying the **x** vector by the **adjacency_matrix** and call this intermediate result **r**:"
   ]
  },
  {
   "cell_type": "code",
   "execution_count": 47,
   "id": "36f9cb43",
   "metadata": {},
   "outputs": [
    {
     "data": {
      "text/plain": [
       "array([3, 3, 3, 3, 3, 3, 3, 3, 3, 3, 3, 3, 3, 3, 3, 3, 3, 3])"
      ]
     },
     "metadata": {},
     "output_type": "display_data"
    }
   ],
   "source": [
    "r = np.matmul(x,adjacency_matrix)\n",
    "display(r)"
   ]
  },
  {
   "cell_type": "markdown",
   "id": "bb0a09ad",
   "metadata": {},
   "source": [
    "The vector **r** has length number of atoms in the supercell. The element $r_{i}$ tell us how many atoms the atom $i$ is bonded to."
   ]
  },
  {
   "cell_type": "markdown",
   "id": "2db55ef6",
   "metadata": {},
   "source": [
    "Now we are going to multiply $\\bf x^{T}$ by **r** and multiply by -1 and divide the final result by 2 to obtain the energy:"
   ]
  },
  {
   "cell_type": "code",
   "execution_count": 52,
   "id": "1128cc75",
   "metadata": {},
   "outputs": [
    {
     "data": {
      "text/plain": [
       "-27.0"
      ]
     },
     "metadata": {},
     "output_type": "display_data"
    }
   ],
   "source": [
    "E = -0.5 * np.matmul(x,r)\n",
    "display(E)"
   ]
  },
  {
   "cell_type": "markdown",
   "id": "e3be7fed",
   "metadata": {},
   "source": [
    "### 1 vacancy"
   ]
  },
  {
   "cell_type": "markdown",
   "id": "4053267f",
   "metadata": {},
   "source": [
    "Let's now simulate systems with 1 vacancy. At first we will introduce the vacancy in position 0. To achieve this, we will replace the 1 in position 0 of the x vector by a 0:"
   ]
  },
  {
   "cell_type": "code",
   "execution_count": 54,
   "id": "7acd2cfb",
   "metadata": {},
   "outputs": [
    {
     "data": {
      "text/plain": [
       "array([0, 1, 1, 1, 1, 1, 1, 1, 1, 1, 1, 1, 1, 1, 1, 1, 1, 1])"
      ]
     },
     "metadata": {},
     "output_type": "display_data"
    }
   ],
   "source": [
    "x[0] = 0\n",
    "display(x)"
   ]
  },
  {
   "cell_type": "markdown",
   "id": "ff803833",
   "metadata": {},
   "source": [
    "We will calculate the energy of the system following the same procedure used above, but this time we will perform both steps at once:\n",
    "\n",
    "$$\n",
    "E = - 0.5 \\  \\bf x^{T} * \\ adjacency\\_matrix * \\ x\n",
    "$$"
   ]
  },
  {
   "cell_type": "code",
   "execution_count": 56,
   "id": "5f6e9097",
   "metadata": {},
   "outputs": [
    {
     "data": {
      "text/plain": [
       "-24.0"
      ]
     },
     "metadata": {},
     "output_type": "display_data"
    }
   ],
   "source": [
    "E = - 0.5 * np.matmul(x,np.matmul(x,adjacency_matrix))\n",
    "display(E)"
   ]
  },
  {
   "cell_type": "markdown",
   "id": "678a342d",
   "metadata": {},
   "source": [
    "As expected, one vacancy removes 3 bonds and, therefore, the energy went up by 3 a.u.\n",
    "\n",
    "Because of the symmetry of the system and the way the model is built, all atom positions are equivalent. This means that a vacancy in any position will increase the energy by 3 a.u., but let's confirm this.\n",
    "\n",
    "Let's build a matrix, called **X**, where each row represents a possible position for the vacancy:"
   ]
  },
  {
   "cell_type": "code",
   "execution_count": 115,
   "id": "596b0a14",
   "metadata": {},
   "outputs": [],
   "source": [
    "X = np.array([[1]*graphene_supercell.num_sites]*graphene_supercell.num_sites)\n",
    "np.fill_diagonal(X,0)"
   ]
  },
  {
   "cell_type": "code",
   "execution_count": 100,
   "id": "47c971e4",
   "metadata": {},
   "outputs": [
    {
     "data": {
      "text/plain": [
       "array([[0, 0, 0, ..., 0, 0, 0],\n",
       "       [0, 0, 0, ..., 0, 0, 1],\n",
       "       [0, 0, 0, ..., 0, 1, 0],\n",
       "       ...,\n",
       "       [1, 1, 1, ..., 1, 0, 1],\n",
       "       [1, 1, 1, ..., 1, 1, 0],\n",
       "       [1, 1, 1, ..., 1, 1, 1]])"
      ]
     },
     "execution_count": 100,
     "metadata": {},
     "output_type": "execute_result"
    }
   ],
   "source": [
    "X"
   ]
  },
  {
   "cell_type": "markdown",
   "id": "8c29f92d",
   "metadata": {},
   "source": [
    "In the **X** matrix, the row $i$ represents the configuration with the vacancy in the $i-th$ position."
   ]
  },
  {
   "cell_type": "markdown",
   "id": "85ebb6ab",
   "metadata": {},
   "source": [
    "We could now procede to calculate the energy of each configuration using a for loop, i.e. multiply each line by the adjacency_matrix and then again by the transposed line. Let's do this in the cell below and use a faster approach later:"
   ]
  },
  {
   "cell_type": "code",
   "execution_count": 116,
   "id": "3dd63402",
   "metadata": {},
   "outputs": [
    {
     "data": {
      "text/plain": [
       "[48, 48, 48, 48, 48, 48, 48, 48, 48, 48, 48, 48, 48, 48, 48, 48, 48, 48]"
      ]
     },
     "metadata": {},
     "output_type": "display_data"
    }
   ],
   "source": [
    "energies = []\n",
    "for line in X:\n",
    "    energies.append(np.matmul(line, np.matmul(line, adjacency_matrix)))\n",
    "\n",
    "display(energies)"
   ]
  },
  {
   "cell_type": "markdown",
   "id": "17faba44",
   "metadata": {},
   "source": [
    "As expected, the energy if the same for each configuration. In the **energies** vector above, the element $e_i$ is the energy of the configuration $i$."
   ]
  },
  {
   "cell_type": "markdown",
   "id": "0185da42",
   "metadata": {},
   "source": [
    "The faster approach mentioned above consists in using linear algebra knowledge and multiply the **X** matrix by the **adjacency_matrix** directly:"
   ]
  },
  {
   "cell_type": "code",
   "execution_count": 113,
   "id": "5f9b82b0",
   "metadata": {},
   "outputs": [
    {
     "data": {
      "text/plain": [
       "array([3, 3, 3, 3, 3, 3, 3, 3, 3, 3, 3, 3, 3, 3, 3, 3, 3, 3])"
      ]
     },
     "metadata": {},
     "output_type": "display_data"
    }
   ],
   "source": [
    "#REVIEW THIS\n",
    "energies = - np.matmul(X,adjacency_matrix)\n",
    "energies = np.sum(adjacency_matrix,axis = 1)\n",
    "display(energies)\n",
    "\n",
    "#E_tmp = -np.matmul(X_classical,adjacency_matrix)\n",
    "#E_classical = np.sum(X_classical*E_tmp,axis=1)"
   ]
  },
  {
   "cell_type": "markdown",
   "id": "480237d0",
   "metadata": {},
   "source": [
    "The energy landscape as a function of the configuration is plotted below:"
   ]
  },
  {
   "cell_type": "code",
   "execution_count": 126,
   "id": "e9f95496",
   "metadata": {},
   "outputs": [
    {
     "data": {
      "text/plain": [
       "array([ 1.        , -0.64014434, -0.18043045,  0.8711474 , -0.93488971,\n",
       "        0.32578131,  0.51779559, -0.98870914,  0.74803752,  0.03100516,\n",
       "       -0.78773308,  0.97752059, -0.46377546, -0.38375412,  0.95509151,\n",
       "       -0.83903873,  0.11912028,  0.68653039])"
      ]
     },
     "execution_count": 126,
     "metadata": {},
     "output_type": "execute_result"
    },
    {
     "data": {
      "image/png": "[encoded data removed]",
      "text/plain": [
       "<Figure size 432x288 with 1 Axes>"
      ]
     },
     "metadata": {
      "needs_background": "light"
     },
     "output_type": "display_data"
    }
   ],
   "source": [
    "import matplotlib.pyplot as plt\n",
    "\n",
    "x = np.arange(18)\n",
    "y = np.cos(x*energies)\n",
    "plt.plot(x,y)\n",
    "y"
   ]
  },
  {
   "cell_type": "markdown",
   "id": "d6fff53b",
   "metadata": {},
   "source": [
    "As the final step of this \"classical approach\", we are going to calculate the energy of all possible configurations and number of vacancies. There will be $2^{num_atoms}$, so $2^{18} = 262144$ possible configurations. The new **X** matrix that contain all of them will be generated by using a python module called itertools. The first 10 configurations are displayed below."
   ]
  },
  {
   "cell_type": "code",
   "execution_count": 93,
   "id": "bec1eef7",
   "metadata": {},
   "outputs": [
    {
     "data": {
      "text/plain": [
       "array([[0, 0, 0, 0, 0, 0, 0, 0, 0, 0, 0, 0, 0, 0, 0, 0, 0, 0],\n",
       "       [0, 0, 0, 0, 0, 0, 0, 0, 0, 0, 0, 0, 0, 0, 0, 0, 0, 1],\n",
       "       [0, 0, 0, 0, 0, 0, 0, 0, 0, 0, 0, 0, 0, 0, 0, 0, 1, 0],\n",
       "       [0, 0, 0, 0, 0, 0, 0, 0, 0, 0, 0, 0, 0, 0, 0, 0, 1, 1],\n",
       "       [0, 0, 0, 0, 0, 0, 0, 0, 0, 0, 0, 0, 0, 0, 0, 1, 0, 0],\n",
       "       [0, 0, 0, 0, 0, 0, 0, 0, 0, 0, 0, 0, 0, 0, 0, 1, 0, 1],\n",
       "       [0, 0, 0, 0, 0, 0, 0, 0, 0, 0, 0, 0, 0, 0, 0, 1, 1, 0],\n",
       "       [0, 0, 0, 0, 0, 0, 0, 0, 0, 0, 0, 0, 0, 0, 0, 1, 1, 1],\n",
       "       [0, 0, 0, 0, 0, 0, 0, 0, 0, 0, 0, 0, 0, 0, 1, 0, 0, 0],\n",
       "       [0, 0, 0, 0, 0, 0, 0, 0, 0, 0, 0, 0, 0, 0, 1, 0, 0, 1]])"
      ]
     },
     "execution_count": 93,
     "metadata": {},
     "output_type": "execute_result"
    }
   ],
   "source": [
    "import itertools\n",
    "X = np.array(list(itertools.product([0, 1], repeat=18)))\n",
    "X[0:10]"
   ]
  },
  {
   "cell_type": "markdown",
   "id": "5233f108",
   "metadata": {},
   "source": [
    "Now we are going to use the same approach discussed above to calculate the energy of all the configurations. "
   ]
  },
  {
   "cell_type": "code",
   "execution_count": 105,
   "id": "0a1b31b6",
   "metadata": {},
   "outputs": [
    {
     "data": {
      "text/plain": [
       "array([  0,   0,   0, ..., -48, -48, -54])"
      ]
     },
     "execution_count": 105,
     "metadata": {},
     "output_type": "execute_result"
    }
   ],
   "source": [
    "energies = - np.sum(X*np.matmul(X,adjacency_matrix), axis=1)\n",
    "energies"
   ]
  },
  {
   "cell_type": "markdown",
   "id": "5fa4be5a",
   "metadata": {},
   "source": [
    "Let's now have a look at the unique energies for the set:"
   ]
  },
  {
   "cell_type": "code",
   "execution_count": 111,
   "id": "4a416d80",
   "metadata": {},
   "outputs": [
    {
     "data": {
      "text/plain": [
       "array([-54, -48, -44, -42, -40, -38, -36, -34, -32, -30, -28, -26, -24,\n",
       "       -22, -20, -18, -16, -14, -12, -10,  -8,  -6,  -4,  -2,   0])"
      ]
     },
     "metadata": {},
     "output_type": "display_data"
    },
    {
     "data": {
      "text/plain": [
       "array([    1,    18,    27,   126,    54,   324,   564,   729,  1728,\n",
       "        2367,  4023,  6048,  8757, 12204, 16686, 20454, 25542, 28701,\n",
       "       30276, 30402, 26919, 21267, 14904,  7425,  2598])"
      ]
     },
     "metadata": {},
     "output_type": "display_data"
    }
   ],
   "source": [
    "energies_unique, count = np.unique(energies, return_counts=True)\n",
    "display(energies_unique)\n",
    "display(count)"
   ]
  },
  {
   "cell_type": "markdown",
   "id": "fff5711a",
   "metadata": {},
   "source": [
    "In the cell above, the first array reports the unique energies, whereas, the second one reports how many structures corresponding to a certain energies were found."
   ]
  },
  {
   "cell_type": "markdown",
   "id": "43122392",
   "metadata": {},
   "source": [
    "## Quantum annealing"
   ]
  },
  {
   "cell_type": "markdown",
   "id": "5a35d4e9",
   "metadata": {},
   "source": [
    "In this section we are going to use a quantum annealer to find the lowest energy/energies structures for a certain configuration.\n",
    "\n",
    "This approach, opposite to the \"classical approach\", will consist of:\n",
    "\n",
    "- define the system \n",
    "- define the model to represent the system\n",
    "- encode both the model to represent the system and the energy model into a binary quadratic model (explain below)\n",
    "- run the annealing N times and analyse the results (energy and configuration)\n",
    "\n",
    "The important difference to notice with respect to the \"Classical model\" is that instead of defining the model to represent the system, we are encoding that information into the binary quadratic model that, by trying to find the lowest energy solution, will return both the energy of the system and the corresponding configuration. Therefore, we are still going to use the **c** vector, but the **x** vectors will be returned by the calculation."
   ]
  },
  {
   "cell_type": "markdown",
   "id": "39844164",
   "metadata": {},
   "source": [
    "### The Binary Quadratic Model"
   ]
  },
  {
   "cell_type": "markdown",
   "id": "1626dc7e",
   "metadata": {},
   "source": [
    "The binary quadratic model can be expressed as:\n",
    "\n",
    "$$\n",
    "E = \\sum_{i} h_{i} x_{i} + \\sum_{i,j} x_{i}x_{j}\n",
    "$$\n",
    "\n",
    "where, in the context of quantum annealing computing:\n",
    "\n",
    "- $h_i$ is called bias \n",
    "- $J_{i,j}$ is called coupling\n",
    "\n",
    "The bias corresponds to the "
   ]
  },
  {
   "cell_type": "code",
   "execution_count": null,
   "id": "78f97be8",
   "metadata": {},
   "outputs": [],
   "source": []
  },
  {
   "cell_type": "code",
   "execution_count": null,
   "id": "03b36ac2",
   "metadata": {},
   "outputs": [],
   "source": []
  },
  {
   "cell_type": "code",
   "execution_count": null,
   "id": "adaa4488",
   "metadata": {},
   "outputs": [],
   "source": []
  },
  {
   "cell_type": "code",
   "execution_count": null,
   "id": "adf1865a",
   "metadata": {},
   "outputs": [],
   "source": []
  },
  {
   "cell_type": "code",
   "execution_count": null,
   "id": "d5d24f85",
   "metadata": {},
   "outputs": [],
   "source": []
  },
  {
   "cell_type": "code",
   "execution_count": null,
   "id": "7d22fac3",
   "metadata": {},
   "outputs": [],
   "source": []
  },
  {
   "cell_type": "code",
   "execution_count": null,
   "id": "3ffdf2a3",
   "metadata": {},
   "outputs": [],
   "source": []
  },
  {
   "cell_type": "code",
   "execution_count": null,
   "id": "96842586",
   "metadata": {},
   "outputs": [],
   "source": []
  },
  {
   "cell_type": "markdown",
   "id": "d6554ca4",
   "metadata": {},
   "source": [
    "# THE END"
   ]
  },
  {
   "cell_type": "code",
   "execution_count": 39,
   "id": "22370091",
   "metadata": {},
   "outputs": [
    {
     "data": {
      "text/plain": [
       "<Popen: returncode: None args: ['/Users/brunocamino/miniconda3/envs/qc/bin/p...>"
      ]
     },
     "execution_count": 39,
     "metadata": {},
     "output_type": "execute_result"
    }
   ],
   "source": [
    "from pymatgen.io.ase import AseAtomsAdaptor\n",
    "from ase.visualize import view\n",
    "view(AseAtomsAdaptor().get_atoms(graphene_supercell))"
   ]
  }
 ],
 "metadata": {
  "kernelspec": {
   "display_name": "Python 3 (ipykernel)",
   "language": "python",
   "name": "python3"
  },
  "language_info": {
   "codemirror_mode": {
    "name": "ipython",
    "version": 3
   },
   "file_extension": ".py",
   "mimetype": "text/x-python",
   "name": "python",
   "nbconvert_exporter": "python",
   "pygments_lexer": "ipython3",
   "version": "3.9.12"
  }
 },
 "nbformat": 4,
 "nbformat_minor": 5
}

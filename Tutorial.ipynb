{
 "cells": [
  {
   "cell_type": "markdown",
   "id": "3d999e1d",
   "metadata": {},
   "source": [
    "# Tutorial\n",
    "based on <a href='https://www.youtube.com/watch?v=jTDnGox0c9Y'>link</a>"
   ]
  },
  {
   "cell_type": "markdown",
   "id": "3bff7231",
   "metadata": {},
   "source": [
    "- define the objective (minimisation)\n",
    "- define the contraints in terms of sums equalities/inequalities\n",
    "- build the objective piece by piece"
   ]
  },
  {
   "cell_type": "code",
   "execution_count": 21,
   "id": "07d91780",
   "metadata": {},
   "outputs": [],
   "source": [
    "from dimod import BinaryQuadraticModel"
   ]
  },
  {
   "cell_type": "code",
   "execution_count": 22,
   "id": "d01f9128",
   "metadata": {},
   "outputs": [],
   "source": [
    "bqm = BinaryQuadraticModel('BINARY') #BINARY means I'm using 0/1 opposite to -1/+1"
   ]
  },
  {
   "cell_type": "code",
   "execution_count": 23,
   "id": "8745c1a7",
   "metadata": {},
   "outputs": [],
   "source": [
    "pumps = [0,1,2,3]\n",
    "time = [0,1]\n",
    "costs = [[36,27],\n",
    "       [56,65],\n",
    "       [48,36],\n",
    "       [52,16]]\n",
    "flow = [2,7,3,8]\n",
    "demand = 20\n",
    "\n",
    "#Build a variable for each pump\n",
    "x = [[f'P{p}_AM',f'P{p}_PM'] for p in pumps]"
   ]
  },
  {
   "cell_type": "markdown",
   "id": "bf9bb8b2",
   "metadata": {},
   "source": [
    "#### build the objective piece by piece"
   ]
  },
  {
   "cell_type": "code",
   "execution_count": 24,
   "id": "b56a4590",
   "metadata": {},
   "outputs": [],
   "source": [
    "for p in pumps:\n",
    "    for t in time:\n",
    "        bqm.add_variable(x[p][t],costs[p][t])"
   ]
  },
  {
   "cell_type": "markdown",
   "id": "a8303045",
   "metadata": {},
   "source": [
    "#### constraint 1 (once a day)\n",
    "The bias is 1. There is no coefficient. There is also an implicit upper bound (only 2 time slots)"
   ]
  },
  {
   "cell_type": "code",
   "execution_count": 25,
   "id": "d07ab188",
   "metadata": {},
   "outputs": [
    {
     "name": "stdout",
     "output_type": "stream",
     "text": [
      "[('P0_AM', 1), ('P0_PM', 1)]\n",
      "[('P1_AM', 1), ('P1_PM', 1)]\n",
      "[('P2_AM', 1), ('P2_PM', 1)]\n",
      "[('P3_AM', 1), ('P3_PM', 1)]\n"
     ]
    }
   ],
   "source": [
    "# c1 = list of binary variables with coefficients 1\n",
    "for p in pumps:\n",
    "    c1 = [(x[p][t],1) for t in time] # 1 is the biasc\n",
    "    print(c1)\n",
    "    bqm.add_linear_inequality_constraint(\n",
    "        c1,\n",
    "        lb =1, #lower bound\n",
    "        ub = len(time), #upper bound\n",
    "        lagrange_multiplier = 13, #penalty coefficient ?\n",
    "        label = 'c1_pump_'+str(p)\n",
    "    )\n",
    "    "
   ]
  },
  {
   "cell_type": "markdown",
   "id": "db4fee23",
   "metadata": {},
   "source": [
    "#### constraint 2 (max 3 pumps at a time)\n",
    "Move the 3 so it becomes sum x -3 >= 0. The bias is 1, upper bound is 3. There is a constant of -3"
   ]
  },
  {
   "cell_type": "code",
   "execution_count": 26,
   "id": "deaf3ea2",
   "metadata": {},
   "outputs": [],
   "source": [
    "for t in time:\n",
    "    c2 = [(x[p][t], 1) for p in pumps] #bias = 1\n",
    "    bqm.add_linear_inequality_constraint(\n",
    "        c2,\n",
    "        constant= -3,\n",
    "        lagrange_multiplier = 1,\n",
    "        label = 'c2_time_'+str(t)\n",
    "        )"
   ]
  },
  {
   "cell_type": "markdown",
   "id": "f91c63a4",
   "metadata": {},
   "source": [
    "#### constraint 3 (satisfy daily demand)\n",
    "Move the demand so it becomes sum x -demand = 0. The bias is the flow. There is a constant of -demand"
   ]
  },
  {
   "cell_type": "code",
   "execution_count": 27,
   "id": "783b9282",
   "metadata": {},
   "outputs": [],
   "source": [
    "c3 = [(x[p][t],flow[p]) for t in time for p in pumps] #flow is the bias\n",
    "bqm.add_linear_equality_constraint(\n",
    "    c3,\n",
    "    constant= - demand,\n",
    "    lagrange_multiplier = 28\n",
    "    )"
   ]
  },
  {
   "cell_type": "markdown",
   "id": "4e904d13",
   "metadata": {},
   "source": [
    "# Run"
   ]
  },
  {
   "cell_type": "code",
   "execution_count": 30,
   "id": "1875b091",
   "metadata": {},
   "outputs": [],
   "source": [
    "from dwave.system import DWaveSampler, EmbeddingComposite"
   ]
  },
  {
   "cell_type": "code",
   "execution_count": 31,
   "id": "b8cc8c82",
   "metadata": {},
   "outputs": [],
   "source": [
    "sampler = EmbeddingComposite(DWaveSampler()) #ocean decides where to fit the logical problem on the physical chip structure\n",
    "sampleset = sampler.sample(bqm, num_reads = 10)\n",
    "\n",
    "sample = sampleset.first.sample"
   ]
  },
  {
   "cell_type": "code",
   "execution_count": 32,
   "id": "adb9c0c6",
   "metadata": {},
   "outputs": [
    {
     "data": {
      "text/plain": [
       "{'P0_AM': 0,\n",
       " 'P0_PM': 1,\n",
       " 'P1_AM': 0,\n",
       " 'P1_PM': 0,\n",
       " 'P2_AM': 0,\n",
       " 'P2_PM': 1,\n",
       " 'P3_AM': 1,\n",
       " 'P3_PM': 1,\n",
       " 'slack_c1_pump_0_0': 1,\n",
       " 'slack_c1_pump_1_0': 1,\n",
       " 'slack_c1_pump_2_0': 0,\n",
       " 'slack_c1_pump_3_0': 0,\n",
       " 'slack_c2_time_0_0': 0,\n",
       " 'slack_c2_time_0_1': 0,\n",
       " 'slack_c2_time_1_0': 1,\n",
       " 'slack_c2_time_1_1': 0}"
      ]
     },
     "execution_count": 32,
     "metadata": {},
     "output_type": "execute_result"
    }
   ],
   "source": [
    "sample"
   ]
  }
 ],
 "metadata": {
  "kernelspec": {
   "display_name": "Python 3 (ipykernel)",
   "language": "python",
   "name": "python3"
  },
  "language_info": {
   "codemirror_mode": {
    "name": "ipython",
    "version": 3
   },
   "file_extension": ".py",
   "mimetype": "text/x-python",
   "name": "python",
   "nbconvert_exporter": "python",
   "pygments_lexer": "ipython3",
   "version": "3.9.12"
  }
 },
 "nbformat": 4,
 "nbformat_minor": 5
}

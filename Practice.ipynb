{
 "cells": [
  {
   "cell_type": "markdown",
   "id": "bb14adcf",
   "metadata": {},
   "source": [
    "# Quantum computing practice notebook "
   ]
  },
  {
   "cell_type": "markdown",
   "id": "a246d31f",
   "metadata": {},
   "source": [
    "### Max area fixed perimeter"
   ]
  },
  {
   "cell_type": "code",
   "execution_count": 1,
   "id": "5f3f45e0",
   "metadata": {},
   "outputs": [
    {
     "data": {
      "text/plain": [
       "'Max perimeter'"
      ]
     },
     "execution_count": 1,
     "metadata": {},
     "output_type": "execute_result"
    }
   ],
   "source": [
    "from dimod import ConstrainedQuadraticModel, Integer\n",
    "i = Integer('i', upper_bound=4)\n",
    "j = Integer('j', upper_bound=4)\n",
    "cqm = ConstrainedQuadraticModel()\n",
    "cqm.set_objective(-i*j)\n",
    "cqm.add_constraint(2*i+2*j <= 8, \"Max perimeter\")"
   ]
  },
  {
   "cell_type": "markdown",
   "id": "06cd93fc",
   "metadata": {},
   "source": [
    "## Minor embedding \n",
    "from <a href=\"https://docs.dwavesys.com/docs/latest/c_gs_8.html\">link</a>."
   ]
  },
  {
   "cell_type": "markdown",
   "id": "1ac66e15",
   "metadata": {},
   "source": [
    "### Manual"
   ]
  },
  {
   "cell_type": "code",
   "execution_count": 1,
   "id": "49bd4a94",
   "metadata": {},
   "outputs": [],
   "source": [
    "from dwave.system import DWaveSampler\n",
    "sampler_manual = DWaveSampler(solver={'topology__type': 'chimera'})"
   ]
  },
  {
   "cell_type": "markdown",
   "id": "4f29a5f3",
   "metadata": {},
   "source": [
    "The following checks that the qubits and couplers selected in the Constraints Example: Minor-Embedding chapter are available."
   ]
  },
  {
   "cell_type": "code",
   "execution_count": 5,
   "id": "7a0b02f6",
   "metadata": {},
   "outputs": [
    {
     "data": {
      "text/plain": [
       "1"
      ]
     },
     "execution_count": 5,
     "metadata": {},
     "output_type": "execute_result"
    }
   ],
   "source": [
    "all(qubit in sampler_manual.nodelist for qubit in [0, 1, 4, 5])* \\\n",
    "all(coupler in sampler_manual.edgelist for coupler in [(0, 4), (0, 5), (1, 4), (1, 5)])"
   ]
  },
  {
   "cell_type": "code",
   "execution_count": 17,
   "id": "b65e49a6",
   "metadata": {},
   "outputs": [],
   "source": [
    "qubit_biases = {(0, 0): 1, (1, 1): -1, (4, 4): -1, (5, 5): 1}\n",
    "coupler_strengths = {(0, 4): 2, (0, 5): -3, (1, 4): 2, (1, 5): 2}\n",
    "Q = {**qubit_biases, **coupler_strengths} #joins the two dicts above\n",
    "\n",
    "#sampleset = sampler_manual.sample_qubo(Q, num_reads=5000)"
   ]
  },
  {
   "cell_type": "code",
   "execution_count": 19,
   "id": "91eaef1d",
   "metadata": {},
   "outputs": [
    {
     "name": "stdout",
     "output_type": "stream",
     "text": [
      "   0  1  4  5 energy num_oc.\n",
      "0  0  0  1  0   -1.0    1550\n",
      "1  0  1  0  0   -1.0    1872\n",
      "2  1  0  0  1   -1.0    1575\n",
      "3  1  1  0  1    0.0       1\n",
      "4  0  0  0  0    0.0       1\n",
      "5  1  1  0  0    0.0       1\n",
      "['BINARY', 6 rows, 5000 samples, 4 variables]\n"
     ]
    }
   ],
   "source": [
    "print(sampleset)"
   ]
  },
  {
   "cell_type": "markdown",
   "id": "17b581f5",
   "metadata": {},
   "source": [
    "### Automated"
   ]
  },
  {
   "cell_type": "code",
   "execution_count": 20,
   "id": "a09da822",
   "metadata": {},
   "outputs": [],
   "source": [
    "from dwave.system import DWaveSampler, EmbeddingComposite\n",
    "sampler_auto = EmbeddingComposite(DWaveSampler(solver={'topology__type': 'chimera'}))"
   ]
  },
  {
   "cell_type": "markdown",
   "id": "58b0f30d",
   "metadata": {},
   "source": [
    "Set values of the original QUBO (i.e., variables, such as _a_, rather than qubit indices, such as 0, and coefficients without modifications for chains) and submit to the selected QPU."
   ]
  },
  {
   "cell_type": "code",
   "execution_count": 1,
   "id": "1aec9482",
   "metadata": {},
   "outputs": [],
   "source": [
    "linear = {('a', 'a'): -1, ('b', 'b'): -1, ('c', 'c'): -1}\n",
    "quadratic = {('a', 'b'): 2, ('b', 'c'): 2, ('a', 'c'): 2}\n",
    "Q = {**linear, **quadratic}\n",
    "\n",
    "#sampleset_auto = sampler_auto.sample_qubo(Q, num_reads=3000)\n",
    "#sampleset_test = sampler_auto.sample_qubo(Q, num_reads=10)"
   ]
  },
  {
   "cell_type": "code",
   "execution_count": 31,
   "id": "8ed36704",
   "metadata": {},
   "outputs": [
    {
     "name": "stdout",
     "output_type": "stream",
     "text": [
      "   a  b  c energy num_oc. chain_b.\n",
      "0  0  0  1   -1.0     686      0.0\n",
      "1  1  0  0   -1.0     930      0.0\n",
      "2  0  1  0   -1.0    1382      0.0\n",
      "3  0  0  0    0.0       1      0.0\n",
      "4  1  1  0    0.0       1 0.333333\n",
      "['BINARY', 5 rows, 3000 samples, 3 variables]\n"
     ]
    }
   ],
   "source": [
    "print(sampleset_auto)"
   ]
  },
  {
   "cell_type": "code",
   "execution_count": 32,
   "id": "97053a86",
   "metadata": {},
   "outputs": [
    {
     "name": "stdout",
     "output_type": "stream",
     "text": [
      "   a  b  c energy num_oc. chain_.\n",
      "0  0  1  0   -1.0       4     0.0\n",
      "1  0  0  1   -1.0       2     0.0\n",
      "2  1  0  0   -1.0       4     0.0\n",
      "['BINARY', 3 rows, 10 samples, 3 variables]\n"
     ]
    }
   ],
   "source": [
    "print(sampleset_test)"
   ]
  },
  {
   "cell_type": "code",
   "execution_count": 2,
   "id": "39327135",
   "metadata": {},
   "outputs": [
    {
     "data": {
      "text/plain": [
       "{('a', 'a'): -1,\n",
       " ('b', 'b'): -1,\n",
       " ('c', 'c'): -1,\n",
       " ('a', 'b'): 2,\n",
       " ('b', 'c'): 2,\n",
       " ('a', 'c'): 2}"
      ]
     },
     "execution_count": 2,
     "metadata": {},
     "output_type": "execute_result"
    }
   ],
   "source": [
    "Q"
   ]
  },
  {
   "cell_type": "markdown",
   "id": "fc3c5332",
   "metadata": {},
   "source": [
    "# <a href='https://github.com/dwave-examples/simple-ocean-programs/tree/master/Basic_Programs'>Basic Ising Program</a>"
   ]
  },
  {
   "cell_type": "code",
   "execution_count": 3,
   "id": "b04e92b4",
   "metadata": {},
   "outputs": [
    {
     "name": "stdout",
     "output_type": "stream",
     "text": [
      "   A  B  C  K energy num_oc. chain_.\n",
      "0 -1 +1 +1 -1   -1.5       4     0.0\n",
      "1 +1 -1 -1 +1   -1.5       5     0.0\n",
      "2 -1 +1 +1 +1   -0.5       1     0.0\n",
      "['SPIN', 3 rows, 10 samples, 4 variables]\n"
     ]
    }
   ],
   "source": [
    "from dwave.system import EmbeddingComposite, DWaveSampler\n",
    "\n",
    "# Define the problem as two Python dictionaries:\n",
    "#   h for linear terms, J for quadratic terms\n",
    "h = {}\n",
    "J = {('A','K'): -0.5,\n",
    "    ('B','C'): -0.5, \n",
    "    ('A','C'): 0.5}\n",
    "\n",
    "# Define the sampler that will be used to run the problem\n",
    "sampler = EmbeddingComposite(DWaveSampler())\n",
    "\n",
    "# Run the problem on the sampler and print the results\n",
    "#sampleset = sampler.sample_ising(h, J,num_reads = 10,label='Example - Simple Ocean Programs: Ising')\n",
    "print(sampleset)"
   ]
  },
  {
   "cell_type": "code",
   "execution_count": 8,
   "id": "79934b05",
   "metadata": {},
   "outputs": [
    {
     "data": {
      "text/plain": [
       "SampleSet(rec.array([([-1,  1,  1, -1], -1.5, 4, 0.),\n",
       "           ([ 1, -1, -1,  1], -1.5, 5, 0.),\n",
       "           ([-1,  1,  1,  1], -0.5, 1, 0.)],\n",
       "          dtype=[('sample', 'i1', (4,)), ('energy', '<f8'), ('num_occurrences', '<i8'), ('chain_break_fraction', '<f8')]), Variables(['A', 'B', 'C', 'K']), {'timing': {'qpu_sampling_time': 753.0, 'qpu_anneal_time_per_sample': 20.0, 'qpu_readout_time_per_sample': 34.76, 'qpu_access_time': 15814.96, 'qpu_access_overhead_time': 4181.04, 'qpu_programming_time': 15061.96, 'qpu_delay_time_per_sample': 20.54, 'total_post_processing_time': 1926.0, 'post_processing_overhead_time': 1926.0}, 'problem_id': 'd64a5bcb-79e8-433e-bcaa-cb1b678d4a92', 'problem_label': 'Example - Simple Ocean Programs: Ising'}, 'SPIN')"
      ]
     },
     "execution_count": 8,
     "metadata": {},
     "output_type": "execute_result"
    }
   ],
   "source": [
    "sampleset"
   ]
  },
  {
   "cell_type": "markdown",
   "id": "495ec294",
   "metadata": {},
   "source": [
    "# <a href='https://github.com/dwave-examples/simple-ocean-programs/tree/master/Basic_Programs'>Basic QUBO Program</a>"
   ]
  },
  {
   "cell_type": "code",
   "execution_count": 9,
   "id": "3c57f985",
   "metadata": {},
   "outputs": [
    {
     "name": "stdout",
     "output_type": "stream",
     "text": [
      "   A  B  C  K energy num_oc. chain_.\n",
      "0  1  0  0  1   -1.0       8     0.0\n",
      "1  0  1  1  0   -1.0       2     0.0\n",
      "['BINARY', 2 rows, 10 samples, 4 variables]\n"
     ]
    }
   ],
   "source": [
    "from dwave.system import EmbeddingComposite, DWaveSampler\n",
    "\n",
    "# Define the problem as a Python dictionary\n",
    "Q = {('B','B'): 1,\n",
    "    ('K','K'): 1,\n",
    "    ('A','C'): 2,\n",
    "    ('A','K'): -2,\n",
    "    ('B','C'): -2}\n",
    "\n",
    "# Define the sampler that will be used to run the problem\n",
    "sampler = EmbeddingComposite(DWaveSampler())\n",
    "\n",
    "# Run the problem on the sampler and print the results\n",
    "sampleset = sampler.sample_qubo(Q, num_reads = 10, label='Example - Simple Ocean Programs: QUBO')\n",
    "\n",
    "print(sampleset)"
   ]
  },
  {
   "cell_type": "markdown",
   "id": "4d6854c3",
   "metadata": {},
   "source": [
    "# <a href='https://github.com/dwave-examples/simple-ocean-programs/blob/master/BQM_Functionality/general_program_bqm.py'>Run a QUBO problem on the D-Wave QPU as a binary quadratic model (BQM)</a>"
   ]
  },
  {
   "cell_type": "code",
   "execution_count": 10,
   "id": "44240ec0",
   "metadata": {},
   "outputs": [],
   "source": [
    "from dwave.system import EmbeddingComposite, DWaveSampler\n",
    "from dimod import BinaryQuadraticModel\n",
    "\n",
    "# Define the problem as a Python dictionary and convert it to a BQM\n",
    "Q = {('B','B'): 1,\n",
    "    ('K','K'): 1,\n",
    "    ('A','C'): 2,\n",
    "    ('A','K'): -2,\n",
    "    ('B','C'): -2}\n",
    "\n",
    "# Convert the problem to a BQM\n",
    "bqm = BinaryQuadraticModel.from_qubo(Q)\n",
    "\n",
    "# Define the sampler that will be used to run the problem\n",
    "sampler = EmbeddingComposite(DWaveSampler())\n",
    "\n",
    "# Run the problem on the sampler and print the results\n",
    "#sampleset = sampler.sample(bqm, num_reads = 10, label='Example - Simple Ocean Programs: BQM')\n",
    "#print(sampleset)"
   ]
  },
  {
   "cell_type": "code",
   "execution_count": 12,
   "id": "98021d8d",
   "metadata": {},
   "outputs": [
    {
     "data": {
      "text/plain": [
       "BinaryQuadraticModel({'B': 1.0, 'K': 1.0, 'A': 0.0, 'C': 0.0}, {('A', 'K'): -2.0, ('C', 'B'): -2.0, ('C', 'A'): 2.0}, 0.0, 'BINARY')"
      ]
     },
     "execution_count": 12,
     "metadata": {},
     "output_type": "execute_result"
    }
   ],
   "source": [
    "bqm"
   ]
  }
 ],
 "metadata": {
  "kernelspec": {
   "display_name": "Python 3 (ipykernel)",
   "language": "python",
   "name": "python3"
  },
  "language_info": {
   "codemirror_mode": {
    "name": "ipython",
    "version": 3
   },
   "file_extension": ".py",
   "mimetype": "text/x-python",
   "name": "python",
   "nbconvert_exporter": "python",
   "pygments_lexer": "ipython3",
   "version": "3.9.12"
  }
 },
 "nbformat": 4,
 "nbformat_minor": 5
}

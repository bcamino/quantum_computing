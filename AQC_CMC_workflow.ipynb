{
 "cells": [
  {
   "cell_type": "markdown",
   "id": "64ea402d",
   "metadata": {},
   "source": [
    "## Adiabatic Quantum Computing workflow for Computational Materials Chemistry\n"
   ]
  },
  {
   "cell_type": "code",
   "execution_count": 3,
   "id": "9624d9c5",
   "metadata": {},
   "outputs": [],
   "source": [
    "from pymatgen.core.structure import Molecule, Structure, Lattice\n",
    "from pymatgen.symmetry.analyzer import SpacegroupAnalyzer\n",
    "from pymatgen.ext.matproj import MPRester\n",
    "from pymatgen.io.ase import AseAtomsAdaptor\n",
    "\n",
    "from ase.visualize import view\n",
    "import copy\n",
    "import time\n",
    "import itertools\n",
    "\n",
    "import numpy as np"
   ]
  },
  {
   "cell_type": "markdown",
   "id": "2bd6fd40",
   "metadata": {},
   "source": [
    "The **objectives** are:\n",
    "- maximising the number of bonds\n",
    "\n",
    "$$\n",
    "E_{bonds} = - p \\sum_{i}^{N_{atoms}}\\sum_{j>i}^{N_{atoms}} A_{i,j} x_{i} x_{j} \n",
    "$$\n",
    "\n",
    "where $A_{i,j} = 1$ if atoms i and j are bonded and $A_{i,j} = 0$ otherwise.\n",
    "\n",
    "- minimising the number of undercoordinated atoms\n",
    "\n",
    "$$\n",
    "E_{coord} = - q \\sum_{i}^{N_{atoms}} \\sum_{j}^{N^{i}_{neigh}}\\sum_{k>j}^{N^{i}_{neigh}}  x_{i} x_{j} \n",
    "$$\n",
    "\n",
    "Where $N^{i}_{bonds}$ is the number of neighbours the atom i has in absence of vacancies.\n",
    "\n",
    "The scaling factors p and q in the above expressions can be use to determine to weight of the bonds/coordination into the final energy.\\\n",
    "\n",
    "The **constraints** are defined in terms of number of vacancies:\n",
    "\n",
    "$$\n",
    "\\sum_{i}^{N_{atoms}} x_{i} = N_{atoms} - N_{vacancies} \n",
    "$$\n",
    "\n",
    "that can be expressed as:\n",
    "\n",
    "$$\n",
    "\\sum_{i}^{N_{atoms}} x_{i} - (N_{atoms} - N_{vacancies}) = 0 \n",
    "$$"
   ]
  },
  {
   "cell_type": "markdown",
   "id": "4aa735f8",
   "metadata": {},
   "source": [
    "# The functions"
   ]
  },
  {
   "cell_type": "code",
   "execution_count": 4,
   "id": "ed1fe3f5",
   "metadata": {},
   "outputs": [],
   "source": [
    "def build_adjacency_matrix(structure):\n",
    "    # structure = pymatgen Structure object\n",
    "    \n",
    "    import numpy as np\n",
    "    \n",
    "    distance_matrix_pbc = np.round(structure.distance_matrix,5)\n",
    "\n",
    "    shells = np.unique(distance_matrix_pbc[0])\n",
    "\n",
    "    adjacency_matrix = np.round(distance_matrix_pbc,5) == np.round(shells[1],5)\n",
    "    adjacency_matrix = adjacency_matrix.astype(int)\n",
    "    \n",
    "    return adjacency_matrix"
   ]
  },
  {
   "cell_type": "code",
   "execution_count": 60,
   "id": "574f7601",
   "metadata": {},
   "outputs": [],
   "source": [
    "def build_quadratic_model(structure,use_coord = True, num_vacancies = 0, \n",
    "                          weight_1=10, weight_2 = 1, lagrange = 1000):\n",
    "    # structure = pymatgen Structure object\n",
    "    \n",
    "    from dimod import BinaryQuadraticModel\n",
    "    \n",
    "    X = np.arange(structure.num_sites)\n",
    "    \n",
    "    adjacency_matrix = build_adjacency_matrix(structure)\n",
    "\n",
    "    Q = np.triu(-weight_1*adjacency_matrix.astype(int),0)\n",
    "    \n",
    "    bqm = BinaryQuadraticModel.from_qubo(Q)\n",
    "    \n",
    "    if use_coord == True:\n",
    "        for i in range(structure.num_sites):  \n",
    "            neighbours = np.where(adjacency_matrix[i,:] == 1)[0]\n",
    "            for j in range(len(neighbours)):\n",
    "                for k in range(len(neighbours)):\n",
    "                    if k > j:\n",
    "                        bqm.add_interaction(X[neighbours[j]],X[neighbours[k]],1)\n",
    "    \n",
    "\n",
    "    if num_vacancies == 0:\n",
    "        print('Unconstrained quadratic model used')\n",
    "        \n",
    "        return bqm\n",
    "    elif num_vacancies > 0:\n",
    "        print('Unconstrained quadratic model + contraints used')\n",
    "        \n",
    "        c_n_vacancies = [(i,1) for i in X]\n",
    "\n",
    "        bqm.add_linear_equality_constraint(\n",
    "                c_n_vacancies,\n",
    "                constant= -(structure.num_sites-num_vacancies),\n",
    "                lagrange_multiplier = lagrange\n",
    "                )\n",
    "\n",
    "        return bqm\n",
    "    \n",
    "    else:\n",
    "        print('Please select a positive integer number of vacancies')\n",
    "     \n",
    "        return None"
   ]
  },
  {
   "cell_type": "code",
   "execution_count": 26,
   "id": "d81a2ff3",
   "metadata": {},
   "outputs": [],
   "source": [
    "def run_anneal(bqm,num_reads = 1000, label='Test anneal', dataframe = True, remove_broken_chains = True,\n",
    "              return_config_E = False):\n",
    "    \n",
    "    from dwave.system import EmbeddingComposite, DWaveSampler\n",
    "    \n",
    "    sampler = EmbeddingComposite(DWaveSampler())\n",
    "    \n",
    "    result = sampler.sample(bqm, num_reads = num_reads,  label=label)\n",
    "    \n",
    "    if dataframe == True:\n",
    "        result_df = result.to_pandas_dataframe()\n",
    "        \n",
    "        if remove_broken_chains == True:\n",
    "            result_df = result_df[result_df['chain_break_fraction'] == 0.]\n",
    "            \n",
    "            if return_config_E == True:\n",
    "                n_atoms = len(bqm.to_numpy_vectors()[0])\n",
    "                \n",
    "                config = result_df.iloc[:,0:n_atoms].to_numpy()\n",
    "                energies = result_df['energy'].to_numpy()\n",
    "                \n",
    "                return result_df, config, energies\n",
    "            else:\n",
    "                return result_df\n",
    "        else:\n",
    "            return result_df\n",
    "    else:\n",
    "        return result"
   ]
  },
  {
   "cell_type": "code",
   "execution_count": 73,
   "id": "f1986dfe",
   "metadata": {},
   "outputs": [],
   "source": [
    "def find_unique_E_structures(energies,configurations,min_energy = 0):\n",
    "    np.unique(energy,return_index=True)\n",
    "    below_min_energy = np.where(np.unique(energy,return_index=True)[0] < 0.)[0]\n",
    "    return np.unique(energy,return_index=True)[0][below_min_energy], np.unique(energy,return_index=True)[1][below_min_energy]"
   ]
  },
  {
   "cell_type": "code",
   "execution_count": 84,
   "id": "bcdc7536",
   "metadata": {},
   "outputs": [],
   "source": [
    "def display_low_E_structures(structure,energies,configurations, min_energy = 0):\n",
    "    \n",
    "    low_energy, low_config = find_unique_E_structures(energies,configurations,min_energy = min_energy)\n",
    "    \n",
    "    for i in low_config:\n",
    "        structure_2 = copy.deepcopy(structure)\n",
    "        for j in np.where(configurations[i] == 0)[0]:\n",
    "            structure_2.replace(j,1)\n",
    "        \n",
    "        view(AseAtomsAdaptor().get_atoms(structure_2))\n",
    "    "
   ]
  },
  {
   "cell_type": "markdown",
   "id": "b6ffa1bd",
   "metadata": {},
   "source": [
    "# Graphene"
   ]
  },
  {
   "cell_type": "markdown",
   "id": "6f13783d",
   "metadata": {},
   "source": [
    "## Build structure"
   ]
  },
  {
   "cell_type": "code",
   "execution_count": 58,
   "id": "baf79703",
   "metadata": {
    "scrolled": false
   },
   "outputs": [],
   "source": [
    "lattice = np.array([[ 1.233862, -2.137112,  0.      ],\n",
    "                   [ 1.233862,  2.137112,  0.      ],\n",
    "                   [ 0.      ,  0.      ,  8.685038]])\n",
    "\n",
    "graphene = Structure(lattice, species=['C','C'], coords=[[2/3, 1/3, 0. ],[1/3, 2/3, 0.]])\n",
    "graphene = SpacegroupAnalyzer(graphene).get_conventional_standard_structure()\n",
    "\n",
    "n_supercell = 3\n",
    "scaling_matrix = np.identity(3)*n_supercell\n",
    "scaling_matrix[2][2] = 1\n",
    "graphene_supercell = copy.deepcopy(graphene)\n",
    "graphene_supercell.make_supercell(scaling_matrix)\n",
    "#graphene_supercell"
   ]
  },
  {
   "cell_type": "code",
   "execution_count": 61,
   "id": "5104d747",
   "metadata": {},
   "outputs": [
    {
     "name": "stdout",
     "output_type": "stream",
     "text": [
      "Unconstrained quadratic model + contraints used\n"
     ]
    }
   ],
   "source": [
    "bqm = build_quadratic_model(graphene_supercell,num_vacancies=2)\n",
    "dataframe, config, energy = run_anneal(bqm,num_reads=100, return_config_E=True)"
   ]
  },
  {
   "cell_type": "code",
   "execution_count": 74,
   "id": "0452da80",
   "metadata": {},
   "outputs": [
    {
     "data": {
      "text/plain": [
       "(array([-178., -168., -167.]), array([ 0,  5, 16]))"
      ]
     },
     "execution_count": 74,
     "metadata": {},
     "output_type": "execute_result"
    }
   ],
   "source": [
    "find_unique_E_structures(energy,config)"
   ]
  },
  {
   "cell_type": "code",
   "execution_count": 88,
   "id": "22347097",
   "metadata": {},
   "outputs": [
    {
     "data": {
      "text/plain": [
       "(array([-178., -168., -167.,  808.,  837.,  846.,  847.,  856.,  857.,\n",
       "         858.,  859., 3873., 3885., 8887.]),\n",
       " array([ 0,  5, 16, 27, 28, 32, 35, 52, 56, 74, 78, 80, 81, 82]))"
      ]
     },
     "execution_count": 88,
     "metadata": {},
     "output_type": "execute_result"
    }
   ],
   "source": [
    "np.unique(energy,return_index=True)"
   ]
  },
  {
   "cell_type": "code",
   "execution_count": 86,
   "id": "92347ef8",
   "metadata": {},
   "outputs": [
    {
     "name": "stderr",
     "output_type": "stream",
     "text": [
      "2022-06-24 16:17:30.525 python[15309:204905] *** CFMessagePort: bootstrap_register(): failed 1100 (0x44c) 'Permission denied', port = 0x14c07, name = 'python.ServiceProvider'\n",
      "See /usr/include/servers/bootstrap_defs.h for the error codes.\n"
     ]
    }
   ],
   "source": [
    "display_low_E_structures(graphene_supercell,energy, config)"
   ]
  },
  {
   "cell_type": "code",
   "execution_count": 87,
   "id": "9f4b6cb3",
   "metadata": {},
   "outputs": [],
   "source": [
    "#view(AseAtomsAdaptor().get_atoms(graphene_supercell),)"
   ]
  },
  {
   "cell_type": "markdown",
   "id": "86b5e74f",
   "metadata": {},
   "source": [
    "# Copper"
   ]
  },
  {
   "cell_type": "markdown",
   "id": "09dba98e",
   "metadata": {},
   "source": [
    "## Build structure"
   ]
  },
  {
   "cell_type": "code",
   "execution_count": 55,
   "id": "e4f34808",
   "metadata": {},
   "outputs": [],
   "source": [
    "lattice = np.array([[0.      , 1.810631, 1.810631],\n",
    "                   [1.810631, 0.      , 1.810631],\n",
    "                   [1.810631, 1.810631, 0.      ]])\n",
    "\n",
    "copper = Structure(lattice, species=['Cu'], coords=[[0., 0., 0. ]])\n",
    "\n",
    "copper = SpacegroupAnalyzer(copper).get_conventional_standard_structure()\n",
    "\n",
    "n_supercell = 2\n",
    "scaling_matrix = np.identity(3)*n_supercell\n",
    "copper_supercell = copy.deepcopy(copper)\n",
    "copper_supercell.make_supercell(scaling_matrix)"
   ]
  },
  {
   "cell_type": "code",
   "execution_count": 45,
   "id": "dc8e43d3",
   "metadata": {},
   "outputs": [
    {
     "data": {
      "text/plain": [
       "<Popen: returncode: None args: ['/Users/brunocamino/miniconda3/envs/qc/bin/p...>"
      ]
     },
     "execution_count": 45,
     "metadata": {},
     "output_type": "execute_result"
    }
   ],
   "source": [
    "view(AseAtomsAdaptor().get_atoms(copper_supercell))"
   ]
  },
  {
   "cell_type": "code",
   "execution_count": 41,
   "id": "3b88d353",
   "metadata": {
    "collapsed": true
   },
   "outputs": [
    {
     "name": "stdout",
     "output_type": "stream",
     "text": [
      "[[0. 8. 8. ... 4. 3. 4.]\n",
      " [0. 0. 4. ... 3. 4. 3.]\n",
      " [0. 0. 0. ... 4. 3. 4.]\n",
      " ...\n",
      " [0. 0. 0. ... 0. 4. 8.]\n",
      " [0. 0. 0. ... 0. 0. 8.]\n",
      " [0. 0. 0. ... 0. 0. 0.]]\n",
      "Unconstrained quadratic model + contraints used\n",
      "[[-61000.   2008.   2008. ...   2004.   2003.   2004.]\n",
      " [     0. -61000.   2004. ...   2003.   2004.   2003.]\n",
      " [     0.      0. -61000. ...   2004.   2003.   2004.]\n",
      " ...\n",
      " [     0.      0.      0. ... -61000.   2004.   2008.]\n",
      " [     0.      0.      0. ...      0. -61000.   2008.]\n",
      " [     0.      0.      0. ...      0.      0. -61000.]]\n"
     ]
    },
    {
     "name": "stderr",
     "output_type": "stream",
     "text": [
      "/var/folders/f2/8kc7y9697m59bwltxjd42y300000gn/T/ipykernel_13721/4185597591.py:23: DeprecationWarning: bqm.to_numpy_matrix() is deprecated since dimod 0.10.0 and will be removed in 0.12.0\n",
      "  print(bqm.to_numpy_matrix())\n",
      "/var/folders/f2/8kc7y9697m59bwltxjd42y300000gn/T/ipykernel_13721/4185597591.py:38: DeprecationWarning: bqm.to_numpy_matrix() is deprecated since dimod 0.10.0 and will be removed in 0.12.0\n",
      "  print(bqm.to_numpy_matrix())\n"
     ]
    }
   ],
   "source": [
    "bqm = build_quadratic_model(copper_supercell,num_vacancies=1, weight_1=1)\n",
    "#dataframe, config, energy = run_anneal(bqm,num_reads=100, return_config_E=True)"
   ]
  },
  {
   "cell_type": "code",
   "execution_count": 43,
   "id": "3865bc68",
   "metadata": {},
   "outputs": [
    {
     "data": {
      "text/plain": [
       "array([0, 0, 0, 0, 0, 0, 0, 0, 1, 1, 1, 1, 0, 0, 0, 0, 1, 1, 0, 0, 1, 1,\n",
       "       0, 0, 1, 0, 1, 0, 1, 0, 1, 0])"
      ]
     },
     "execution_count": 43,
     "metadata": {},
     "output_type": "execute_result"
    }
   ],
   "source": [
    "build_adjacency_matrix(copper_supercell)[0]"
   ]
  },
  {
   "cell_type": "code",
   "execution_count": 52,
   "id": "56376532",
   "metadata": {},
   "outputs": [
    {
     "data": {
      "text/plain": [
       "array([12, 12, 12, 12, 12, 12, 12, 12, 12, 12, 12, 12, 12, 12, 12, 12, 12,\n",
       "       12, 12, 12, 12, 12, 12, 12, 12, 12, 12, 12, 12, 12, 12, 12])"
      ]
     },
     "execution_count": 52,
     "metadata": {},
     "output_type": "execute_result"
    }
   ],
   "source": [
    "distance_matrix_pbc = np.round(copper_supercell.distance_matrix,5)\n",
    "\n",
    "shells = np.unique(distance_matrix_pbc[0])\n",
    "\n",
    "adjacency_matrix = np.round(distance_matrix_pbc,5) == np.round(shells[1],5)\n",
    "adjacency_matrix = adjacency_matrix.astype(int)\n",
    "np.sum(adjacency_matrix,axis=1)"
   ]
  },
  {
   "cell_type": "code",
   "execution_count": 57,
   "id": "2925901b",
   "metadata": {},
   "outputs": [
    {
     "data": {
      "text/plain": [
       "array([0.     , 3.62126, 3.62126, 5.12124, 3.62126, 5.12124, 5.12124,\n",
       "       6.27221, 2.56062, 2.56062, 2.56062, 2.56062, 4.43512, 4.43512,\n",
       "       4.43512, 4.43512, 2.56062, 2.56062, 4.43512, 4.43512, 2.56062,\n",
       "       2.56062, 4.43512, 4.43512, 2.56062, 4.43512, 2.56062, 4.43512,\n",
       "       2.56062, 4.43512, 2.56062, 4.43512])"
      ]
     },
     "execution_count": 57,
     "metadata": {},
     "output_type": "execute_result"
    }
   ],
   "source": [
    "np.round(copper_supercell.distance_matrix,5)[0]"
   ]
  }
 ],
 "metadata": {
  "kernelspec": {
   "display_name": "Python 3 (ipykernel)",
   "language": "python",
   "name": "python3"
  },
  "language_info": {
   "codemirror_mode": {
    "name": "ipython",
    "version": 3
   },
   "file_extension": ".py",
   "mimetype": "text/x-python",
   "name": "python",
   "nbconvert_exporter": "python",
   "pygments_lexer": "ipython3",
   "version": "3.9.12"
  }
 },
 "nbformat": 4,
 "nbformat_minor": 5
}

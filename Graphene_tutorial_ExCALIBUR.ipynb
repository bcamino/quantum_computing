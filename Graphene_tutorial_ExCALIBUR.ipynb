{
 "cells": [
  {
   "cell_type": "markdown",
   "id": "7a75d719",
   "metadata": {},
   "source": [
    "# QA simulation of vacancies in graphene explained"
   ]
  },
  {
   "cell_type": "markdown",
   "id": "ae890534",
   "metadata": {},
   "source": [
    "In this tutorial, we are going to use quantum annealing and a simple model to calculate the energy of vacancies in graphene.\n",
    "\n",
    "![graphene_defects](images/graphene_vacancies.png)"
   ]
  },
  {
   "cell_type": "markdown",
   "id": "bc3e87f2",
   "metadata": {},
   "source": [
    "## The chemical system"
   ]
  },
  {
   "cell_type": "markdown",
   "id": "d55a000b",
   "metadata": {},
   "source": [
    "The chemical system we are going to study is a **graphene** sheet. In order to be able to calculate the energy of up to three vacancies, we are going to use a 3x3 supercell of the primitive cell.\n",
    "\n",
    "Let's first build the system. For this task we are going to be using a python library called pymatgen. pymatgen is a very powerful tool developed as part of the Materials Project. It can be used to create, modify, analyse 3D systems. Don't worry if you are not familiar with pymatgen, we are only going to use it to generate the structure and every step is explained.\n",
    "\n",
    "First we need to import the two objects that we are going to use to generate the graphene structure, which is called Structure:"
   ]
  },
  {
   "cell_type": "code",
   "execution_count": 3,
   "id": "ed681f04",
   "metadata": {},
   "outputs": [],
   "source": [
    "from pymatgen.core.structure import Structure"
   ]
  },
  {
   "cell_type": "markdown",
   "id": "9dfa8d9b",
   "metadata": {},
   "source": [
    "We are going to use numpy to define the lattice as a 3x3 matrix:"
   ]
  },
  {
   "cell_type": "code",
   "execution_count": 4,
   "id": "889f0e47",
   "metadata": {},
   "outputs": [],
   "source": [
    "import numpy as np\n",
    "\n",
    "lattice = np.array([[ 1.233862, -2.137112,  0.      ],\n",
    "                   [ 1.233862,  2.137112,  0.      ],\n",
    "                   [ 0.      ,  0.      ,  8.685038]])"
   ]
  },
  {
   "cell_type": "markdown",
   "id": "1a95ae9a",
   "metadata": {},
   "source": [
    "The Structure object requires three pieces on informations: the lattice, the species and the fractional coordinates of these species in the cell defined by lattice. So, we are going to create and inspect what information is in the graphene object by displaying it."
   ]
  },
  {
   "cell_type": "code",
   "execution_count": 5,
   "id": "5729126d",
   "metadata": {},
   "outputs": [
    {
     "data": {
      "text/plain": [
       "Structure Summary\n",
       "Lattice\n",
       "    abc : 2.4677242827325747 2.4677242827325747 8.685038\n",
       " angles : 90.0 90.0 120.00000758003493\n",
       " volume : 45.80317575176706\n",
       "      A : 1.233862 -2.137112 0.0\n",
       "      B : 1.233862 2.137112 0.0\n",
       "      C : 0.0 0.0 8.685038\n",
       "PeriodicSite: C (1.2339, -0.7124, 0.0000) [0.6667, 0.3333, 0.0000]\n",
       "PeriodicSite: C (1.2339, 0.7124, 0.0000) [0.3333, 0.6667, 0.0000]"
      ]
     },
     "metadata": {},
     "output_type": "display_data"
    }
   ],
   "source": [
    "graphene = Structure(lattice, species=['C','C'], coords=[[2/3, 1/3, 0. ],[1/3, 2/3, 0.]])\n",
    "display(graphene)"
   ]
  },
  {
   "cell_type": "markdown",
   "id": "947d0d15",
   "metadata": {},
   "source": [
    "The supercell can be created by using the pymatgen make_supercell function. First we need to define the expansion matrix:"
   ]
  },
  {
   "cell_type": "code",
   "execution_count": 6,
   "id": "14044e85",
   "metadata": {},
   "outputs": [
    {
     "data": {
      "text/plain": [
       "Structure Summary\n",
       "Lattice\n",
       "    abc : 7.403172848197724 7.403172848197724 8.685038\n",
       " angles : 90.0 90.0 120.00000758003493\n",
       " volume : 412.2285817659035\n",
       "      A : 3.701586 -6.411336 0.0\n",
       "      B : 3.701586 6.411336 0.0\n",
       "      C : 0.0 0.0 8.685038\n",
       "PeriodicSite: C (1.2339, -0.7124, 0.0000) [0.2222, 0.1111, 0.0000]\n",
       "PeriodicSite: C (2.4677, 1.4247, 0.0000) [0.2222, 0.4444, 0.0000]\n",
       "PeriodicSite: C (3.7016, 3.5619, 0.0000) [0.2222, 0.7778, 0.0000]\n",
       "PeriodicSite: C (2.4677, -2.8495, 0.0000) [0.5556, 0.1111, 0.0000]\n",
       "PeriodicSite: C (3.7016, -0.7124, 0.0000) [0.5556, 0.4444, 0.0000]\n",
       "PeriodicSite: C (4.9354, 1.4247, 0.0000) [0.5556, 0.7778, 0.0000]\n",
       "PeriodicSite: C (3.7016, -4.9866, 0.0000) [0.8889, 0.1111, 0.0000]\n",
       "PeriodicSite: C (4.9354, -2.8495, 0.0000) [0.8889, 0.4444, 0.0000]\n",
       "PeriodicSite: C (6.1693, -0.7124, 0.0000) [0.8889, 0.7778, 0.0000]\n",
       "PeriodicSite: C (1.2339, 0.7124, 0.0000) [0.1111, 0.2222, 0.0000]\n",
       "PeriodicSite: C (2.4677, 2.8495, 0.0000) [0.1111, 0.5556, 0.0000]\n",
       "PeriodicSite: C (3.7016, 4.9866, 0.0000) [0.1111, 0.8889, 0.0000]\n",
       "PeriodicSite: C (2.4677, -1.4247, 0.0000) [0.4444, 0.2222, 0.0000]\n",
       "PeriodicSite: C (3.7016, 0.7124, 0.0000) [0.4444, 0.5556, 0.0000]\n",
       "PeriodicSite: C (4.9354, 2.8495, 0.0000) [0.4444, 0.8889, 0.0000]\n",
       "PeriodicSite: C (3.7016, -3.5619, 0.0000) [0.7778, 0.2222, 0.0000]\n",
       "PeriodicSite: C (4.9354, -1.4247, 0.0000) [0.7778, 0.5556, 0.0000]\n",
       "PeriodicSite: C (6.1693, 0.7124, 0.0000) [0.7778, 0.8889, 0.0000]"
      ]
     },
     "metadata": {},
     "output_type": "display_data"
    }
   ],
   "source": [
    "import copy \n",
    "from ase.visualize import view\n",
    "from pymatgen.io.ase import AseAtomsAdaptor\n",
    "\n",
    "expansion_matrix = np.array([[3, 0, 0],\n",
    "                            [0, 3, 0],\n",
    "                            [0, 0, 1]])\n",
    "\n",
    "graphene_supercell = copy.deepcopy(graphene)\n",
    "\n",
    "graphene_supercell.make_supercell(expansion_matrix)\n",
    "\n",
    "display(graphene_supercell)\n",
    "#view(AseAtomsAdaptor().get_atoms(graphene_supercell))"
   ]
  },
  {
   "cell_type": "markdown",
   "id": "7658708e",
   "metadata": {},
   "source": [
    "Please find below an image of the supercell where the atom index has been reported on the atom itself.\n",
    "\n",
    "![graphene_primitive_cell](images/graphene_primitive_cell.png)\n",
    "\n",
    "As a note for non experts in materials science, the cell reported here has 2-dimensional periodicity, also called periodic boundary conditions. This means it is repeated periodically, effectively representing an infinite graphene sheet. The image below shows a 3x3 supercell of the graphene supercell used in this notebook. \n",
    "\n",
    "![graphene_super_cell](images/graphene_super_cell.png)\n",
    "\n",
    "This is going to become relevant later in the definition of the model."
   ]
  },
  {
   "cell_type": "markdown",
   "id": "f3abf757",
   "metadata": {},
   "source": [
    "From the graphene_supercell structure displayed above, you can see the structure now containins 18 atoms and the lattice parameters a and b are three times as large as the primitive cell ones."
   ]
  },
  {
   "cell_type": "markdown",
   "id": "6fac18d7",
   "metadata": {},
   "source": [
    "## From a chemical model to a binary model\n",
    "\n",
    "Now, let's start defining the vectors and matrices that we will use to represent the system.\n",
    "First we are going to create the vector **c**. This is the vector that we are going to use to identify atom positions in the system. It will contain, therefore, numbers from 0 to the total number of atoms:"
   ]
  },
  {
   "cell_type": "code",
   "execution_count": 7,
   "id": "7c26ee2f",
   "metadata": {},
   "outputs": [
    {
     "data": {
      "text/plain": [
       "array([ 0,  1,  2,  3,  4,  5,  6,  7,  8,  9, 10, 11, 12, 13, 14, 15, 16,\n",
       "       17])"
      ]
     },
     "metadata": {},
     "output_type": "display_data"
    }
   ],
   "source": [
    "c = np.arange(graphene_supercell.num_sites)\n",
    "display(c)"
   ]
  },
  {
   "cell_type": "markdown",
   "id": "175c9b18",
   "metadata": {},
   "source": [
    "To do so, we used the numpy arange function and the num_sites attribute of the graphene_supercell Structure object to define the upper bound.\n",
    "\n",
    "We are also going to define the vector **x**. This is a binary vector where:\n",
    "- $x_{i}$ = 1 if atom i is present\n",
    "- $x_{i}$ = 0 if atom i has been replaced by a vacancy\n",
    "\n",
    "At first we are going to define the structure containing no vacancies, so $x_{i}$ = 1 for all $i$"
   ]
  },
  {
   "cell_type": "code",
   "execution_count": 8,
   "id": "27151a4f",
   "metadata": {},
   "outputs": [
    {
     "data": {
      "text/plain": [
       "array([1, 1, 1, 1, 1, 1, 1, 1, 1, 1, 1, 1, 1, 1, 1, 1, 1, 1])"
      ]
     },
     "metadata": {},
     "output_type": "display_data"
    }
   ],
   "source": [
    "x = np.array([1]*graphene_supercell.num_sites)\n",
    "display(x)"
   ]
  },
  {
   "cell_type": "markdown",
   "id": "c21f9ba6",
   "metadata": {},
   "source": [
    "## Quantum annealing & the binary quadratic model "
   ]
  },
  {
   "cell_type": "markdown",
   "id": "afc6ead6",
   "metadata": {},
   "source": [
    "When using a quantum annealer to obtain the solution to our problem, we are solving the following eigenvector problem:\n",
    "\n",
    "$$\n",
    "\\bf\n",
    "H\\ x = \\epsilon\\ x\n",
    "$$\n",
    "\n",
    "where:\n",
    "- $\\bf x$ is a binary vector (a vector made of 1s and 0s) of length N\n",
    "- $\\bf H$ is called a the Ising Hamiltonian and it's a real number number matrix of shape NxN\n",
    "\n",
    "This is called a binary quadratic model and can also be expressed as:\n",
    "\n",
    "$$\n",
    "E = \\sum_{i} h_{i} x_{i} + \\sum_{i,j} J_{i,j} x_{i}x_{j}\n",
    "$$\n",
    "\n",
    "where:\n",
    "\n",
    "- $h_i$ are the $\\bf H$ diagonal elements and are called biases \n",
    "- $J_{i,j}$ are the $\\bf H$ off-diagonal elements and are called couplings\n",
    "\n",
    "Both the biases and couplings, translate, at hardware level, to magnetic fields applied to the qubits.\n",
    "\n",
    "The above expression can be represented as a matrix referred to as a QUBO matrix (Quadratic Unconstrained Binary Optimisation):\n",
    "\n",
    "$$\n",
    "E({\\bf x}) =  {\\bf x^{T}}\\ {\\bf Q}\\ {\\bf x} = \\sum_{i} Q_{i,i} x_{i} + \\sum_{i} \\sum_{j > i} Q_{i,j} x_{i}x_{j}\n",
    "$$\n",
    "\n",
    "where: \n",
    "- ${\\bf Q}$ is the QUBO matrix. This matrix defines the problem. It needs, therefore, to encode the problem itself. \n",
    "- ${\\bf x}$ is the binary vector, returned by the quantum annealer, that corresponds to $E({\\bf x})$.\n",
    "\n",
    "By design, the quantum annealer will seek the lowest energy of the system. However, we will see in the following, that, sometimes, by doing so, some higher energy states are found too.\n"
   ]
  },
  {
   "cell_type": "markdown",
   "id": "bcb83e81",
   "metadata": {},
   "source": [
    "## How do we calculate the energy?\n",
    "\n",
    "As a first approximation, we will say that each bond decreases the energy of the system by 1 a.u. (arbitrary unit).\n",
    "\n",
    "This can be expressed in terms of an Ising Hamiltonian as $J_{i,j} = -1$ if atom $i$ and atom $j$ are bonded. \n",
    "\n",
    "We are going to use the adjacency_matrix, whose element $A_{ij} = 1$ if atom $i$ and atom $j$ are bonded. See here (ADD LINK) for the details on how to build the adjacency matrix.\n",
    "\n",
    "The function to minimise becomes:\n",
    "\n",
    "$$\n",
    "\\sum_{i}^{N_{atoms}}\\sum_{j>i}^{N_{atoms}} -A_{i,j} x_{i} x_{j}\n",
    "$$\n",
    "\n",
    "D-Wave systems offers a comprehensive library (dimod) to build binary quadratic models. In the cell below we will import the BinaryQuadraticModel class from dimod.\n",
    "\n",
    "We then procede to building the QUBO matrix ${\\bf Q}$. We use the numpy triu function that selects the top right handside part of the adjacency_matrix. This is because we don't want to double count the bonds. \n",
    "\n",
    "Finally, we generate the BinaryQuadraticModel from the ${\\bf Q}$ matrix by using the .from_qubo command. "
   ]
  },
  {
   "cell_type": "code",
   "execution_count": 9,
   "id": "86e39d41",
   "metadata": {},
   "outputs": [],
   "source": [
    "from dimod import BinaryQuadraticModel\n",
    "\n",
    "shells = np.unique(np.round(graphene_supercell.distance_matrix[0],5)) \n",
    "adjacency_matrix = (np.round(graphene_supercell.distance_matrix,5) == shells[1]).astype(int)\n",
    "\n",
    "Q = np.triu(-adjacency_matrix.astype(int),0)\n",
    "\n",
    "bqm = BinaryQuadraticModel.from_qubo(Q)"
   ]
  },
  {
   "cell_type": "markdown",
   "id": "77783186",
   "metadata": {},
   "source": [
    "An interesting feature of the bqm object is that you can inspect it. For example, it can be transformed into Numpy vectors and from there the linear and quadratic biases exhamined:"
   ]
  },
  {
   "cell_type": "code",
   "execution_count": 10,
   "id": "a668ed30",
   "metadata": {},
   "outputs": [
    {
     "data": {
      "text/plain": [
       "array([0., 0., 0., 0., 0., 0., 0., 0., 0., 0., 0., 0., 0., 0., 0., 0., 0.,\n",
       "       0.])"
      ]
     },
     "execution_count": 10,
     "metadata": {},
     "output_type": "execute_result"
    }
   ],
   "source": [
    "bqm.to_numpy_vectors().linear_biases"
   ]
  },
  {
   "cell_type": "code",
   "execution_count": 11,
   "id": "5b3ecf8e",
   "metadata": {},
   "outputs": [
    {
     "data": {
      "text/plain": [
       "QuadraticVectors(row_indices=array([ 9,  9,  9, 10, 10, 10, 11, 11, 11, 12, 12, 12, 13, 13, 13, 14, 14,\n",
       "       14, 15, 15, 15, 16, 16, 16, 17, 17, 17], dtype=int32), col_indices=array([0, 1, 6, 1, 2, 7, 0, 2, 8, 0, 3, 4, 1, 4, 5, 2, 3, 5, 3, 6, 7, 4,\n",
       "       7, 8, 5, 6, 8], dtype=int32), biases=array([-1., -1., -1., -1., -1., -1., -1., -1., -1., -1., -1., -1., -1.,\n",
       "       -1., -1., -1., -1., -1., -1., -1., -1., -1., -1., -1., -1., -1.,\n",
       "       -1.]))"
      ]
     },
     "execution_count": 11,
     "metadata": {},
     "output_type": "execute_result"
    }
   ],
   "source": [
    "bqm.to_numpy_vectors().quadratic"
   ]
  },
  {
   "cell_type": "markdown",
   "id": "d3acf9b2",
   "metadata": {},
   "source": [
    "The quadratic biases might be more difficult to interpret, so I will go into some more detail. \n",
    "\n",
    "bqm.to_numpy_vectors().quadratic contains the parts:\n",
    "- row_indices\n",
    "- col_indices\n",
    "- biases\n",
    "\n",
    "You can think of the first two, the row_indices and col_indices as the indices of a matrix and biases the value of the element. If an element is not present in the row_indices, col_indices it is assumed to be 0. \n",
    "\n",
    "This is probably easier seen than explained. In the cell below I will reconstruct the ${\\bf Q}$ matrix from the bqm.to_numpy_vectors():"
   ]
  },
  {
   "cell_type": "code",
   "execution_count": 12,
   "id": "b31334a6",
   "metadata": {},
   "outputs": [],
   "source": [
    "# Build a n_atoms x n_atoms matrix containing only 0s\n",
    "qubo_matrix = np.array([[0]*graphene_supercell.num_sites]*graphene_supercell.num_sites)\n",
    "\n",
    "num_non_zero_elements = len(bqm.to_numpy_vectors().quadratic.row_indices)\n",
    "\n",
    "row_indices = bqm.to_numpy_vectors().quadratic.row_indices\n",
    "col_indices = bqm.to_numpy_vectors().quadratic.col_indices\n",
    "\n",
    "biases = bqm.to_numpy_vectors().quadratic.biases\n",
    "\n",
    "#Assign the quadratic biases to the elements\n",
    "for i in range(num_non_zero_elements):\n",
    "    qubo_matrix[row_indices[i]][col_indices[i]] = biases[i]\n",
    "\n",
    "#Transpose the matrix (the model builds the lower left side of the matrix, it is hermitian, so it doesn't matter)    \n",
    "qubo_matrix = qubo_matrix.transpose()\n",
    "#qubo_matrix"
   ]
  },
  {
   "cell_type": "markdown",
   "id": "e589552e",
   "metadata": {},
   "source": [
    "# Run the anneal\n",
    "\n",
    "We are now ready to submit the Binary Quadratic Model that we prepared to the quantum annealer. \n",
    "\n",
    "At first we are just going to ask the annealer to return the lowest energy solution with no contraints. The calculation needs to be run a number of times. In the cell below we are going to run it 1000 times."
   ]
  },
  {
   "cell_type": "code",
   "execution_count": 13,
   "id": "4b78ca84",
   "metadata": {},
   "outputs": [
    {
     "ename": "KeyboardInterrupt",
     "evalue": "",
     "output_type": "error",
     "traceback": [
      "\u001b[0;31m---------------------------------------------------------------------------\u001b[0m",
      "\u001b[0;31mKeyboardInterrupt\u001b[0m                         Traceback (most recent call last)",
      "Input \u001b[0;32mIn [13]\u001b[0m, in \u001b[0;36m<cell line: 3>\u001b[0;34m()\u001b[0m\n\u001b[1;32m      1\u001b[0m \u001b[38;5;28;01mfrom\u001b[39;00m \u001b[38;5;21;01mdwave\u001b[39;00m\u001b[38;5;21;01m.\u001b[39;00m\u001b[38;5;21;01msystem\u001b[39;00m \u001b[38;5;28;01mimport\u001b[39;00m EmbeddingComposite, DWaveSampler\n\u001b[0;32m----> 3\u001b[0m sampler \u001b[38;5;241m=\u001b[39m EmbeddingComposite(\u001b[43mDWaveSampler\u001b[49m\u001b[43m(\u001b[49m\u001b[43m)\u001b[49m)\n\u001b[1;32m      4\u001b[0m sampleset_unconstrained \u001b[38;5;241m=\u001b[39m sampler\u001b[38;5;241m.\u001b[39msample(bqm, num_reads \u001b[38;5;241m=\u001b[39m \u001b[38;5;241m1000\u001b[39m, \n\u001b[1;32m      5\u001b[0m                                          label\u001b[38;5;241m=\u001b[39m\u001b[38;5;124m'\u001b[39m\u001b[38;5;124mGraphene 3x3 unconstrained\u001b[39m\u001b[38;5;124m'\u001b[39m)\n",
      "File \u001b[0;32m~/miniconda3/envs/qc/lib/python3.9/site-packages/dwave/system/samplers/dwave_sampler.py:142\u001b[0m, in \u001b[0;36mDWaveSampler.__init__\u001b[0;34m(self, failover, retry_interval, **config)\u001b[0m\n\u001b[1;32m    139\u001b[0m     \u001b[38;5;28;01mraise\u001b[39;00m \u001b[38;5;167;01mTypeError\u001b[39;00m(\u001b[38;5;124m\"\u001b[39m\u001b[38;5;124mmapping expected for \u001b[39m\u001b[38;5;124m'\u001b[39m\u001b[38;5;124mdefaults\u001b[39m\u001b[38;5;124m'\u001b[39m\u001b[38;5;124m\"\u001b[39m)\n\u001b[1;32m    140\u001b[0m defaults\u001b[38;5;241m.\u001b[39mupdate(solver\u001b[38;5;241m=\u001b[39m\u001b[38;5;28mdict\u001b[39m(order_by\u001b[38;5;241m=\u001b[39m\u001b[38;5;124m'\u001b[39m\u001b[38;5;124m-num_active_qubits\u001b[39m\u001b[38;5;124m'\u001b[39m))\n\u001b[0;32m--> 142\u001b[0m \u001b[38;5;28mself\u001b[39m\u001b[38;5;241m.\u001b[39mclient \u001b[38;5;241m=\u001b[39m \u001b[43mClient\u001b[49m\u001b[38;5;241;43m.\u001b[39;49m\u001b[43mfrom_config\u001b[49m\u001b[43m(\u001b[49m\u001b[38;5;241;43m*\u001b[39;49m\u001b[38;5;241;43m*\u001b[39;49m\u001b[43mconfig\u001b[49m\u001b[43m)\u001b[49m\n\u001b[1;32m    143\u001b[0m \u001b[38;5;28mself\u001b[39m\u001b[38;5;241m.\u001b[39msolver \u001b[38;5;241m=\u001b[39m \u001b[38;5;28mself\u001b[39m\u001b[38;5;241m.\u001b[39mclient\u001b[38;5;241m.\u001b[39mget_solver()\n\u001b[1;32m    145\u001b[0m \u001b[38;5;28mself\u001b[39m\u001b[38;5;241m.\u001b[39mfailover \u001b[38;5;241m=\u001b[39m failover\n",
      "File \u001b[0;32m~/miniconda3/envs/qc/lib/python3.9/site-packages/dwave/cloud/client/base.py:374\u001b[0m, in \u001b[0;36mClient.from_config\u001b[0;34m(cls, config_file, profile, client, **kwargs)\u001b[0m\n\u001b[1;32m    371\u001b[0m _client \u001b[38;5;241m=\u001b[39m config\u001b[38;5;241m.\u001b[39mpop(\u001b[38;5;124m'\u001b[39m\u001b[38;5;124mclient\u001b[39m\u001b[38;5;124m'\u001b[39m, \u001b[38;5;28;01mNone\u001b[39;00m) \u001b[38;5;129;01mor\u001b[39;00m \u001b[38;5;124m'\u001b[39m\u001b[38;5;124mbase\u001b[39m\u001b[38;5;124m'\u001b[39m\n\u001b[1;32m    373\u001b[0m logger\u001b[38;5;241m.\u001b[39mdebug(\u001b[38;5;124m\"\u001b[39m\u001b[38;5;124mCreating \u001b[39m\u001b[38;5;132;01m%s\u001b[39;00m\u001b[38;5;124m.Client() with: \u001b[39m\u001b[38;5;132;01m%r\u001b[39;00m\u001b[38;5;124m\"\u001b[39m, _client, config)\n\u001b[0;32m--> 374\u001b[0m \u001b[38;5;28;01mreturn\u001b[39;00m \u001b[43m_clients\u001b[49m\u001b[43m[\u001b[49m\u001b[43m_client\u001b[49m\u001b[43m]\u001b[49m\u001b[43m(\u001b[49m\u001b[38;5;241;43m*\u001b[39;49m\u001b[38;5;241;43m*\u001b[39;49m\u001b[43mconfig\u001b[49m\u001b[43m)\u001b[49m\n",
      "File \u001b[0;32m~/miniconda3/envs/qc/lib/python3.9/site-packages/dwave/cloud/events.py:105\u001b[0m, in \u001b[0;36mdispatches_events.__call__.<locals>.wrapped\u001b[0;34m(*pargs, **kwargs)\u001b[0m\n\u001b[1;32m    103\u001b[0m dispatch_event(\u001b[38;5;28mself\u001b[39m\u001b[38;5;241m.\u001b[39mbefore_eventname, obj\u001b[38;5;241m=\u001b[39mobj, args\u001b[38;5;241m=\u001b[39margs)\n\u001b[1;32m    104\u001b[0m \u001b[38;5;28;01mtry\u001b[39;00m:\n\u001b[0;32m--> 105\u001b[0m     rval \u001b[38;5;241m=\u001b[39m \u001b[43mfn\u001b[49m\u001b[43m(\u001b[49m\u001b[38;5;241;43m*\u001b[39;49m\u001b[43mpargs\u001b[49m\u001b[43m,\u001b[49m\u001b[43m \u001b[49m\u001b[38;5;241;43m*\u001b[39;49m\u001b[38;5;241;43m*\u001b[39;49m\u001b[43mkwargs\u001b[49m\u001b[43m)\u001b[49m\n\u001b[1;32m    106\u001b[0m \u001b[38;5;28;01mexcept\u001b[39;00m \u001b[38;5;167;01mException\u001b[39;00m \u001b[38;5;28;01mas\u001b[39;00m exc:\n\u001b[1;32m    107\u001b[0m     dispatch_event(\u001b[38;5;28mself\u001b[39m\u001b[38;5;241m.\u001b[39mafter_eventname, obj\u001b[38;5;241m=\u001b[39mobj, args\u001b[38;5;241m=\u001b[39margs, exception\u001b[38;5;241m=\u001b[39mexc)\n",
      "File \u001b[0;32m~/miniconda3/envs/qc/lib/python3.9/site-packages/dwave/cloud/client/base.py:468\u001b[0m, in \u001b[0;36mClient.__init__\u001b[0;34m(self, *args, **kwargs)\u001b[0m\n\u001b[1;32m    465\u001b[0m \u001b[38;5;28mself\u001b[39m\u001b[38;5;241m.\u001b[39mheaders \u001b[38;5;241m=\u001b[39m headers_dict\n\u001b[1;32m    467\u001b[0m \u001b[38;5;66;03m# resolve endpoint using region\u001b[39;00m\n\u001b[0;32m--> 468\u001b[0m region, endpoint \u001b[38;5;241m=\u001b[39m \u001b[38;5;28;43mself\u001b[39;49m\u001b[38;5;241;43m.\u001b[39;49m\u001b[43m_resolve_region_endpoint\u001b[49m\u001b[43m(\u001b[49m\n\u001b[1;32m    469\u001b[0m \u001b[43m    \u001b[49m\u001b[43mregion\u001b[49m\u001b[38;5;241;43m=\u001b[39;49m\u001b[43moptions\u001b[49m\u001b[38;5;241;43m.\u001b[39;49m\u001b[43mget\u001b[49m\u001b[43m(\u001b[49m\u001b[38;5;124;43m'\u001b[39;49m\u001b[38;5;124;43mregion\u001b[39;49m\u001b[38;5;124;43m'\u001b[39;49m\u001b[43m)\u001b[49m\u001b[43m,\u001b[49m\u001b[43m \u001b[49m\u001b[43mendpoint\u001b[49m\u001b[38;5;241;43m=\u001b[39;49m\u001b[43moptions\u001b[49m\u001b[38;5;241;43m.\u001b[39;49m\u001b[43mget\u001b[49m\u001b[43m(\u001b[49m\u001b[38;5;124;43m'\u001b[39;49m\u001b[38;5;124;43mendpoint\u001b[39;49m\u001b[38;5;124;43m'\u001b[39;49m\u001b[43m)\u001b[49m\u001b[43m)\u001b[49m\n\u001b[1;32m    471\u001b[0m \u001b[38;5;66;03m# sanity check\u001b[39;00m\n\u001b[1;32m    472\u001b[0m \u001b[38;5;28;01mif\u001b[39;00m \u001b[38;5;129;01mnot\u001b[39;00m endpoint:\n",
      "File \u001b[0;32m~/miniconda3/envs/qc/lib/python3.9/site-packages/dwave/cloud/client/base.py:395\u001b[0m, in \u001b[0;36mClient._resolve_region_endpoint\u001b[0;34m(self, region, endpoint)\u001b[0m\n\u001b[1;32m    392\u001b[0m     \u001b[38;5;28;01mreturn\u001b[39;00m (\u001b[38;5;28mself\u001b[39m\u001b[38;5;241m.\u001b[39mDEFAULT_API_REGION, \u001b[38;5;28mself\u001b[39m\u001b[38;5;241m.\u001b[39mDEFAULT_API_ENDPOINT)\n\u001b[1;32m    394\u001b[0m \u001b[38;5;28;01mtry\u001b[39;00m:\n\u001b[0;32m--> 395\u001b[0m     regions \u001b[38;5;241m=\u001b[39m \u001b[38;5;28;43mself\u001b[39;49m\u001b[38;5;241;43m.\u001b[39;49m\u001b[43mget_regions\u001b[49m\u001b[43m(\u001b[49m\u001b[43m)\u001b[49m\n\u001b[1;32m    396\u001b[0m \u001b[38;5;28;01mexcept\u001b[39;00m (api\u001b[38;5;241m.\u001b[39mexceptions\u001b[38;5;241m.\u001b[39mRequestError, \u001b[38;5;167;01mValueError\u001b[39;00m) \u001b[38;5;28;01mas\u001b[39;00m exc:\n\u001b[1;32m    397\u001b[0m     logger\u001b[38;5;241m.\u001b[39mwarning(\u001b[38;5;124m\"\u001b[39m\u001b[38;5;124mFailed to fetch available regions: \u001b[39m\u001b[38;5;132;01m%r\u001b[39;00m\u001b[38;5;124m. \u001b[39m\u001b[38;5;124m\"\u001b[39m\n\u001b[1;32m    398\u001b[0m                    \u001b[38;5;124m\"\u001b[39m\u001b[38;5;124mUsing the default Solver API endpoint.\u001b[39m\u001b[38;5;124m\"\u001b[39m, exc)\n",
      "File \u001b[0;32m~/miniconda3/envs/qc/lib/python3.9/site-packages/dwave/cloud/client/base.py:784\u001b[0m, in \u001b[0;36mClient.get_regions\u001b[0;34m(self, refresh)\u001b[0m\n\u001b[1;32m    774\u001b[0m \u001b[38;5;124;03m\"\"\"Retrieve available API regions.\u001b[39;00m\n\u001b[1;32m    775\u001b[0m \n\u001b[1;32m    776\u001b[0m \u001b[38;5;124;03mArgs:\u001b[39;00m\n\u001b[0;32m   (...)\u001b[0m\n\u001b[1;32m    781\u001b[0m \u001b[38;5;124;03m    Mapping of region details (name and endpoint) over region codes.\u001b[39;00m\n\u001b[1;32m    782\u001b[0m \u001b[38;5;124;03m\"\"\"\u001b[39;00m\n\u001b[1;32m    783\u001b[0m \u001b[38;5;28;01mtry\u001b[39;00m:\n\u001b[0;32m--> 784\u001b[0m     rs \u001b[38;5;241m=\u001b[39m \u001b[43mClient\u001b[49m\u001b[38;5;241;43m.\u001b[39;49m\u001b[43m_fetch_available_regions\u001b[49m\u001b[43m(\u001b[49m\n\u001b[1;32m    785\u001b[0m \u001b[43m        \u001b[49m\u001b[43mmetadata_api_endpoint\u001b[49m\u001b[38;5;241;43m=\u001b[39;49m\u001b[38;5;28;43mself\u001b[39;49m\u001b[38;5;241;43m.\u001b[39;49m\u001b[43mmetadata_api_endpoint\u001b[49m\u001b[43m,\u001b[49m\n\u001b[1;32m    786\u001b[0m \u001b[43m        \u001b[49m\u001b[43mheaders\u001b[49m\u001b[38;5;241;43m=\u001b[39;49m\u001b[38;5;28;43mself\u001b[39;49m\u001b[38;5;241;43m.\u001b[39;49m\u001b[43mheaders\u001b[49m\u001b[43m,\u001b[49m\n\u001b[1;32m    787\u001b[0m \u001b[43m        \u001b[49m\u001b[43mrefresh_\u001b[49m\u001b[38;5;241;43m=\u001b[39;49m\u001b[43mrefresh\u001b[49m\u001b[43m)\u001b[49m\n\u001b[1;32m    788\u001b[0m \u001b[38;5;28;01mexcept\u001b[39;00m api\u001b[38;5;241m.\u001b[39mexceptions\u001b[38;5;241m.\u001b[39mRequestError \u001b[38;5;28;01mas\u001b[39;00m exc:\n\u001b[1;32m    789\u001b[0m     logger\u001b[38;5;241m.\u001b[39mdebug(\u001b[38;5;124m\"\u001b[39m\u001b[38;5;124mMetadata API unavailable\u001b[39m\u001b[38;5;124m\"\u001b[39m, exc_info\u001b[38;5;241m=\u001b[39m\u001b[38;5;28;01mTrue\u001b[39;00m)\n",
      "File \u001b[0;32m~/miniconda3/envs/qc/lib/python3.9/site-packages/dwave/cloud/utils.py:463\u001b[0m, in \u001b[0;36mcached.__call__.<locals>.wrapper\u001b[0;34m(*args, **kwargs)\u001b[0m\n\u001b[1;32m    461\u001b[0m     val \u001b[38;5;241m=\u001b[39m data\u001b[38;5;241m.\u001b[39mget(\u001b[38;5;124m'\u001b[39m\u001b[38;5;124mval\u001b[39m\u001b[38;5;124m'\u001b[39m)\n\u001b[1;32m    462\u001b[0m \u001b[38;5;28;01melse\u001b[39;00m:\n\u001b[0;32m--> 463\u001b[0m     val \u001b[38;5;241m=\u001b[39m \u001b[43mfn\u001b[49m\u001b[43m(\u001b[49m\u001b[38;5;241;43m*\u001b[39;49m\u001b[43margs\u001b[49m\u001b[43m,\u001b[49m\u001b[43m \u001b[49m\u001b[38;5;241;43m*\u001b[39;49m\u001b[38;5;241;43m*\u001b[39;49m\u001b[43mkwargs\u001b[49m\u001b[43m)\u001b[49m\n\u001b[1;32m    464\u001b[0m     \u001b[38;5;28mself\u001b[39m\u001b[38;5;241m.\u001b[39mcache[key] \u001b[38;5;241m=\u001b[39m \u001b[38;5;28mdict\u001b[39m(expires\u001b[38;5;241m=\u001b[39mnow\u001b[38;5;241m+\u001b[39m\u001b[38;5;28mself\u001b[39m\u001b[38;5;241m.\u001b[39mmaxage, val\u001b[38;5;241m=\u001b[39mval)\n\u001b[1;32m    466\u001b[0m \u001b[38;5;28;01mreturn\u001b[39;00m val\n",
      "File \u001b[0;32m~/miniconda3/envs/qc/lib/python3.9/site-packages/dwave/cloud/client/base.py:767\u001b[0m, in \u001b[0;36mClient._fetch_available_regions\u001b[0;34m(metadata_api_endpoint, **config)\u001b[0m\n\u001b[1;32m    763\u001b[0m logger\u001b[38;5;241m.\u001b[39minfo(\u001b[38;5;124m\"\u001b[39m\u001b[38;5;124mFetching available regions from the Metadata API at \u001b[39m\u001b[38;5;132;01m%r\u001b[39;00m\u001b[38;5;124m\"\u001b[39m,\n\u001b[1;32m    764\u001b[0m             metadata_api_endpoint)\n\u001b[1;32m    766\u001b[0m \u001b[38;5;28;01mwith\u001b[39;00m api\u001b[38;5;241m.\u001b[39mRegions(endpoint\u001b[38;5;241m=\u001b[39mmetadata_api_endpoint, \u001b[38;5;241m*\u001b[39m\u001b[38;5;241m*\u001b[39mconfig) \u001b[38;5;28;01mas\u001b[39;00m regions:\n\u001b[0;32m--> 767\u001b[0m     data \u001b[38;5;241m=\u001b[39m \u001b[43mregions\u001b[49m\u001b[38;5;241;43m.\u001b[39;49m\u001b[43mlist_regions\u001b[49m\u001b[43m(\u001b[49m\u001b[43m)\u001b[49m\n\u001b[1;32m    769\u001b[0m logger\u001b[38;5;241m.\u001b[39mdebug(\u001b[38;5;124m\"\u001b[39m\u001b[38;5;124mReceived region metadata: \u001b[39m\u001b[38;5;132;01m%r\u001b[39;00m\u001b[38;5;124m\"\u001b[39m, data)\n\u001b[1;32m    771\u001b[0m \u001b[38;5;28;01mreturn\u001b[39;00m data\n",
      "File \u001b[0;32m~/miniconda3/envs/qc/lib/python3.9/site-packages/dwave/cloud/api/resources.py:74\u001b[0m, in \u001b[0;36mRegions.list_regions\u001b[0;34m(self)\u001b[0m\n\u001b[1;32m     72\u001b[0m \u001b[38;5;28;01mdef\u001b[39;00m \u001b[38;5;21mlist_regions\u001b[39m(\u001b[38;5;28mself\u001b[39m) \u001b[38;5;241m-\u001b[39m\u001b[38;5;241m>\u001b[39m List[models\u001b[38;5;241m.\u001b[39mRegion]:\n\u001b[1;32m     73\u001b[0m     path \u001b[38;5;241m=\u001b[39m \u001b[38;5;124m'\u001b[39m\u001b[38;5;124m'\u001b[39m\n\u001b[0;32m---> 74\u001b[0m     response \u001b[38;5;241m=\u001b[39m \u001b[38;5;28;43mself\u001b[39;49m\u001b[38;5;241;43m.\u001b[39;49m\u001b[43msession\u001b[49m\u001b[38;5;241;43m.\u001b[39;49m\u001b[43mget\u001b[49m\u001b[43m(\u001b[49m\u001b[43mpath\u001b[49m\u001b[43m)\u001b[49m\n\u001b[1;32m     75\u001b[0m     regions \u001b[38;5;241m=\u001b[39m response\u001b[38;5;241m.\u001b[39mjson()\n\u001b[1;32m     76\u001b[0m     \u001b[38;5;28;01mreturn\u001b[39;00m parse_obj_as(List[models\u001b[38;5;241m.\u001b[39mRegion], regions)\n",
      "File \u001b[0;32m~/miniconda3/envs/qc/lib/python3.9/site-packages/requests/sessions.py:600\u001b[0m, in \u001b[0;36mSession.get\u001b[0;34m(self, url, **kwargs)\u001b[0m\n\u001b[1;32m    592\u001b[0m \u001b[38;5;124mr\u001b[39m\u001b[38;5;124;03m\"\"\"Sends a GET request. Returns :class:`Response` object.\u001b[39;00m\n\u001b[1;32m    593\u001b[0m \n\u001b[1;32m    594\u001b[0m \u001b[38;5;124;03m:param url: URL for the new :class:`Request` object.\u001b[39;00m\n\u001b[1;32m    595\u001b[0m \u001b[38;5;124;03m:param \\*\\*kwargs: Optional arguments that ``request`` takes.\u001b[39;00m\n\u001b[1;32m    596\u001b[0m \u001b[38;5;124;03m:rtype: requests.Response\u001b[39;00m\n\u001b[1;32m    597\u001b[0m \u001b[38;5;124;03m\"\"\"\u001b[39;00m\n\u001b[1;32m    599\u001b[0m kwargs\u001b[38;5;241m.\u001b[39msetdefault(\u001b[38;5;124m\"\u001b[39m\u001b[38;5;124mallow_redirects\u001b[39m\u001b[38;5;124m\"\u001b[39m, \u001b[38;5;28;01mTrue\u001b[39;00m)\n\u001b[0;32m--> 600\u001b[0m \u001b[38;5;28;01mreturn\u001b[39;00m \u001b[38;5;28;43mself\u001b[39;49m\u001b[38;5;241;43m.\u001b[39;49m\u001b[43mrequest\u001b[49m\u001b[43m(\u001b[49m\u001b[38;5;124;43m\"\u001b[39;49m\u001b[38;5;124;43mGET\u001b[39;49m\u001b[38;5;124;43m\"\u001b[39;49m\u001b[43m,\u001b[49m\u001b[43m \u001b[49m\u001b[43murl\u001b[49m\u001b[43m,\u001b[49m\u001b[43m \u001b[49m\u001b[38;5;241;43m*\u001b[39;49m\u001b[38;5;241;43m*\u001b[39;49m\u001b[43mkwargs\u001b[49m\u001b[43m)\u001b[49m\n",
      "File \u001b[0;32m~/miniconda3/envs/qc/lib/python3.9/site-packages/dwave/cloud/api/client.py:86\u001b[0m, in \u001b[0;36mLoggingSession.request\u001b[0;34m(self, method, *args, **kwargs)\u001b[0m\n\u001b[1;32m     82\u001b[0m logger\u001b[38;5;241m.\u001b[39mtrace(\u001b[38;5;124m\"\u001b[39m\u001b[38;5;124m[\u001b[39m\u001b[38;5;132;01m%s\u001b[39;00m\u001b[38;5;124m] request(\u001b[39m\u001b[38;5;132;01m%r\u001b[39;00m\u001b[38;5;124m, *\u001b[39m\u001b[38;5;132;01m%r\u001b[39;00m\u001b[38;5;124m, **\u001b[39m\u001b[38;5;132;01m%r\u001b[39;00m\u001b[38;5;124m)\u001b[39m\u001b[38;5;124m\"\u001b[39m,\n\u001b[1;32m     83\u001b[0m              callee, method, args, kwargs)\n\u001b[1;32m     85\u001b[0m \u001b[38;5;28;01mtry\u001b[39;00m:\n\u001b[0;32m---> 86\u001b[0m     response \u001b[38;5;241m=\u001b[39m \u001b[38;5;28;43mself\u001b[39;49m\u001b[38;5;241;43m.\u001b[39;49m\u001b[43m_request_unified\u001b[49m\u001b[43m(\u001b[49m\u001b[43mmethod\u001b[49m\u001b[43m,\u001b[49m\u001b[43m \u001b[49m\u001b[38;5;241;43m*\u001b[39;49m\u001b[43margs\u001b[49m\u001b[43m,\u001b[49m\u001b[43m \u001b[49m\u001b[38;5;241;43m*\u001b[39;49m\u001b[38;5;241;43m*\u001b[39;49m\u001b[43mkwargs\u001b[49m\u001b[43m)\u001b[49m\n\u001b[1;32m     88\u001b[0m     rec \u001b[38;5;241m=\u001b[39m LoggingSession\u001b[38;5;241m.\u001b[39mRequestRecord(\n\u001b[1;32m     89\u001b[0m         request\u001b[38;5;241m=\u001b[39mresponse\u001b[38;5;241m.\u001b[39mrequest, response\u001b[38;5;241m=\u001b[39mresponse, exception\u001b[38;5;241m=\u001b[39m\u001b[38;5;28;01mNone\u001b[39;00m)\n\u001b[1;32m     90\u001b[0m     \u001b[38;5;28mself\u001b[39m\u001b[38;5;241m.\u001b[39mhistory\u001b[38;5;241m.\u001b[39mappend(rec)\n",
      "File \u001b[0;32m~/miniconda3/envs/qc/lib/python3.9/site-packages/dwave/cloud/api/client.py:67\u001b[0m, in \u001b[0;36mLoggingSession._request_unified\u001b[0;34m(self, method, *args, **kwargs)\u001b[0m\n\u001b[1;32m     64\u001b[0m \u001b[38;5;28;01mdef\u001b[39;00m \u001b[38;5;21m_request_unified\u001b[39m(\u001b[38;5;28mself\u001b[39m, method: \u001b[38;5;28mstr\u001b[39m, \u001b[38;5;241m*\u001b[39margs, \u001b[38;5;241m*\u001b[39m\u001b[38;5;241m*\u001b[39mkwargs):\n\u001b[1;32m     65\u001b[0m     \u001b[38;5;66;03m# timeout exceptions unified with regular request exceptions\u001b[39;00m\n\u001b[1;32m     66\u001b[0m     \u001b[38;5;28;01mtry\u001b[39;00m:\n\u001b[0;32m---> 67\u001b[0m         \u001b[38;5;28;01mreturn\u001b[39;00m \u001b[38;5;28;43msuper\u001b[39;49m\u001b[43m(\u001b[49m\u001b[43m)\u001b[49m\u001b[38;5;241;43m.\u001b[39;49m\u001b[43mrequest\u001b[49m\u001b[43m(\u001b[49m\u001b[43mmethod\u001b[49m\u001b[43m,\u001b[49m\u001b[43m \u001b[49m\u001b[38;5;241;43m*\u001b[39;49m\u001b[43margs\u001b[49m\u001b[43m,\u001b[49m\u001b[43m \u001b[49m\u001b[38;5;241;43m*\u001b[39;49m\u001b[38;5;241;43m*\u001b[39;49m\u001b[43mkwargs\u001b[49m\u001b[43m)\u001b[49m\n\u001b[1;32m     68\u001b[0m     \u001b[38;5;28;01mexcept\u001b[39;00m \u001b[38;5;167;01mException\u001b[39;00m \u001b[38;5;28;01mas\u001b[39;00m exc:\n\u001b[1;32m     69\u001b[0m         \u001b[38;5;28;01mif\u001b[39;00m is_caused_by(exc, (requests\u001b[38;5;241m.\u001b[39mexceptions\u001b[38;5;241m.\u001b[39mTimeout,\n\u001b[1;32m     70\u001b[0m                               urllib3\u001b[38;5;241m.\u001b[39mexceptions\u001b[38;5;241m.\u001b[39mTimeoutError)):\n",
      "File \u001b[0;32m~/miniconda3/envs/qc/lib/python3.9/site-packages/dwave/cloud/utils.py:288\u001b[0m, in \u001b[0;36mBaseUrlSession.request\u001b[0;34m(self, method, url, *args, **kwargs)\u001b[0m\n\u001b[1;32m    286\u001b[0m \u001b[38;5;124;03m\"\"\"Send the request after generating the complete URL.\"\"\"\u001b[39;00m\n\u001b[1;32m    287\u001b[0m url \u001b[38;5;241m=\u001b[39m \u001b[38;5;28mself\u001b[39m\u001b[38;5;241m.\u001b[39mcreate_url(url)\n\u001b[0;32m--> 288\u001b[0m \u001b[38;5;28;01mreturn\u001b[39;00m \u001b[38;5;28;43msuper\u001b[39;49m\u001b[43m(\u001b[49m\u001b[43m)\u001b[49m\u001b[38;5;241;43m.\u001b[39;49m\u001b[43mrequest\u001b[49m\u001b[43m(\u001b[49m\u001b[43mmethod\u001b[49m\u001b[43m,\u001b[49m\u001b[43m \u001b[49m\u001b[43murl\u001b[49m\u001b[43m,\u001b[49m\u001b[43m \u001b[49m\u001b[38;5;241;43m*\u001b[39;49m\u001b[43margs\u001b[49m\u001b[43m,\u001b[49m\u001b[43m \u001b[49m\u001b[38;5;241;43m*\u001b[39;49m\u001b[38;5;241;43m*\u001b[39;49m\u001b[43mkwargs\u001b[49m\u001b[43m)\u001b[49m\n",
      "File \u001b[0;32m~/miniconda3/envs/qc/lib/python3.9/site-packages/requests/sessions.py:587\u001b[0m, in \u001b[0;36mSession.request\u001b[0;34m(self, method, url, params, data, headers, cookies, files, auth, timeout, allow_redirects, proxies, hooks, stream, verify, cert, json)\u001b[0m\n\u001b[1;32m    582\u001b[0m send_kwargs \u001b[38;5;241m=\u001b[39m {\n\u001b[1;32m    583\u001b[0m     \u001b[38;5;124m\"\u001b[39m\u001b[38;5;124mtimeout\u001b[39m\u001b[38;5;124m\"\u001b[39m: timeout,\n\u001b[1;32m    584\u001b[0m     \u001b[38;5;124m\"\u001b[39m\u001b[38;5;124mallow_redirects\u001b[39m\u001b[38;5;124m\"\u001b[39m: allow_redirects,\n\u001b[1;32m    585\u001b[0m }\n\u001b[1;32m    586\u001b[0m send_kwargs\u001b[38;5;241m.\u001b[39mupdate(settings)\n\u001b[0;32m--> 587\u001b[0m resp \u001b[38;5;241m=\u001b[39m \u001b[38;5;28;43mself\u001b[39;49m\u001b[38;5;241;43m.\u001b[39;49m\u001b[43msend\u001b[49m\u001b[43m(\u001b[49m\u001b[43mprep\u001b[49m\u001b[43m,\u001b[49m\u001b[43m \u001b[49m\u001b[38;5;241;43m*\u001b[39;49m\u001b[38;5;241;43m*\u001b[39;49m\u001b[43msend_kwargs\u001b[49m\u001b[43m)\u001b[49m\n\u001b[1;32m    589\u001b[0m \u001b[38;5;28;01mreturn\u001b[39;00m resp\n",
      "File \u001b[0;32m~/miniconda3/envs/qc/lib/python3.9/site-packages/requests/sessions.py:701\u001b[0m, in \u001b[0;36mSession.send\u001b[0;34m(self, request, **kwargs)\u001b[0m\n\u001b[1;32m    698\u001b[0m start \u001b[38;5;241m=\u001b[39m preferred_clock()\n\u001b[1;32m    700\u001b[0m \u001b[38;5;66;03m# Send the request\u001b[39;00m\n\u001b[0;32m--> 701\u001b[0m r \u001b[38;5;241m=\u001b[39m \u001b[43madapter\u001b[49m\u001b[38;5;241;43m.\u001b[39;49m\u001b[43msend\u001b[49m\u001b[43m(\u001b[49m\u001b[43mrequest\u001b[49m\u001b[43m,\u001b[49m\u001b[43m \u001b[49m\u001b[38;5;241;43m*\u001b[39;49m\u001b[38;5;241;43m*\u001b[39;49m\u001b[43mkwargs\u001b[49m\u001b[43m)\u001b[49m\n\u001b[1;32m    703\u001b[0m \u001b[38;5;66;03m# Total elapsed time of the request (approximately)\u001b[39;00m\n\u001b[1;32m    704\u001b[0m elapsed \u001b[38;5;241m=\u001b[39m preferred_clock() \u001b[38;5;241m-\u001b[39m start\n",
      "File \u001b[0;32m~/miniconda3/envs/qc/lib/python3.9/site-packages/dwave/cloud/utils.py:267\u001b[0m, in \u001b[0;36mTimeoutingHTTPAdapter.send\u001b[0;34m(self, *args, **kwargs)\u001b[0m\n\u001b[1;32m    264\u001b[0m \u001b[38;5;28;01mdef\u001b[39;00m \u001b[38;5;21msend\u001b[39m(\u001b[38;5;28mself\u001b[39m, \u001b[38;5;241m*\u001b[39margs, \u001b[38;5;241m*\u001b[39m\u001b[38;5;241m*\u001b[39mkwargs):\n\u001b[1;32m    265\u001b[0m     \u001b[38;5;66;03m# can't use setdefault because caller always sets timeout kwarg\u001b[39;00m\n\u001b[1;32m    266\u001b[0m     kwargs[\u001b[38;5;124m'\u001b[39m\u001b[38;5;124mtimeout\u001b[39m\u001b[38;5;124m'\u001b[39m] \u001b[38;5;241m=\u001b[39m \u001b[38;5;28mself\u001b[39m\u001b[38;5;241m.\u001b[39mtimeout\n\u001b[0;32m--> 267\u001b[0m     \u001b[38;5;28;01mreturn\u001b[39;00m \u001b[38;5;28;43msuper\u001b[39;49m\u001b[43m(\u001b[49m\u001b[43m)\u001b[49m\u001b[38;5;241;43m.\u001b[39;49m\u001b[43msend\u001b[49m\u001b[43m(\u001b[49m\u001b[38;5;241;43m*\u001b[39;49m\u001b[43margs\u001b[49m\u001b[43m,\u001b[49m\u001b[43m \u001b[49m\u001b[38;5;241;43m*\u001b[39;49m\u001b[38;5;241;43m*\u001b[39;49m\u001b[43mkwargs\u001b[49m\u001b[43m)\u001b[49m\n",
      "File \u001b[0;32m~/miniconda3/envs/qc/lib/python3.9/site-packages/requests/adapters.py:489\u001b[0m, in \u001b[0;36mHTTPAdapter.send\u001b[0;34m(self, request, stream, timeout, verify, cert, proxies)\u001b[0m\n\u001b[1;32m    487\u001b[0m \u001b[38;5;28;01mtry\u001b[39;00m:\n\u001b[1;32m    488\u001b[0m     \u001b[38;5;28;01mif\u001b[39;00m \u001b[38;5;129;01mnot\u001b[39;00m chunked:\n\u001b[0;32m--> 489\u001b[0m         resp \u001b[38;5;241m=\u001b[39m \u001b[43mconn\u001b[49m\u001b[38;5;241;43m.\u001b[39;49m\u001b[43murlopen\u001b[49m\u001b[43m(\u001b[49m\n\u001b[1;32m    490\u001b[0m \u001b[43m            \u001b[49m\u001b[43mmethod\u001b[49m\u001b[38;5;241;43m=\u001b[39;49m\u001b[43mrequest\u001b[49m\u001b[38;5;241;43m.\u001b[39;49m\u001b[43mmethod\u001b[49m\u001b[43m,\u001b[49m\n\u001b[1;32m    491\u001b[0m \u001b[43m            \u001b[49m\u001b[43murl\u001b[49m\u001b[38;5;241;43m=\u001b[39;49m\u001b[43murl\u001b[49m\u001b[43m,\u001b[49m\n\u001b[1;32m    492\u001b[0m \u001b[43m            \u001b[49m\u001b[43mbody\u001b[49m\u001b[38;5;241;43m=\u001b[39;49m\u001b[43mrequest\u001b[49m\u001b[38;5;241;43m.\u001b[39;49m\u001b[43mbody\u001b[49m\u001b[43m,\u001b[49m\n\u001b[1;32m    493\u001b[0m \u001b[43m            \u001b[49m\u001b[43mheaders\u001b[49m\u001b[38;5;241;43m=\u001b[39;49m\u001b[43mrequest\u001b[49m\u001b[38;5;241;43m.\u001b[39;49m\u001b[43mheaders\u001b[49m\u001b[43m,\u001b[49m\n\u001b[1;32m    494\u001b[0m \u001b[43m            \u001b[49m\u001b[43mredirect\u001b[49m\u001b[38;5;241;43m=\u001b[39;49m\u001b[38;5;28;43;01mFalse\u001b[39;49;00m\u001b[43m,\u001b[49m\n\u001b[1;32m    495\u001b[0m \u001b[43m            \u001b[49m\u001b[43massert_same_host\u001b[49m\u001b[38;5;241;43m=\u001b[39;49m\u001b[38;5;28;43;01mFalse\u001b[39;49;00m\u001b[43m,\u001b[49m\n\u001b[1;32m    496\u001b[0m \u001b[43m            \u001b[49m\u001b[43mpreload_content\u001b[49m\u001b[38;5;241;43m=\u001b[39;49m\u001b[38;5;28;43;01mFalse\u001b[39;49;00m\u001b[43m,\u001b[49m\n\u001b[1;32m    497\u001b[0m \u001b[43m            \u001b[49m\u001b[43mdecode_content\u001b[49m\u001b[38;5;241;43m=\u001b[39;49m\u001b[38;5;28;43;01mFalse\u001b[39;49;00m\u001b[43m,\u001b[49m\n\u001b[1;32m    498\u001b[0m \u001b[43m            \u001b[49m\u001b[43mretries\u001b[49m\u001b[38;5;241;43m=\u001b[39;49m\u001b[38;5;28;43mself\u001b[39;49m\u001b[38;5;241;43m.\u001b[39;49m\u001b[43mmax_retries\u001b[49m\u001b[43m,\u001b[49m\n\u001b[1;32m    499\u001b[0m \u001b[43m            \u001b[49m\u001b[43mtimeout\u001b[49m\u001b[38;5;241;43m=\u001b[39;49m\u001b[43mtimeout\u001b[49m\u001b[43m,\u001b[49m\n\u001b[1;32m    500\u001b[0m \u001b[43m        \u001b[49m\u001b[43m)\u001b[49m\n\u001b[1;32m    502\u001b[0m     \u001b[38;5;66;03m# Send the request.\u001b[39;00m\n\u001b[1;32m    503\u001b[0m     \u001b[38;5;28;01melse\u001b[39;00m:\n\u001b[1;32m    504\u001b[0m         \u001b[38;5;28;01mif\u001b[39;00m \u001b[38;5;28mhasattr\u001b[39m(conn, \u001b[38;5;124m\"\u001b[39m\u001b[38;5;124mproxy_pool\u001b[39m\u001b[38;5;124m\"\u001b[39m):\n",
      "File \u001b[0;32m~/miniconda3/envs/qc/lib/python3.9/site-packages/urllib3/connectionpool.py:703\u001b[0m, in \u001b[0;36mHTTPConnectionPool.urlopen\u001b[0;34m(self, method, url, body, headers, retries, redirect, assert_same_host, timeout, pool_timeout, release_conn, chunked, body_pos, **response_kw)\u001b[0m\n\u001b[1;32m    700\u001b[0m     \u001b[38;5;28mself\u001b[39m\u001b[38;5;241m.\u001b[39m_prepare_proxy(conn)\n\u001b[1;32m    702\u001b[0m \u001b[38;5;66;03m# Make the request on the httplib connection object.\u001b[39;00m\n\u001b[0;32m--> 703\u001b[0m httplib_response \u001b[38;5;241m=\u001b[39m \u001b[38;5;28;43mself\u001b[39;49m\u001b[38;5;241;43m.\u001b[39;49m\u001b[43m_make_request\u001b[49m\u001b[43m(\u001b[49m\n\u001b[1;32m    704\u001b[0m \u001b[43m    \u001b[49m\u001b[43mconn\u001b[49m\u001b[43m,\u001b[49m\n\u001b[1;32m    705\u001b[0m \u001b[43m    \u001b[49m\u001b[43mmethod\u001b[49m\u001b[43m,\u001b[49m\n\u001b[1;32m    706\u001b[0m \u001b[43m    \u001b[49m\u001b[43murl\u001b[49m\u001b[43m,\u001b[49m\n\u001b[1;32m    707\u001b[0m \u001b[43m    \u001b[49m\u001b[43mtimeout\u001b[49m\u001b[38;5;241;43m=\u001b[39;49m\u001b[43mtimeout_obj\u001b[49m\u001b[43m,\u001b[49m\n\u001b[1;32m    708\u001b[0m \u001b[43m    \u001b[49m\u001b[43mbody\u001b[49m\u001b[38;5;241;43m=\u001b[39;49m\u001b[43mbody\u001b[49m\u001b[43m,\u001b[49m\n\u001b[1;32m    709\u001b[0m \u001b[43m    \u001b[49m\u001b[43mheaders\u001b[49m\u001b[38;5;241;43m=\u001b[39;49m\u001b[43mheaders\u001b[49m\u001b[43m,\u001b[49m\n\u001b[1;32m    710\u001b[0m \u001b[43m    \u001b[49m\u001b[43mchunked\u001b[49m\u001b[38;5;241;43m=\u001b[39;49m\u001b[43mchunked\u001b[49m\u001b[43m,\u001b[49m\n\u001b[1;32m    711\u001b[0m \u001b[43m\u001b[49m\u001b[43m)\u001b[49m\n\u001b[1;32m    713\u001b[0m \u001b[38;5;66;03m# If we're going to release the connection in ``finally:``, then\u001b[39;00m\n\u001b[1;32m    714\u001b[0m \u001b[38;5;66;03m# the response doesn't need to know about the connection. Otherwise\u001b[39;00m\n\u001b[1;32m    715\u001b[0m \u001b[38;5;66;03m# it will also try to release it and we'll have a double-release\u001b[39;00m\n\u001b[1;32m    716\u001b[0m \u001b[38;5;66;03m# mess.\u001b[39;00m\n\u001b[1;32m    717\u001b[0m response_conn \u001b[38;5;241m=\u001b[39m conn \u001b[38;5;28;01mif\u001b[39;00m \u001b[38;5;129;01mnot\u001b[39;00m release_conn \u001b[38;5;28;01melse\u001b[39;00m \u001b[38;5;28;01mNone\u001b[39;00m\n",
      "File \u001b[0;32m~/miniconda3/envs/qc/lib/python3.9/site-packages/urllib3/connectionpool.py:386\u001b[0m, in \u001b[0;36mHTTPConnectionPool._make_request\u001b[0;34m(self, conn, method, url, timeout, chunked, **httplib_request_kw)\u001b[0m\n\u001b[1;32m    384\u001b[0m \u001b[38;5;66;03m# Trigger any extra validation we need to do.\u001b[39;00m\n\u001b[1;32m    385\u001b[0m \u001b[38;5;28;01mtry\u001b[39;00m:\n\u001b[0;32m--> 386\u001b[0m     \u001b[38;5;28;43mself\u001b[39;49m\u001b[38;5;241;43m.\u001b[39;49m\u001b[43m_validate_conn\u001b[49m\u001b[43m(\u001b[49m\u001b[43mconn\u001b[49m\u001b[43m)\u001b[49m\n\u001b[1;32m    387\u001b[0m \u001b[38;5;28;01mexcept\u001b[39;00m (SocketTimeout, BaseSSLError) \u001b[38;5;28;01mas\u001b[39;00m e:\n\u001b[1;32m    388\u001b[0m     \u001b[38;5;66;03m# Py2 raises this as a BaseSSLError, Py3 raises it as socket timeout.\u001b[39;00m\n\u001b[1;32m    389\u001b[0m     \u001b[38;5;28mself\u001b[39m\u001b[38;5;241m.\u001b[39m_raise_timeout(err\u001b[38;5;241m=\u001b[39me, url\u001b[38;5;241m=\u001b[39murl, timeout_value\u001b[38;5;241m=\u001b[39mconn\u001b[38;5;241m.\u001b[39mtimeout)\n",
      "File \u001b[0;32m~/miniconda3/envs/qc/lib/python3.9/site-packages/urllib3/connectionpool.py:1040\u001b[0m, in \u001b[0;36mHTTPSConnectionPool._validate_conn\u001b[0;34m(self, conn)\u001b[0m\n\u001b[1;32m   1038\u001b[0m \u001b[38;5;66;03m# Force connect early to allow us to validate the connection.\u001b[39;00m\n\u001b[1;32m   1039\u001b[0m \u001b[38;5;28;01mif\u001b[39;00m \u001b[38;5;129;01mnot\u001b[39;00m \u001b[38;5;28mgetattr\u001b[39m(conn, \u001b[38;5;124m\"\u001b[39m\u001b[38;5;124msock\u001b[39m\u001b[38;5;124m\"\u001b[39m, \u001b[38;5;28;01mNone\u001b[39;00m):  \u001b[38;5;66;03m# AppEngine might not have  `.sock`\u001b[39;00m\n\u001b[0;32m-> 1040\u001b[0m     \u001b[43mconn\u001b[49m\u001b[38;5;241;43m.\u001b[39;49m\u001b[43mconnect\u001b[49m\u001b[43m(\u001b[49m\u001b[43m)\u001b[49m\n\u001b[1;32m   1042\u001b[0m \u001b[38;5;28;01mif\u001b[39;00m \u001b[38;5;129;01mnot\u001b[39;00m conn\u001b[38;5;241m.\u001b[39mis_verified:\n\u001b[1;32m   1043\u001b[0m     warnings\u001b[38;5;241m.\u001b[39mwarn(\n\u001b[1;32m   1044\u001b[0m         (\n\u001b[1;32m   1045\u001b[0m             \u001b[38;5;124m\"\u001b[39m\u001b[38;5;124mUnverified HTTPS request is being made to host \u001b[39m\u001b[38;5;124m'\u001b[39m\u001b[38;5;132;01m%s\u001b[39;00m\u001b[38;5;124m'\u001b[39m\u001b[38;5;124m. \u001b[39m\u001b[38;5;124m\"\u001b[39m\n\u001b[0;32m   (...)\u001b[0m\n\u001b[1;32m   1050\u001b[0m         InsecureRequestWarning,\n\u001b[1;32m   1051\u001b[0m     )\n",
      "File \u001b[0;32m~/miniconda3/envs/qc/lib/python3.9/site-packages/urllib3/connection.py:358\u001b[0m, in \u001b[0;36mHTTPSConnection.connect\u001b[0;34m(self)\u001b[0m\n\u001b[1;32m    356\u001b[0m \u001b[38;5;28;01mdef\u001b[39;00m \u001b[38;5;21mconnect\u001b[39m(\u001b[38;5;28mself\u001b[39m):\n\u001b[1;32m    357\u001b[0m     \u001b[38;5;66;03m# Add certificate verification\u001b[39;00m\n\u001b[0;32m--> 358\u001b[0m     \u001b[38;5;28mself\u001b[39m\u001b[38;5;241m.\u001b[39msock \u001b[38;5;241m=\u001b[39m conn \u001b[38;5;241m=\u001b[39m \u001b[38;5;28;43mself\u001b[39;49m\u001b[38;5;241;43m.\u001b[39;49m\u001b[43m_new_conn\u001b[49m\u001b[43m(\u001b[49m\u001b[43m)\u001b[49m\n\u001b[1;32m    359\u001b[0m     hostname \u001b[38;5;241m=\u001b[39m \u001b[38;5;28mself\u001b[39m\u001b[38;5;241m.\u001b[39mhost\n\u001b[1;32m    360\u001b[0m     tls_in_tls \u001b[38;5;241m=\u001b[39m \u001b[38;5;28;01mFalse\u001b[39;00m\n",
      "File \u001b[0;32m~/miniconda3/envs/qc/lib/python3.9/site-packages/urllib3/connection.py:174\u001b[0m, in \u001b[0;36mHTTPConnection._new_conn\u001b[0;34m(self)\u001b[0m\n\u001b[1;32m    171\u001b[0m     extra_kw[\u001b[38;5;124m\"\u001b[39m\u001b[38;5;124msocket_options\u001b[39m\u001b[38;5;124m\"\u001b[39m] \u001b[38;5;241m=\u001b[39m \u001b[38;5;28mself\u001b[39m\u001b[38;5;241m.\u001b[39msocket_options\n\u001b[1;32m    173\u001b[0m \u001b[38;5;28;01mtry\u001b[39;00m:\n\u001b[0;32m--> 174\u001b[0m     conn \u001b[38;5;241m=\u001b[39m \u001b[43mconnection\u001b[49m\u001b[38;5;241;43m.\u001b[39;49m\u001b[43mcreate_connection\u001b[49m\u001b[43m(\u001b[49m\n\u001b[1;32m    175\u001b[0m \u001b[43m        \u001b[49m\u001b[43m(\u001b[49m\u001b[38;5;28;43mself\u001b[39;49m\u001b[38;5;241;43m.\u001b[39;49m\u001b[43m_dns_host\u001b[49m\u001b[43m,\u001b[49m\u001b[43m \u001b[49m\u001b[38;5;28;43mself\u001b[39;49m\u001b[38;5;241;43m.\u001b[39;49m\u001b[43mport\u001b[49m\u001b[43m)\u001b[49m\u001b[43m,\u001b[49m\u001b[43m \u001b[49m\u001b[38;5;28;43mself\u001b[39;49m\u001b[38;5;241;43m.\u001b[39;49m\u001b[43mtimeout\u001b[49m\u001b[43m,\u001b[49m\u001b[43m \u001b[49m\u001b[38;5;241;43m*\u001b[39;49m\u001b[38;5;241;43m*\u001b[39;49m\u001b[43mextra_kw\u001b[49m\n\u001b[1;32m    176\u001b[0m \u001b[43m    \u001b[49m\u001b[43m)\u001b[49m\n\u001b[1;32m    178\u001b[0m \u001b[38;5;28;01mexcept\u001b[39;00m SocketTimeout:\n\u001b[1;32m    179\u001b[0m     \u001b[38;5;28;01mraise\u001b[39;00m ConnectTimeoutError(\n\u001b[1;32m    180\u001b[0m         \u001b[38;5;28mself\u001b[39m,\n\u001b[1;32m    181\u001b[0m         \u001b[38;5;124m\"\u001b[39m\u001b[38;5;124mConnection to \u001b[39m\u001b[38;5;132;01m%s\u001b[39;00m\u001b[38;5;124m timed out. (connect timeout=\u001b[39m\u001b[38;5;132;01m%s\u001b[39;00m\u001b[38;5;124m)\u001b[39m\u001b[38;5;124m\"\u001b[39m\n\u001b[1;32m    182\u001b[0m         \u001b[38;5;241m%\u001b[39m (\u001b[38;5;28mself\u001b[39m\u001b[38;5;241m.\u001b[39mhost, \u001b[38;5;28mself\u001b[39m\u001b[38;5;241m.\u001b[39mtimeout),\n\u001b[1;32m    183\u001b[0m     )\n",
      "File \u001b[0;32m~/miniconda3/envs/qc/lib/python3.9/site-packages/urllib3/util/connection.py:85\u001b[0m, in \u001b[0;36mcreate_connection\u001b[0;34m(address, timeout, source_address, socket_options)\u001b[0m\n\u001b[1;32m     83\u001b[0m     \u001b[38;5;28;01mif\u001b[39;00m source_address:\n\u001b[1;32m     84\u001b[0m         sock\u001b[38;5;241m.\u001b[39mbind(source_address)\n\u001b[0;32m---> 85\u001b[0m     \u001b[43msock\u001b[49m\u001b[38;5;241;43m.\u001b[39;49m\u001b[43mconnect\u001b[49m\u001b[43m(\u001b[49m\u001b[43msa\u001b[49m\u001b[43m)\u001b[49m\n\u001b[1;32m     86\u001b[0m     \u001b[38;5;28;01mreturn\u001b[39;00m sock\n\u001b[1;32m     88\u001b[0m \u001b[38;5;28;01mexcept\u001b[39;00m socket\u001b[38;5;241m.\u001b[39merror \u001b[38;5;28;01mas\u001b[39;00m e:\n",
      "\u001b[0;31mKeyboardInterrupt\u001b[0m: "
     ]
    }
   ],
   "source": [
    "from dwave.system import EmbeddingComposite, DWaveSampler\n",
    "\n",
    "sampler = EmbeddingComposite(DWaveSampler())\n",
    "sampleset_unconstrained = sampler.sample(bqm, num_reads = 1000, \n",
    "                                         label='Graphene 3x3 unconstrained')"
   ]
  },
  {
   "cell_type": "markdown",
   "id": "4a3622d9",
   "metadata": {},
   "source": [
    "The results can be displayed as a Pandas Dataframe:"
   ]
  },
  {
   "cell_type": "code",
   "execution_count": 14,
   "id": "0f259f30",
   "metadata": {
    "scrolled": true
   },
   "outputs": [
    {
     "ename": "NameError",
     "evalue": "name 'sampleset_unconstrained' is not defined",
     "output_type": "error",
     "traceback": [
      "\u001b[0;31m---------------------------------------------------------------------------\u001b[0m",
      "\u001b[0;31mNameError\u001b[0m                                 Traceback (most recent call last)",
      "Input \u001b[0;32mIn [14]\u001b[0m, in \u001b[0;36m<cell line: 1>\u001b[0;34m()\u001b[0m\n\u001b[0;32m----> 1\u001b[0m \u001b[43msampleset_unconstrained\u001b[49m\u001b[38;5;241m.\u001b[39mto_pandas_dataframe()\n",
      "\u001b[0;31mNameError\u001b[0m: name 'sampleset_unconstrained' is not defined"
     ]
    }
   ],
   "source": [
    "sampleset_unconstrained.to_pandas_dataframe()"
   ]
  },
  {
   "cell_type": "markdown",
   "id": "7e2d7dcf",
   "metadata": {},
   "source": [
    "The first 18 rows of the above dataframe are the **x** array, where $x_{i} = 1$ means that atom $i$ is present.\n",
    "\n",
    "As expected, only one solution was found (all 1000 times the anenal was run). The one where no vacancies are presents."
   ]
  },
  {
   "cell_type": "markdown",
   "id": "f85a679c",
   "metadata": {},
   "source": [
    "## Introducing vacancies - constraints\n",
    "\n",
    "If we want to simulate a system with a specific number of vacancies, we will have to introduce them manually in the model.\n",
    "\n",
    "Let's define $N_{a} = N_{atoms} - N_{vac}$ as the total number of atoms in the resulting cell.\n",
    "\n",
    "Then, we can define a constraint where the sum of all the elements in the $\\bf x$ vector to be equal to $N_{a}$:\n",
    "\n",
    "$$\n",
    "\\sum_{i}^{N_{atoms}} w_{i} \\ x_{i} = N_{a}\n",
    "$$\n",
    "\n",
    "where $w_{i}$ is the weight for atom $i$. In this instance, all the weights are 1 (but we will still need to define them in the cell below). Therefore, the above equation becomes:\n",
    "That can be seen as:\n",
    "\n",
    "$$\n",
    "\\sum_{i}^{N_{atoms}} x_{i} = N_{a}\n",
    "$$\n",
    "\n",
    "This can be reformulated as:\n",
    "\n",
    "$$\n",
    "\\sum_{i}^{N_{atoms}} x_{i} - N_{a} = 0\n",
    "$$\n",
    "\n",
    "For the binary quadratic model, we need to represent the constraing/objective, as a mathematical expression that is satisfied at its minimum value. We achieve this, by squaring the above expression. This way, the minimum value of 0 that occurs when the condition $\\sum_{i}^{N_{atoms}} w_{i} \\ x_{i} = N_{a}$ is satisfied:\n",
    "\n",
    "$$\n",
    "\\left(\\sum_{i}^{N_{atoms}} x_{i} - N_{a}\\right)^{2} =\n",
    "$$\n",
    "\n",
    "$$\n",
    "\\sum_{i}^{N_{atoms}} x_{i}^{2} + \n",
    "\\sum_{i}^{N_{atoms}}\\sum_{j>i}^{N_{atoms}} 2 x_{i} x_{j} - \n",
    "\\sum_{i}^{N_{atoms}} 2 x_{i} N_{a} +\n",
    "N_{a}^{2}\n",
    "$$\n",
    "\n",
    "$$\n",
    "\\sum_{i}^{N_{atoms}} \\left(1-N_{a}\\right) x_{i} +\n",
    "\\sum_{i}^{N_{atoms}}\\sum_{j>i}^{N_{atoms}} 2 x_{i} x_{j}\n",
    "$$\n",
    "\n",
    "Where the last result was obtained by remembering that $\\bf x$ is a binary array and $0^{2} = 0$ and $1^{2} = 1$.\n",
    "\n"
   ]
  },
  {
   "cell_type": "markdown",
   "id": "95ae6661",
   "metadata": {},
   "source": [
    "Now we will simply combine this constraint with the objective function defined above:\n",
    "\n",
    "$$\n",
    "\\underbrace{\n",
    "- \\sum_{i}^{N_{atoms}}\\sum_{j>i}^{N_{atoms}} A_{i,j} x_{i} x_{j}\n",
    "}_\\text{objective}\n",
    "+\n",
    "\\underbrace{\n",
    "\\gamma\n",
    "\\left(\n",
    "\\sum_{i}^{N_{atoms}} \\left(1-2N_{a}\\right) x_{i} +\n",
    "\\sum_{i}^{N_{atoms}}\\sum_{j>i}^{N_{atoms}} 2 x_{i} x_{j}\n",
    "\\right)\n",
    "}_\\text{constraint} = \n",
    "$$\n",
    "\n",
    "$$\n",
    "\\gamma \\sum_{i}^{N_{atoms}} \\left(1-2N_{a}\\right) x_{i} +\n",
    "\\sum_{i}^{N_{atoms}}\\sum_{j>i}^{N_{atoms}} \\left(2\\gamma - A_{i,j}\\right) x_{i} x_{j}\n",
    "$$\n",
    "\n",
    "Therefore,\n",
    "\n",
    "$$\n",
    "h_{i} = \\left(1-2N_{a}\\right)\\ \\ \\ \\ \\ J_{ij} = \\left(2\\gamma - A_{i,j}\\right)\n",
    "$$\n",
    "The factor $\\gamma$, also called Lagrange parameter, determines the weight of the constraint wrt to the objective. In other words, how much should the final energy be affected by not respecting the constraint? Because the QA will return other solutions aside the global minima, this will determine whether higher energy solutions should be allowed or not."
   ]
  },
  {
   "cell_type": "markdown",
   "id": "345fd801",
   "metadata": {},
   "source": [
    "In practice, we don't need to manually specify the above terms. The *dimod* library does that for us. We can, therefore, define the contraint like in the cell below:"
   ]
  },
  {
   "cell_type": "code",
   "execution_count": 15,
   "id": "36260ffc",
   "metadata": {},
   "outputs": [],
   "source": [
    "Q = np.triu(-adjacency_matrix.astype(int),0)\n",
    "\n",
    "bqm = BinaryQuadraticModel.from_qubo(Q)\n",
    "\n",
    "weight = 1\n",
    "c_n_vacancies = [(i,weight) for i in c]\n",
    "\n",
    "num_vacancies = 1\n",
    "\n",
    "bqm.add_linear_equality_constraint(\n",
    "        c_n_vacancies,\n",
    "        constant= -(graphene_supercell.num_sites-num_vacancies),\n",
    "        lagrange_multiplier = 10\n",
    "        )"
   ]
  },
  {
   "cell_type": "markdown",
   "id": "4794ca0a",
   "metadata": {},
   "source": [
    "The term\n",
    "```\n",
    "c_n_vacancies = [(i,1) for i in c]\n",
    "```\n",
    "looks like:"
   ]
  },
  {
   "cell_type": "code",
   "execution_count": 19,
   "id": "9b45d11c",
   "metadata": {},
   "outputs": [
    {
     "name": "stdout",
     "output_type": "stream",
     "text": [
      "[(0, 1), (1, 1), (2, 1), (3, 1), (4, 1), (5, 1), (6, 1), (7, 1), (8, 1), (9, 1), (10, 1), (11, 1), (12, 1), (13, 1), (14, 1), (15, 1), (16, 1), (17, 1)]\n"
     ]
    }
   ],
   "source": [
    "print(c_n_vacancies)"
   ]
  },
  {
   "cell_type": "markdown",
   "id": "5b1c0c0d",
   "metadata": {},
   "source": [
    "Each tuple contains:\n",
    "- the number atom\n",
    "- the atom weight (see equation above)\n",
    "\n",
    "The constant is the term that was moved left of the = sign in eq above.\n",
    "\n",
    "Let's see how the bqm is affected by the introduction of the constraint. We are going to examin the model in terms of its QUBO matrix. "
   ]
  },
  {
   "cell_type": "code",
   "execution_count": 20,
   "id": "411fbb7f",
   "metadata": {},
   "outputs": [
    {
     "data": {
      "text/plain": [
       "array([[-330,   20,   20,   20,   20,   20,   20,   20,   20,   19,   20,\n",
       "          19,   19,   20,   20,   20,   20,   20],\n",
       "       [   0, -330,   20,   20,   20,   20,   20,   20,   20,   19,   19,\n",
       "          20,   20,   19,   20,   20,   20,   20],\n",
       "       [   0,    0, -330,   20,   20,   20,   20,   20,   20,   20,   19,\n",
       "          19,   20,   20,   19,   20,   20,   20],\n",
       "       [   0,    0,    0, -330,   20,   20,   20,   20,   20,   20,   20,\n",
       "          20,   19,   20,   19,   19,   20,   20],\n",
       "       [   0,    0,    0,    0, -330,   20,   20,   20,   20,   20,   20,\n",
       "          20,   19,   19,   20,   20,   19,   20],\n",
       "       [   0,    0,    0,    0,    0, -330,   20,   20,   20,   20,   20,\n",
       "          20,   20,   19,   19,   20,   20,   19],\n",
       "       [   0,    0,    0,    0,    0,    0, -330,   20,   20,   19,   20,\n",
       "          20,   20,   20,   20,   19,   20,   19],\n",
       "       [   0,    0,    0,    0,    0,    0,    0, -330,   20,   20,   19,\n",
       "          20,   20,   20,   20,   19,   19,   20],\n",
       "       [   0,    0,    0,    0,    0,    0,    0,    0, -330,   20,   20,\n",
       "          19,   20,   20,   20,   20,   19,   19],\n",
       "       [   0,    0,    0,    0,    0,    0,    0,    0,    0, -330,   20,\n",
       "          20,   20,   20,   20,   20,   20,   20],\n",
       "       [   0,    0,    0,    0,    0,    0,    0,    0,    0,    0, -330,\n",
       "          20,   20,   20,   20,   20,   20,   20],\n",
       "       [   0,    0,    0,    0,    0,    0,    0,    0,    0,    0,    0,\n",
       "        -330,   20,   20,   20,   20,   20,   20],\n",
       "       [   0,    0,    0,    0,    0,    0,    0,    0,    0,    0,    0,\n",
       "           0, -330,   20,   20,   20,   20,   20],\n",
       "       [   0,    0,    0,    0,    0,    0,    0,    0,    0,    0,    0,\n",
       "           0,    0, -330,   20,   20,   20,   20],\n",
       "       [   0,    0,    0,    0,    0,    0,    0,    0,    0,    0,    0,\n",
       "           0,    0,    0, -330,   20,   20,   20],\n",
       "       [   0,    0,    0,    0,    0,    0,    0,    0,    0,    0,    0,\n",
       "           0,    0,    0,    0, -330,   20,   20],\n",
       "       [   0,    0,    0,    0,    0,    0,    0,    0,    0,    0,    0,\n",
       "           0,    0,    0,    0,    0, -330,   20],\n",
       "       [   0,    0,    0,    0,    0,    0,    0,    0,    0,    0,    0,\n",
       "           0,    0,    0,    0,    0,    0, -330]])"
      ]
     },
     "metadata": {},
     "output_type": "display_data"
    }
   ],
   "source": [
    "# Build a n_atoms x n_atoms matrix containing only 0s\n",
    "qubo_matrix = np.array([[0]*graphene_supercell.num_sites]*graphene_supercell.num_sites)\n",
    "\n",
    "num_non_zero_elements = len(bqm.to_numpy_vectors().quadratic.row_indices)\n",
    "\n",
    "row_indices = bqm.to_numpy_vectors().quadratic.row_indices\n",
    "col_indices = bqm.to_numpy_vectors().quadratic.col_indices\n",
    "\n",
    "biases = bqm.to_numpy_vectors().quadratic.biases\n",
    "\n",
    "#Assign the quadratic biases to the elements\n",
    "for i in range(num_non_zero_elements):\n",
    "    qubo_matrix[row_indices[i]][col_indices[i]] = biases[i]\n",
    "for i in range(len(bqm.to_numpy_vectors().linear_biases)):\n",
    "    qubo_matrix[i][i] = bqm.to_numpy_vectors().linear_biases[i]\n",
    "\n",
    "    #Transpose the matrix (the model builds the lower left side of the matrix, it is hermitian, so it doesn't matter)    \n",
    "qubo_matrix = qubo_matrix.transpose()\n",
    "display(qubo_matrix)"
   ]
  },
  {
   "cell_type": "markdown",
   "id": "75ded212",
   "metadata": {},
   "source": [
    "- -330 was added to the diagonal elements ($h_i$ in the bqm) \n",
    "- +20 was added to the off diagonal elements ($J_{i,j}$ in the bqm) \n",
    "\n",
    "This can be explained by using (copied here):\n",
    "\n",
    "$$\n",
    "\\gamma\n",
    "\\left(\n",
    "\\sum_{i}^{N_{atoms}} \\left(1-2N_{a}\\right) x_{i} +\n",
    "\\sum_{i}^{N_{atoms}}\\sum_{j>i}^{N_{atoms}} 2 x_{i} x_{j}\n",
    "\\right)\n",
    "$$\n",
    "\n",
    "where $\\gamma = 10$, $N_{a} = 17$ (1 vacancy).\n",
    "\n"
   ]
  },
  {
   "cell_type": "code",
   "execution_count": null,
   "id": "05624a74",
   "metadata": {},
   "outputs": [],
   "source": [
    "from dwave.system import EmbeddingComposite, DWaveSampler\n",
    "\n",
    "sampler = EmbeddingComposite(DWaveSampler())\n",
    "sampleset_constrained = sampler.sample(bqm, num_reads = 1000, \n",
    "                                         label='Graphene 3x3 constrained')"
   ]
  },
  {
   "cell_type": "code",
   "execution_count": null,
   "id": "37692742",
   "metadata": {},
   "outputs": [],
   "source": [
    "sampleset_constrained.to_pandas_dataframe()"
   ]
  },
  {
   "cell_type": "markdown",
   "id": "1b17df3b",
   "metadata": {},
   "source": [
    "As you can see in the above Dataframe, adding a contraint makes the energy landscape more complicated and not only the lowest energy structure was found. The 18 positions in the structure are equivalent, so we would expect to find 18 solutions at the same energy (-24 a.u.), but also N solutions at much higher energy were found (XX). These are the solutions that don't respect the constraint on the number of vacancies."
   ]
  },
  {
   "cell_type": "code",
   "execution_count": null,
   "id": "9ba4afa5",
   "metadata": {},
   "outputs": [],
   "source": []
  },
  {
   "cell_type": "markdown",
   "id": "49c8e36c",
   "metadata": {},
   "source": [
    "## Apendix 1: The adjacency matrix"
   ]
  },
  {
   "cell_type": "markdown",
   "id": "4dc75146",
   "metadata": {},
   "source": [
    "Because in the model we are using, the energy depends on the number of bonds, we need a way to identify bonded atoms. To do so, we are going to start with the distance_matrix, which is a property of the graphene_supercell object:"
   ]
  },
  {
   "cell_type": "code",
   "execution_count": null,
   "id": "bdf92c71",
   "metadata": {},
   "outputs": [],
   "source": [
    "graphene_sc_distance_matrix = graphene_supercell.distance_matrix\n",
    "display(graphene_sc_distance_matrix)"
   ]
  },
  {
   "cell_type": "markdown",
   "id": "78d81beb",
   "metadata": {},
   "source": [
    "In graphene_sc_distance_matrix, the element in position $i,j$ is the distance (in Å) between atom $i$ and atom $j$."
   ]
  },
  {
   "cell_type": "markdown",
   "id": "dc135841",
   "metadata": {},
   "source": [
    "Next we will create a list of unique distances contained in the graphene_sc_distance_matrix to identify the number of \"shells\" an atom has. We will do so by using numpy:"
   ]
  },
  {
   "cell_type": "code",
   "execution_count": null,
   "id": "6385d810",
   "metadata": {},
   "outputs": [],
   "source": [
    "shells = np.unique(np.round(graphene_sc_distance_matrix[0],5)) \n",
    "display(shells)"
   ]
  },
  {
   "cell_type": "markdown",
   "id": "6d53841d",
   "metadata": {},
   "source": [
    "In this model, we are only interested in the nearest neighbours, i.e. the ones in the first coordination shell, which corresponds to the element in position 1 of the array above (remember that in python we start counting from 0). Therefore, we can combine the information contained in the graphene_sc_distance_matrix and shells arrays to generate the adjacency matrix:"
   ]
  },
  {
   "cell_type": "code",
   "execution_count": null,
   "id": "435ca2fd",
   "metadata": {},
   "outputs": [],
   "source": [
    "adjacency_matrix = (np.round(graphene_sc_distance_matrix,5) == shells[1]).astype(int)\n",
    "display(adjacency_matrix)"
   ]
  },
  {
   "cell_type": "markdown",
   "id": "20c81f28",
   "metadata": {},
   "source": [
    "In adjacency_matrix:\n",
    "- the element in position $i,j$ = 1 if atoms $i$ and $j$ are bonded\n",
    "- the element in position $i,j$ = 0 if atoms $i$ and $j$ are not bonded\n",
    "\n",
    "We can verify this for the atom 0. Let's look at the position of the 1s in the first line of the adjacency_matrix:"
   ]
  },
  {
   "cell_type": "code",
   "execution_count": null,
   "id": "cb6a476f",
   "metadata": {},
   "outputs": [],
   "source": [
    "np.where(adjacency_matrix[0] == 1)[0]"
   ]
  },
  {
   "cell_type": "markdown",
   "id": "e43fc081",
   "metadata": {},
   "source": [
    "We can see that atom 0 is bound to atoms 9, 11 and 12. This is confirmed by looking at the image above, where we can see that atoms 9 and 11 are next to atom 0. Atom 12 is at the other end of the cell and this is where the periodic boundary conditions (or 2D periodicity is included in the model). By saying that atom 0 and 12 are bonded, we are saying that once we get to the end of the cell, we start back from the opposite side (explain better)."
   ]
  },
  {
   "cell_type": "markdown",
   "id": "44f70465",
   "metadata": {},
   "source": [
    "## Appendix 2: The classical approach"
   ]
  },
  {
   "cell_type": "markdown",
   "id": "7cd3d2c1",
   "metadata": {},
   "source": [
    "What is meant by \"Classical approach\" is that we are going to follow the usual workflow in computational materials chemistry:\n",
    "\n",
    "- define the system\n",
    "- define the model used to describe the model\n",
    "- define the model used to calculate the energy of the system\n",
    "- calculate the energy\n",
    "\n",
    "The system and the model to represent it were described above in terms of **c** and **x** vectors and the **adjacency_matrix**.\n",
    "\n",
    "We are going to start by defining a very simple model to calculate the energy of the system:\n",
    "\n",
    "- each bond decreases the energy by 1 a.u. (arbitrary unit)\n",
    "\n",
    "Therefore, the task will be finding out how many bonds there are in the system. \n",
    "\n",
    "A very simple way to achieve this would be counting how many 1s there are in the adjacenty_matrix and divide that number by two because this procedure counts the bond between $i$ and $j$ and the bond between $j$ and $i$ as two separate bonds. Let's see how we could do this:"
   ]
  },
  {
   "cell_type": "code",
   "execution_count": null,
   "id": "eb5cbbb0",
   "metadata": {},
   "outputs": [],
   "source": [
    "num_bonds = np.sum(adjacency_matrix)/2\n",
    "display(num_bonds)"
   ]
  },
  {
   "cell_type": "markdown",
   "id": "cf3b67d7",
   "metadata": {},
   "source": [
    "The above described procedure works well if there are no vacancies in the system. Let's think about a way to describe systems with vacancies.\n",
    "\n",
    "We are going to start by multiplying the **x** vector by the **adjacency_matrix** and call this intermediate result **r**:"
   ]
  },
  {
   "cell_type": "code",
   "execution_count": null,
   "id": "c132d2dc",
   "metadata": {},
   "outputs": [],
   "source": [
    "r = np.matmul(x,adjacency_matrix)\n",
    "display(r)"
   ]
  },
  {
   "cell_type": "markdown",
   "id": "d02bea33",
   "metadata": {},
   "source": [
    "The vector **r** has length number of atoms in the supercell. The element $r_{i}$ tell us how many atoms the atom $i$ is bonded to."
   ]
  },
  {
   "cell_type": "markdown",
   "id": "4927dc04",
   "metadata": {},
   "source": [
    "Now we are going to multiply $\\bf x^{T}$ by **r** and multiply by -1 and divide the final result by 2 to obtain the energy:"
   ]
  },
  {
   "cell_type": "code",
   "execution_count": null,
   "id": "ddf164a3",
   "metadata": {},
   "outputs": [],
   "source": [
    "E = -0.5 * np.matmul(x,r)\n",
    "display(E)"
   ]
  },
  {
   "cell_type": "markdown",
   "id": "feceedcf",
   "metadata": {},
   "source": [
    "### 1 vacancy"
   ]
  },
  {
   "cell_type": "markdown",
   "id": "fc1955b5",
   "metadata": {},
   "source": [
    "Let's now simulate systems with 1 vacancy. At first we will introduce the vacancy in position 0. To achieve this, we will replace the 1 in position 0 of the x vector by a 0:"
   ]
  },
  {
   "cell_type": "code",
   "execution_count": null,
   "id": "c49a67d8",
   "metadata": {},
   "outputs": [],
   "source": [
    "x[0] = 0\n",
    "display(x)"
   ]
  },
  {
   "cell_type": "markdown",
   "id": "491b83dc",
   "metadata": {},
   "source": [
    "We will calculate the energy of the system following the same procedure used above, but this time we will perform both steps at once:\n",
    "\n",
    "$$\n",
    "E = - 0.5 \\  \\bf x^{T} * \\ adjacency\\_matrix * \\ x\n",
    "$$"
   ]
  },
  {
   "cell_type": "code",
   "execution_count": null,
   "id": "3ab648d3",
   "metadata": {},
   "outputs": [],
   "source": [
    "E = - 0.5 * np.matmul(x,np.matmul(x,adjacency_matrix))\n",
    "display(E)"
   ]
  },
  {
   "cell_type": "markdown",
   "id": "10687c48",
   "metadata": {},
   "source": [
    "As expected, one vacancy removes 3 bonds and, therefore, the energy went up by 3 a.u.\n",
    "\n",
    "Because of the symmetry of the system and the way the model is built, all atom positions are equivalent. This means that a vacancy in any position will increase the energy by 3 a.u., but let's confirm this.\n",
    "\n",
    "Let's build a matrix, called **X**, where each row represents a possible position for the vacancy:"
   ]
  },
  {
   "cell_type": "code",
   "execution_count": null,
   "id": "02a49f91",
   "metadata": {},
   "outputs": [],
   "source": [
    "X = np.array([[1]*graphene_supercell.num_sites]*graphene_supercell.num_sites)\n",
    "np.fill_diagonal(X,0)"
   ]
  },
  {
   "cell_type": "code",
   "execution_count": null,
   "id": "75692f7b",
   "metadata": {},
   "outputs": [],
   "source": [
    "X"
   ]
  },
  {
   "cell_type": "markdown",
   "id": "f48f8660",
   "metadata": {},
   "source": [
    "In the **X** matrix, the row $i$ represents the configuration with the vacancy in the $i-th$ position."
   ]
  },
  {
   "cell_type": "markdown",
   "id": "65fae8f4",
   "metadata": {},
   "source": [
    "We could now procede to calculate the energy of each configuration using a for loop, i.e. multiply each line by the adjacency_matrix and then again by the transposed line. Let's do this in the cell below and use a faster approach later:"
   ]
  },
  {
   "cell_type": "code",
   "execution_count": null,
   "id": "30edde50",
   "metadata": {},
   "outputs": [],
   "source": [
    "energies = []\n",
    "for line in X:\n",
    "    energies.append(np.matmul(line, np.matmul(line, adjacency_matrix)))\n",
    "\n",
    "display(energies)"
   ]
  },
  {
   "cell_type": "markdown",
   "id": "e13bc44d",
   "metadata": {},
   "source": [
    "As expected, the energy if the same for each configuration. In the **energies** vector above, the element $e_i$ is the energy of the configuration $i$."
   ]
  },
  {
   "cell_type": "markdown",
   "id": "ce0da88b",
   "metadata": {},
   "source": [
    "The faster approach mentioned above consists in using linear algebra knowledge and multiply the **X** matrix by the **adjacency_matrix** directly:"
   ]
  },
  {
   "cell_type": "code",
   "execution_count": null,
   "id": "664a2fb9",
   "metadata": {},
   "outputs": [],
   "source": [
    "#REVIEW THIS\n",
    "energies = - np.matmul(X,adjacency_matrix)\n",
    "energies = np.sum(adjacency_matrix,axis = 1)\n",
    "display(energies)\n",
    "\n",
    "#E_tmp = -np.matmul(X_classical,adjacency_matrix)\n",
    "#E_classical = np.sum(X_classical*E_tmp,axis=1)"
   ]
  },
  {
   "cell_type": "markdown",
   "id": "9ac46474",
   "metadata": {},
   "source": [
    "The energy landscape as a function of the configuration is plotted below. The configuration index can be seen as representing in which position the vacancy is located, i.e. configuration 1 corresponds to\n",
    "```\n",
    "[1, 0, 1, 1, 1, 1, 1, 1, 1, 1, 1, 1, 1, 1, 1, 1, 1, 1]\n",
    "```\n",
    "\n",
    "Notice that the energy of all structures is -48 a.u. This will change when we introduce more vacancies (see below)."
   ]
  },
  {
   "cell_type": "code",
   "execution_count": null,
   "id": "427dfa5b",
   "metadata": {},
   "outputs": [],
   "source": [
    "import matplotlib.pyplot as plt\n",
    "\n",
    "font = {'size'   : 14.5,\n",
    "       'weight': 'normal'}\n",
    "\n",
    "plt.rc('font', **font)\n",
    "\n",
    "color = ['b','g','r','c','m','y','k','tab:orange']\n",
    "fig, ax = plt.subplots()\n",
    "\n",
    "x = np.arange(-.5,17.5,0.001)\n",
    "y = (energies[0]/2)*np.cos((2*x+1)*np.pi)-(energies[0]/2)\n",
    "\n",
    "ax.plot(x,y)\n",
    "\n",
    "ax.set_xlabel('Configuration', fontsize=20)\n",
    "ax.set_ylabel('Energy (a.u.)', fontsize=20) \n",
    "ax.set_ybound()\n",
    "\n",
    "ax.set_xticks(np.arange(0,18))\n",
    "ax.set_yticks(np.arange(-50,0,5))\n",
    "plt.xticks(fontsize=12)\n",
    "plt.yticks(fontsize=16)\n",
    "\n",
    "fig.set_size_inches(18.5, 10.5)\n",
    "\n",
    "plt.show()"
   ]
  },
  {
   "cell_type": "markdown",
   "id": "59e9958f",
   "metadata": {},
   "source": [
    "### All possible configurations"
   ]
  },
  {
   "cell_type": "markdown",
   "id": "8abcb5c7",
   "metadata": {},
   "source": [
    "As the final step of this \"classical approach\", we are going to calculate the energy of all possible configurations and number of vacancies. There will be $2^{num_atoms}$, so $2^{18} = 262144$ possible configurations. The new **X** matrix that contain all of them will be generated by using a python module called itertools. The first 10 configurations are displayed below."
   ]
  },
  {
   "cell_type": "code",
   "execution_count": null,
   "id": "2ace3a95",
   "metadata": {},
   "outputs": [],
   "source": [
    "import itertools\n",
    "X = np.array(list(itertools.product([0, 1], repeat=18)))\n",
    "X[0:10]"
   ]
  },
  {
   "cell_type": "markdown",
   "id": "5e386ddb",
   "metadata": {},
   "source": [
    "Now we are going to use the same approach discussed above to calculate the energy of all the configurations. "
   ]
  },
  {
   "cell_type": "code",
   "execution_count": null,
   "id": "d4cdfacd",
   "metadata": {},
   "outputs": [],
   "source": [
    "energies = - np.sum(X*np.matmul(X,adjacency_matrix), axis=1)\n",
    "energies"
   ]
  },
  {
   "cell_type": "markdown",
   "id": "30b62e14",
   "metadata": {},
   "source": [
    "Let's now have a look at the unique energies for the set:"
   ]
  },
  {
   "cell_type": "code",
   "execution_count": null,
   "id": "5cb8e584",
   "metadata": {},
   "outputs": [],
   "source": [
    "energies_unique, count = np.unique(energies, return_counts=True)\n",
    "display(energies_unique)\n",
    "display(count)"
   ]
  },
  {
   "cell_type": "markdown",
   "id": "dc83fd30",
   "metadata": {},
   "source": [
    "In the cell above, the first array reports the unique energies, whereas, the second one reports how many structures corresponding to a certain energies were found."
   ]
  },
  {
   "cell_type": "markdown",
   "id": "42dab2e5",
   "metadata": {},
   "source": [
    "## Coordination energy"
   ]
  },
  {
   "cell_type": "markdown",
   "id": "64da7c55",
   "metadata": {},
   "source": [
    "In this section we are going to refine the model described above by adding an extra term to the function that calculates the energy. The model used so far is very efficient in calculating the number of broken bonds. \n",
    "\n",
    "However, ask any chemist or material scientist and they will tell you this is not enought to discriminate between same energy structures. \n",
    "\n",
    "For example, the image below reports two structures, both containing two vacancies. As you can see, they both have XXX broken bonds and, therefore, the model discussed above calculates the same energy value of XXX au. XXX\n",
    "\n",
    "We can go one step further by starting to think of undercoordinated atoms. We know that the more uncoordinated an atom is, the more unstable it is going to be."
   ]
  },
  {
   "cell_type": "code",
   "execution_count": null,
   "id": "4270bb33",
   "metadata": {},
   "outputs": [],
   "source": [
    "#WIP"
   ]
  },
  {
   "cell_type": "markdown",
   "id": "7eb03dc2",
   "metadata": {},
   "source": [
    "## Coordination as an objective\n",
    "\n",
    "Weight \n",
    "\n",
    "- $J_{ij} = 1$ if atom j is a neighbour of the neighbours of atom i\n",
    "- $J_{ij} = 0$ if atom j is not a neighbour of the neighbours of atom i\n",
    "\n",
    "$J_{i,k} =1 $ if $A_{i,j} = 1$ and $A_{j,k} = 1$\n",
    "\n",
    "Fo example:\n",
    "- atom 13 is connected to atoms 1, 4 and 5\n",
    "    - atom 1 is connected to atoms 9, 10 and 13\n",
    "    - atom 4 is connected to atoms 12, 13 and 16\n",
    "    - atom 5 is connected to atoms 13, 14 and 17\n",
    "- $J_{13,j} = 1$ if $j \\in \\{9, 10, 12, 14, 16, 17\\}$"
   ]
  },
  {
   "cell_type": "code",
   "execution_count": null,
   "id": "3ae054f0",
   "metadata": {},
   "outputs": [],
   "source": []
  },
  {
   "cell_type": "code",
   "execution_count": null,
   "id": "6f20b762",
   "metadata": {},
   "outputs": [],
   "source": [
    "A"
   ]
  },
  {
   "cell_type": "code",
   "execution_count": null,
   "id": "66d4774a",
   "metadata": {
    "scrolled": true
   },
   "outputs": [],
   "source": [
    "np.where(adjacency_matrix[5] == 1)"
   ]
  },
  {
   "cell_type": "code",
   "execution_count": null,
   "id": "bf42164e",
   "metadata": {},
   "outputs": [],
   "source": [
    "for i in range(A.shape[0]):\n",
    "    J[i] = np.sum(A[np.where(A[i] == 1)],axis=0)\n",
    "np.fill_diagonal(J,0)\n",
    "# J is the adjadj matrix\n",
    "\n",
    "for i in range(graphene_supercell.num_sites):  \n",
    "    neighbours = np.where(adjacency_matrix[i,:] == 1)[0]\n",
    "    for j in range(len(neighbours)):\n",
    "        for k in range(j+1,len(neighbours)):\n",
    "                bqm.add_interaction(c[neighbours[j]],c[neighbours[k]],1)"
   ]
  },
  {
   "cell_type": "code",
   "execution_count": null,
   "id": "eae3f77d",
   "metadata": {},
   "outputs": [],
   "source": []
  },
  {
   "cell_type": "code",
   "execution_count": null,
   "id": "2a7ec3b0",
   "metadata": {},
   "outputs": [],
   "source": []
  },
  {
   "cell_type": "code",
   "execution_count": null,
   "id": "bf0a7753",
   "metadata": {},
   "outputs": [],
   "source": []
  },
  {
   "cell_type": "code",
   "execution_count": null,
   "id": "af567963",
   "metadata": {},
   "outputs": [],
   "source": []
  },
  {
   "cell_type": "markdown",
   "id": "931ace42",
   "metadata": {},
   "source": [
    "# THE END"
   ]
  },
  {
   "cell_type": "code",
   "execution_count": null,
   "id": "01c69602",
   "metadata": {},
   "outputs": [],
   "source": [
    "#TEST\n",
    "E_tmp = np.matmul(x1.transpose(),np.matmul(qubo_matrix,x1))\n",
    "display(np.matmul(qubo_matrix,x1))\n",
    "E_tmp"
   ]
  },
  {
   "cell_type": "code",
   "execution_count": null,
   "id": "53ddf2ff",
   "metadata": {},
   "outputs": [],
   "source": [
    "from pymatgen.io.ase import AseAtomsAdaptor\n",
    "from ase.visualize import view\n",
    "view(AseAtomsAdaptor().get_atoms(graphene_supercell))"
   ]
  }
 ],
 "metadata": {
  "kernelspec": {
   "display_name": "Python 3 (ipykernel)",
   "language": "python",
   "name": "python3"
  },
  "language_info": {
   "codemirror_mode": {
    "name": "ipython",
    "version": 3
   },
   "file_extension": ".py",
   "mimetype": "text/x-python",
   "name": "python",
   "nbconvert_exporter": "python",
   "pygments_lexer": "ipython3",
   "version": "3.9.12"
  }
 },
 "nbformat": 4,
 "nbformat_minor": 5
}

{
 "cells": [
  {
   "cell_type": "markdown",
   "id": "70602d04",
   "metadata": {},
   "source": [
    "# Test the performance of the model"
   ]
  },
  {
   "cell_type": "markdown",
   "id": "16392722",
   "metadata": {},
   "source": [
    "## Occurrence of symmetry equivalent structures"
   ]
  },
  {
   "cell_type": "markdown",
   "id": "80c23ec1",
   "metadata": {},
   "source": [
    "### Binary Quadratic Model"
   ]
  },
  {
   "cell_type": "code",
   "execution_count": 2,
   "id": "c391bc4b",
   "metadata": {},
   "outputs": [],
   "source": [
    "from AQC_CMC_workflow import *"
   ]
  },
  {
   "cell_type": "code",
   "execution_count": 3,
   "id": "5c45b8cf",
   "metadata": {},
   "outputs": [],
   "source": [
    "lattice = np.array([[ 1.233862, -2.137112,  0.      ],\n",
    "                   [ 1.233862,  2.137112,  0.      ],\n",
    "                   [ 0.      ,  0.      ,  8.685038]])\n",
    "\n",
    "graphene = Structure(lattice, species=['C','C'], coords=[[2/3, 1/3, 0. ],[1/3, 2/3, 0.]])\n",
    "graphene = SpacegroupAnalyzer(graphene).get_conventional_standard_structure()\n",
    "\n",
    "n_supercell = 3\n",
    "scaling_matrix = np.identity(3)*n_supercell\n",
    "scaling_matrix[2][2] = 1\n",
    "graphene_supercell = copy.deepcopy(graphene)\n",
    "graphene_supercell.make_supercell(scaling_matrix)"
   ]
  },
  {
   "cell_type": "code",
   "execution_count": 4,
   "id": "b02aae29",
   "metadata": {},
   "outputs": [],
   "source": [
    "structure = graphene_supercell\n",
    "use_coord = False\n",
    "num_vacancies=1\n",
    "weight_1 = 1\n",
    "weight_2 = 0\n",
    "lagrange = 10\n",
    "num_reads = 1000\n",
    "file_path = 'data/test_symmetry'\n",
    "file_name = 'graphene'\n",
    "remove_broken_chains = False"
   ]
  },
  {
   "cell_type": "code",
   "execution_count": 5,
   "id": "f1fe9cd7",
   "metadata": {},
   "outputs": [
    {
     "name": "stdout",
     "output_type": "stream",
     "text": [
      "Unconstrained quadratic model + contraints used\n"
     ]
    }
   ],
   "source": [
    "bqm = build_quadratic_model(structure,use_coord=use_coord,weight_1=weight_1,weight_2=weight_2,\n",
    "                             lagrange=lagrange, num_vacancies=num_vacancies)\n",
    "\n"
   ]
  },
  {
   "cell_type": "code",
   "execution_count": 12,
   "id": "c584a71f",
   "metadata": {},
   "outputs": [],
   "source": [
    "dataframe, config, energy = run_anneal(bqm,num_reads=num_reads, return_config_E=True,remove_broken_chains=remove_broken_chains)"
   ]
  },
  {
   "cell_type": "code",
   "execution_count": 79,
   "id": "c30c972f",
   "metadata": {},
   "outputs": [],
   "source": [
    "#IMPORTED\n",
    "def ratio_broken_chains(dataframe):\n",
    "    # Return how many solutions returned a broken chain\n",
    "    \n",
    "    broken = np.sum(dataframe[dataframe['chain_break_fraction'] == 0.]['num_occurrences'].to_numpy())\n",
    "    total = np.sum(dataframe['num_occurrences'].to_numpy())\n",
    "    \n",
    "    return np.round(broken/total,4)"
   ]
  },
  {
   "cell_type": "code",
   "execution_count": 82,
   "id": "6769af1b",
   "metadata": {},
   "outputs": [],
   "source": [
    "def energy_distribution(dataframe,remove_broken_chains = True):\n",
    "    \n",
    "    if remove_broken_chains == True:\n",
    "        df = dataframe[dataframe['chain_break_fraction'] == 0.]\n",
    "    elif remove_broken_chains == False:\n",
    "        df = dataframe\n",
    "        \n",
    "    energy = df['energy']\n",
    "    energy = np.round(np.array(energy),5)\n",
    "    multiplicity = df['num_occurrences']\n",
    "    multiplicity = np.array(multiplicity)\n",
    "\n",
    "    unique_multiplicity = []\n",
    "\n",
    "    unique_energy = np.unique(energy)\n",
    "    for e in unique_energy:\n",
    "        pos = np.where(energy == np.round(e,5))[0]\n",
    "        unique_multiplicity.append(np.sum(multiplicity[pos]))\n",
    "    \n",
    "    return unique_energy, unique_multiplicity"
   ]
  },
  {
   "cell_type": "code",
   "execution_count": 41,
   "id": "5248c22a",
   "metadata": {},
   "outputs": [],
   "source": [
    "def ratio_feasible(dataframe,num_vacancies, remove_broken_chains = True):\n",
    "    \n",
    "    if remove_broken_chains == True:\n",
    "        df = dataframe[dataframe['chain_break_fraction'] == 0.]\n",
    "    elif remove_broken_chains == False:\n",
    "        df = dataframe\n",
    "       \n",
    "    num_atoms = sum([x.isdigit() for x in df.columns])\n",
    "    \n",
    "    all_config = df.iloc[:,0:num_atoms].to_numpy()\n",
    "\n",
    "    multiplicity = df['num_occurrences'].to_numpy()\n",
    "\n",
    "    sum_vector = np.sum(all_config,axis=1)\n",
    "\n",
    "    feasible_config = np.where(np.round(sum_vector,5) == np.round((num_atoms - num_vacancies),5))[0]\n",
    "\n",
    "    total_feasible = np.sum(multiplicity[feasible_config])\n",
    "\n",
    "    ratio_feasible = total_feasible/np.sum(multiplicity)\n",
    "    \n",
    "    return np.round(ratio_feasible,4)\n",
    "    \n",
    "    "
   ]
  },
  {
   "cell_type": "code",
   "execution_count": 40,
   "id": "289636db",
   "metadata": {},
   "outputs": [
    {
     "data": {
      "text/plain": [
       "18"
      ]
     },
     "execution_count": 40,
     "metadata": {},
     "output_type": "execute_result"
    }
   ],
   "source": [
    "sum([x.isdigit() for x in df.columns])"
   ]
  },
  {
   "cell_type": "code",
   "execution_count": 81,
   "id": "e456e70a",
   "metadata": {},
   "outputs": [],
   "source": [
    "def equivalent_energy_distribution(dataframe, energy, remove_broken_chains = True, sort_config = True):\n",
    "    \n",
    "    #Only tested for 1 vacancy\n",
    "    \n",
    "    if remove_broken_chains == True:\n",
    "        df = dataframe[dataframe['chain_break_fraction'] == 0.]\n",
    "    elif remove_broken_chains == False:\n",
    "        df = dataframe\n",
    "        \n",
    "    energies = df['energy']\n",
    "    energies = np.round(np.array(energies),6)\n",
    "    \n",
    "    all_config = df.iloc[:,0:n_atoms].to_numpy()\n",
    "    all_multiplicity = df['num_occurrences'].to_numpy()\n",
    "\n",
    "    config_pos = np.where(energies == np.round(energy,6))[0]\n",
    "    configurations = all_config[config_pos]\n",
    "\n",
    "    multiplicity = all_multiplicity[config_pos]\n",
    "    \n",
    "    if sort_config == True:\n",
    "        config_sorted = []\n",
    "        for i, conf in enumerate(configurations):\n",
    "            config_sorted.append(int(''.join([str(x) for x in conf])))\n",
    "\n",
    "        sorting = np.argsort(np.array(config_sorted))   \n",
    " \n",
    "        config = configurations[sorting]\n",
    "        mult = multiplicity[sorting]\n",
    "    \n",
    "        return config, mult\n",
    "    \n",
    "    elif sort_config == False:\n",
    "        \n",
    "        return configurations, multiplicity\n",
    "    "
   ]
  },
  {
   "cell_type": "code",
   "execution_count": 10,
   "id": "ca4d9227",
   "metadata": {},
   "outputs": [],
   "source": [
    "def lowest_energy_found(dataframe, bqm):\n",
    "    \n",
    "    dataframe_low_e = np.min(dataframe['energy'].to_numpy())\n",
    "    exact_low_e = np.min(find_exact_solutions(bqm)['energy'].to_numpy())\n",
    "    \n",
    "    if dataframe_low_e == exact_low_e:\n",
    "        return True\n",
    "    else:\n",
    "        return False"
   ]
  },
  {
   "cell_type": "code",
   "execution_count": 14,
   "id": "1387fd50",
   "metadata": {},
   "outputs": [],
   "source": [
    "save_json(structure,dataframe,bqm,use_coord=use_coord, num_vacancies=num_vacancies, \n",
    "          weight_1=weight_1, weight_2=weight_2, lagrange=lagrange, num_reads=num_reads,\n",
    "          remove_broken_chains = remove_broken_chains,\n",
    "          file_path=file_path, file_name=file_name)"
   ]
  },
  {
   "cell_type": "code",
   "execution_count": 28,
   "id": "1741d541",
   "metadata": {},
   "outputs": [],
   "source": [
    "df, param, qubo_matrix = load_json('./data/test_symmetry/graphene_C18_bqm_v1_cF_w11_w20_l10_r100_t0.json')"
   ]
  },
  {
   "cell_type": "markdown",
   "id": "388e01dd",
   "metadata": {},
   "source": [
    "### Tests:\n",
    "- chain_break_fracion, number of energy values, number of occurences (1v) \n",
    "- vs\n",
    "- num_cycles, chain strength, cell size"
   ]
  },
  {
   "cell_type": "markdown",
   "id": "ceafe44c",
   "metadata": {},
   "source": [
    "# Loop"
   ]
  },
  {
   "cell_type": "code",
   "execution_count": 116,
   "id": "3e343dc1",
   "metadata": {},
   "outputs": [
    {
     "name": "stdout",
     "output_type": "stream",
     "text": [
      "Unconstrained quadratic model + contraints used\n",
      "Unconstrained quadratic model + contraints used\n"
     ]
    }
   ],
   "source": [
    "for lagrange in [1,10]:    \n",
    "    structure = graphene_supercell\n",
    "    use_coord = False\n",
    "    num_vacancies=1\n",
    "    weight_1 = 1\n",
    "    weight_2 = 0\n",
    "    lagrange = lagrange\n",
    "    num_reads = 1000\n",
    "    file_path = 'data/'\n",
    "    file_name = 'graphene'\n",
    "    remove_broken_chains = False\n",
    "\n",
    "    bqm = build_quadratic_model(structure,use_coord=use_coord,weight_1=weight_1,weight_2=weight_2,\n",
    "                                 lagrange=lagrange, num_vacancies=num_vacancies)\n",
    "    \n",
    "    dataframe, config, energy = run_anneal(bqm,num_reads=num_reads, return_config_E=True,remove_broken_chains=remove_broken_chains)\n",
    "    \n",
    "    save_json(structure,dataframe,bqm,use_coord=use_coord, num_vacancies=num_vacancies, \n",
    "          weight_1=weight_1, weight_2=weight_2, lagrange=lagrange, num_reads=num_reads,\n",
    "          remove_broken_chains = remove_broken_chains,\n",
    "          file_path=file_path, file_name=file_name)\n",
    "    \n",
    "    "
   ]
  },
  {
   "cell_type": "code",
   "execution_count": 84,
   "id": "35b6a5c6",
   "metadata": {},
   "outputs": [
    {
     "name": "stdout",
     "output_type": "stream",
     "text": [
      "data/graphene_C18_bqm_v1_cF_w11_w20_l1_r1000_t0.json\n",
      "data/graphene_C18_bqm_v1_cF_w11_w20_l10_r1000_t0.json\n"
     ]
    },
    {
     "data": {
      "text/html": [
       "<div>\n",
       "<style scoped>\n",
       "    .dataframe tbody tr th:only-of-type {\n",
       "        vertical-align: middle;\n",
       "    }\n",
       "\n",
       "    .dataframe tbody tr th {\n",
       "        vertical-align: top;\n",
       "    }\n",
       "\n",
       "    .dataframe thead th {\n",
       "        text-align: right;\n",
       "    }\n",
       "</style>\n",
       "<table border=\"1\" class=\"dataframe\">\n",
       "  <thead>\n",
       "    <tr style=\"text-align: right;\">\n",
       "      <th></th>\n",
       "      <th>date_time</th>\n",
       "      <th>structure</th>\n",
       "      <th>N atoms</th>\n",
       "      <th>model</th>\n",
       "      <th>use_coord</th>\n",
       "      <th>num_vacancies</th>\n",
       "      <th>weight_1</th>\n",
       "      <th>weight_2</th>\n",
       "      <th>lagrange</th>\n",
       "      <th>num_reads</th>\n",
       "      <th>time_limit</th>\n",
       "      <th>label</th>\n",
       "      <th>remove_broken_chains</th>\n",
       "      <th>ratio_feasible</th>\n",
       "      <th>broken_chains</th>\n",
       "      <th>energy_distribution</th>\n",
       "      <th>multiplicity</th>\n",
       "    </tr>\n",
       "  </thead>\n",
       "  <tbody>\n",
       "    <tr>\n",
       "      <th>Values</th>\n",
       "      <td>07/05/2022, 17:49:03</td>\n",
       "      <td>C18</td>\n",
       "      <td>18</td>\n",
       "      <td>bqm</td>\n",
       "      <td>False</td>\n",
       "      <td>1</td>\n",
       "      <td>1</td>\n",
       "      <td>0</td>\n",
       "      <td>1</td>\n",
       "      <td>1000</td>\n",
       "      <td>0</td>\n",
       "      <td>Test anneal</td>\n",
       "      <td>False</td>\n",
       "      <td>0.5385</td>\n",
       "      <td>0.975</td>\n",
       "      <td>-26.0, -24.0, -21.0, -20.0</td>\n",
       "      <td>406, 525, 18, 26</td>\n",
       "    </tr>\n",
       "    <tr>\n",
       "      <th>Values</th>\n",
       "      <td>07/05/2022, 17:49:11</td>\n",
       "      <td>C18</td>\n",
       "      <td>18</td>\n",
       "      <td>bqm</td>\n",
       "      <td>False</td>\n",
       "      <td>1</td>\n",
       "      <td>1</td>\n",
       "      <td>0</td>\n",
       "      <td>10</td>\n",
       "      <td>1000</td>\n",
       "      <td>0</td>\n",
       "      <td>Test anneal</td>\n",
       "      <td>False</td>\n",
       "      <td>0.3074</td>\n",
       "      <td>0.937</td>\n",
       "      <td>-24.0, -17.0, -12.0, -11.0, 20.0, 21.0, 22.0, ...</td>\n",
       "      <td>288, 2, 138, 445, 3, 27, 32, 2</td>\n",
       "    </tr>\n",
       "  </tbody>\n",
       "</table>\n",
       "</div>"
      ],
      "text/plain": [
       "                   date_time structure N atoms model use_coord num_vacancies  \\\n",
       "Values  07/05/2022, 17:49:03       C18      18   bqm     False             1   \n",
       "Values  07/05/2022, 17:49:11       C18      18   bqm     False             1   \n",
       "\n",
       "       weight_1 weight_2 lagrange num_reads time_limit        label  \\\n",
       "Values        1        0        1      1000          0  Test anneal   \n",
       "Values        1        0       10      1000          0  Test anneal   \n",
       "\n",
       "       remove_broken_chains  ratio_feasible  broken_chains  \\\n",
       "Values                False          0.5385          0.975   \n",
       "Values                False          0.3074          0.937   \n",
       "\n",
       "                                      energy_distribution  \\\n",
       "Values                         -26.0, -24.0, -21.0, -20.0   \n",
       "Values  -24.0, -17.0, -12.0, -11.0, 20.0, 21.0, 22.0, ...   \n",
       "\n",
       "                          multiplicity  \n",
       "Values                406, 525, 18, 26  \n",
       "Values  288, 2, 138, 445, 3, 27, 32, 2  "
      ]
     },
     "execution_count": 84,
     "metadata": {},
     "output_type": "execute_result"
    }
   ],
   "source": [
    "import os\n",
    "\n",
    "directory = 'data'\n",
    "\n",
    "dataframes = []\n",
    "\n",
    "for filename in os.listdir(directory):\n",
    "    f = os.path.join(directory, filename)\n",
    "    if os.path.isfile(f) and f.endswith(\".json\"):\n",
    "        print(f)\n",
    "        df, param = load_json(f,return_param = True, return_qubo = False)\n",
    "        param = param.transpose()\n",
    "        \n",
    "        param['ratio_feasible'] = ratio_feasible(df,param['num_vacancies'].values[0])\n",
    "        param['broken_chains'] = ratio_broken_chains(df)\n",
    "        param['energy_distribution'] = ', '.join(str(x) for x in energy_distribution(df)[0])\n",
    "        param['multiplicity'] = ', '.join(str(x) for x in energy_distribution(df)[1])\n",
    "        \n",
    "        dataframes.append(param)\n",
    "pd.concat(dataframes)"
   ]
  },
  {
   "cell_type": "code",
   "execution_count": 20,
   "id": "546c0844",
   "metadata": {},
   "outputs": [
    {
     "data": {
      "text/html": [
       "<div>\n",
       "<style scoped>\n",
       "    .dataframe tbody tr th:only-of-type {\n",
       "        vertical-align: middle;\n",
       "    }\n",
       "\n",
       "    .dataframe tbody tr th {\n",
       "        vertical-align: top;\n",
       "    }\n",
       "\n",
       "    .dataframe thead th {\n",
       "        text-align: right;\n",
       "    }\n",
       "</style>\n",
       "<table border=\"1\" class=\"dataframe\">\n",
       "  <thead>\n",
       "    <tr style=\"text-align: right;\">\n",
       "      <th></th>\n",
       "      <th>date_time</th>\n",
       "      <th>structure</th>\n",
       "      <th>N atoms</th>\n",
       "      <th>model</th>\n",
       "      <th>use_coord</th>\n",
       "      <th>num_vacancies</th>\n",
       "      <th>weight_1</th>\n",
       "      <th>weight_2</th>\n",
       "      <th>lagrange</th>\n",
       "      <th>num_reads</th>\n",
       "      <th>time_limit</th>\n",
       "      <th>label</th>\n",
       "      <th>remove_broken_chains</th>\n",
       "    </tr>\n",
       "  </thead>\n",
       "  <tbody>\n",
       "    <tr>\n",
       "      <th>Values</th>\n",
       "      <td>07/05/2022, 17:49:11</td>\n",
       "      <td>C18</td>\n",
       "      <td>18</td>\n",
       "      <td>bqm</td>\n",
       "      <td>False</td>\n",
       "      <td>1</td>\n",
       "      <td>1</td>\n",
       "      <td>0</td>\n",
       "      <td>10</td>\n",
       "      <td>1000</td>\n",
       "      <td>0</td>\n",
       "      <td>Test anneal</td>\n",
       "      <td>False</td>\n",
       "    </tr>\n",
       "  </tbody>\n",
       "</table>\n",
       "</div>"
      ],
      "text/plain": [
       "                   date_time structure N atoms model use_coord num_vacancies  \\\n",
       "Values  07/05/2022, 17:49:11       C18      18   bqm     False             1   \n",
       "\n",
       "       weight_1 weight_2 lagrange num_reads time_limit        label  \\\n",
       "Values        1        0       10      1000          0  Test anneal   \n",
       "\n",
       "       remove_broken_chains  \n",
       "Values                False  "
      ]
     },
     "execution_count": 20,
     "metadata": {},
     "output_type": "execute_result"
    }
   ],
   "source": [
    "b.transpose()"
   ]
  },
  {
   "cell_type": "code",
   "execution_count": 51,
   "id": "9a451344",
   "metadata": {},
   "outputs": [],
   "source": [
    "a,b = load_json('data/graphene_C18_bqm_v1_cF_w11_w20_l1_r1000_t0.json',return_param = True, return_qubo = False)\n",
    "c,d = load_json('data/graphene_C18_bqm_v1_cF_w11_w20_l10_r1000_t0.json',return_param = True, return_qubo = False)"
   ]
  },
  {
   "cell_type": "code",
   "execution_count": 66,
   "id": "d6b30dfc",
   "metadata": {},
   "outputs": [
    {
     "data": {
      "text/html": [
       "<div>\n",
       "<style scoped>\n",
       "    .dataframe tbody tr th:only-of-type {\n",
       "        vertical-align: middle;\n",
       "    }\n",
       "\n",
       "    .dataframe tbody tr th {\n",
       "        vertical-align: top;\n",
       "    }\n",
       "\n",
       "    .dataframe thead th {\n",
       "        text-align: right;\n",
       "    }\n",
       "</style>\n",
       "<table border=\"1\" class=\"dataframe\">\n",
       "  <thead>\n",
       "    <tr style=\"text-align: right;\">\n",
       "      <th></th>\n",
       "      <th>date_time</th>\n",
       "      <th>structure</th>\n",
       "      <th>N atoms</th>\n",
       "      <th>model</th>\n",
       "      <th>use_coord</th>\n",
       "      <th>num_vacancies</th>\n",
       "      <th>weight_1</th>\n",
       "      <th>weight_2</th>\n",
       "      <th>lagrange</th>\n",
       "      <th>num_reads</th>\n",
       "      <th>time_limit</th>\n",
       "      <th>label</th>\n",
       "      <th>remove_broken_chains</th>\n",
       "      <th>ratio</th>\n",
       "    </tr>\n",
       "  </thead>\n",
       "  <tbody>\n",
       "    <tr>\n",
       "      <th>Values</th>\n",
       "      <td>07/05/2022, 17:49:03</td>\n",
       "      <td>C18</td>\n",
       "      <td>18</td>\n",
       "      <td>bqm</td>\n",
       "      <td>False</td>\n",
       "      <td>1</td>\n",
       "      <td>1</td>\n",
       "      <td>0</td>\n",
       "      <td>1</td>\n",
       "      <td>1000</td>\n",
       "      <td>0</td>\n",
       "      <td>Test anneal</td>\n",
       "      <td>False</td>\n",
       "      <td>-26.0,-24.0,-21.0,-20.0</td>\n",
       "    </tr>\n",
       "    <tr>\n",
       "      <th>Values</th>\n",
       "      <td>07/05/2022, 17:49:11</td>\n",
       "      <td>C18</td>\n",
       "      <td>18</td>\n",
       "      <td>bqm</td>\n",
       "      <td>False</td>\n",
       "      <td>1</td>\n",
       "      <td>1</td>\n",
       "      <td>0</td>\n",
       "      <td>10</td>\n",
       "      <td>1000</td>\n",
       "      <td>0</td>\n",
       "      <td>Test anneal</td>\n",
       "      <td>False</td>\n",
       "      <td>-26.0,-24.0,-21.0,-20.0</td>\n",
       "    </tr>\n",
       "  </tbody>\n",
       "</table>\n",
       "</div>"
      ],
      "text/plain": [
       "                   date_time structure N atoms model use_coord num_vacancies  \\\n",
       "Values  07/05/2022, 17:49:03       C18      18   bqm     False             1   \n",
       "Values  07/05/2022, 17:49:11       C18      18   bqm     False             1   \n",
       "\n",
       "       weight_1 weight_2 lagrange num_reads time_limit        label  \\\n",
       "Values        1        0        1      1000          0  Test anneal   \n",
       "Values        1        0       10      1000          0  Test anneal   \n",
       "\n",
       "       remove_broken_chains                    ratio  \n",
       "Values                False  -26.0,-24.0,-21.0,-20.0  \n",
       "Values                False  -26.0,-24.0,-21.0,-20.0  "
      ]
     },
     "execution_count": 66,
     "metadata": {},
     "output_type": "execute_result"
    }
   ],
   "source": [
    "e = pd.concat([b.transpose(),d.transpose()])\n",
    "e['ratio'] = [','.join(str(x) for x in energy_distribution(a)[0]),','.join(str(x) for x in energy_distribution(a)[0])]\n",
    "e.sort_values(by=['lagrange'])"
   ]
  },
  {
   "cell_type": "code",
   "execution_count": 42,
   "id": "cf56b85d",
   "metadata": {},
   "outputs": [
    {
     "data": {
      "text/plain": [
       "0.3074"
      ]
     },
     "execution_count": 42,
     "metadata": {},
     "output_type": "execute_result"
    }
   ],
   "source": [
    "ratio_feasible(a,1)"
   ]
  },
  {
   "cell_type": "code",
   "execution_count": 50,
   "id": "43b08e84",
   "metadata": {},
   "outputs": [
    {
     "data": {
      "text/plain": [
       "'-24.0,-17.0,-12.0,-11.0,20.0,21.0,22.0,74.0'"
      ]
     },
     "execution_count": 50,
     "metadata": {},
     "output_type": "execute_result"
    }
   ],
   "source": [
    "','.join(str(x) for x in energy_distribution(a)[0])"
   ]
  },
  {
   "cell_type": "code",
   "execution_count": null,
   "id": "b5d6c538",
   "metadata": {},
   "outputs": [],
   "source": []
  },
  {
   "cell_type": "markdown",
   "id": "9bcac2ac",
   "metadata": {},
   "source": [
    "## Lagrange"
   ]
  },
  {
   "cell_type": "code",
   "execution_count": null,
   "id": "a52622d9",
   "metadata": {},
   "outputs": [],
   "source": []
  },
  {
   "cell_type": "code",
   "execution_count": 141,
   "id": "52974f8b",
   "metadata": {},
   "outputs": [],
   "source": [
    "df = load_json('data/graphene_C18_bqm_v1_cF_w11_w20_l10_r1000_t0.json',return_param = False, return_qubo = False)"
   ]
  },
  {
   "cell_type": "code",
   "execution_count": 142,
   "id": "55e371fa",
   "metadata": {},
   "outputs": [
    {
     "name": "stdout",
     "output_type": "stream",
     "text": [
      "0.937\n",
      "0.9061\n"
     ]
    }
   ],
   "source": [
    "print(ratio_broken_chains(df))\n",
    "print(ratio_feasible(df,1))"
   ]
  },
  {
   "cell_type": "markdown",
   "id": "284849b9",
   "metadata": {},
   "source": [
    "## Chain strength"
   ]
  },
  {
   "cell_type": "code",
   "execution_count": 18,
   "id": "7de7c96e",
   "metadata": {
    "scrolled": true
   },
   "outputs": [],
   "source": [
    "config_all, energy_all, multiplicity_all = find_all_structures(dataframe, sort_config=True)"
   ]
  },
  {
   "cell_type": "code",
   "execution_count": 20,
   "id": "2579ca87",
   "metadata": {},
   "outputs": [
    {
     "data": {
      "text/plain": [
       "294"
      ]
     },
     "execution_count": 20,
     "metadata": {},
     "output_type": "execute_result"
    }
   ],
   "source": [
    "np.sum(multiplicity_all)"
   ]
  },
  {
   "cell_type": "code",
   "execution_count": null,
   "id": "ad7c1a78",
   "metadata": {},
   "outputs": [],
   "source": []
  },
  {
   "cell_type": "markdown",
   "id": "c700089c",
   "metadata": {},
   "source": [
    "## Chain strength"
   ]
  },
  {
   "cell_type": "markdown",
   "id": "56e4c2c2",
   "metadata": {},
   "source": [
    "## Exact solver"
   ]
  }
 ],
 "metadata": {
  "kernelspec": {
   "display_name": "Python 3 (ipykernel)",
   "language": "python",
   "name": "python3"
  },
  "language_info": {
   "codemirror_mode": {
    "name": "ipython",
    "version": 3
   },
   "file_extension": ".py",
   "mimetype": "text/x-python",
   "name": "python",
   "nbconvert_exporter": "python",
   "pygments_lexer": "ipython3",
   "version": "3.9.12"
  }
 },
 "nbformat": 4,
 "nbformat_minor": 5
}

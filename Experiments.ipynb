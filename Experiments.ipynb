{
 "cells": [
  {
   "cell_type": "markdown",
   "id": "70602d04",
   "metadata": {},
   "source": [
    "# Test the performance of the model"
   ]
  },
  {
   "cell_type": "markdown",
   "id": "16392722",
   "metadata": {},
   "source": [
    "## Occurrence of symmetry equivalent structures"
   ]
  }
 ],
 "metadata": {
  "kernelspec": {
   "display_name": "Python 3 (ipykernel)",
   "language": "python",
   "name": "python3"
  },
  "language_info": {
   "codemirror_mode": {
    "name": "ipython",
    "version": 3
   },
   "file_extension": ".py",
   "mimetype": "text/x-python",
   "name": "python",
   "nbconvert_exporter": "python",
   "pygments_lexer": "ipython3",
   "version": "3.9.12"
  }
 },
 "nbformat": 4,
 "nbformat_minor": 5
}
